{
 "cells": [
  {
   "cell_type": "code",
   "execution_count": 7,
   "metadata": {},
   "outputs": [
    {
     "ename": "RuntimeError",
     "evalue": "Exception from src\\frontends\\onnx\\frontend\\src\\utils\\common.cpp:49:\nunsupported element type\n",
     "output_type": "error",
     "traceback": [
      "\u001b[1;31m---------------------------------------------------------------------------\u001b[0m",
      "\u001b[1;31mRuntimeError\u001b[0m                              Traceback (most recent call last)",
      "\u001b[1;32mc:\\Users\\a798708\\Duales Studium\\Dokumente\\Studium\\Studium\\GitHub-Projekte\\RHODS_ML\\test.ipynb Cell 1\u001b[0m line \u001b[0;36m2\n\u001b[0;32m      <a href='vscode-notebook-cell:/c%3A/Users/a798708/Duales%20Studium/Dokumente/Studium/Studium/GitHub-Projekte/RHODS_ML/test.ipynb#W0sZmlsZQ%3D%3D?line=0'>1</a>\u001b[0m \u001b[39mimport\u001b[39;00m \u001b[39mopenvino\u001b[39;00m \u001b[39mas\u001b[39;00m \u001b[39mov\u001b[39;00m\n\u001b[1;32m----> <a href='vscode-notebook-cell:/c%3A/Users/a798708/Duales%20Studium/Dokumente/Studium/Studium/GitHub-Projekte/RHODS_ML/test.ipynb#W0sZmlsZQ%3D%3D?line=1'>2</a>\u001b[0m ov\u001b[39m.\u001b[39;49mconvert_model(\u001b[39m'\u001b[39;49m\u001b[39m./onnx_model_inference.onnx\u001b[39;49m\u001b[39m'\u001b[39;49m)\n",
      "File \u001b[1;32mc:\\Users\\a798708\\Duales Studium\\Dokumente\\Studium\\Studium\\GitHub-Projekte\\RHODS_ML\\.venv\\Lib\\site-packages\\openvino\\tools\\ovc\\convert.py:101\u001b[0m, in \u001b[0;36mconvert_model\u001b[1;34m(input_model, input, output, example_input, extension, verbose, share_weights)\u001b[0m\n\u001b[0;32m     99\u001b[0m logger_state \u001b[39m=\u001b[39m get_logger_state()\n\u001b[0;32m    100\u001b[0m cli_parser \u001b[39m=\u001b[39m get_all_cli_parser()\n\u001b[1;32m--> 101\u001b[0m ov_model, _ \u001b[39m=\u001b[39m _convert(cli_parser, params, \u001b[39mTrue\u001b[39;49;00m)\n\u001b[0;32m    102\u001b[0m restore_logger_state(logger_state)\n\u001b[0;32m    103\u001b[0m \u001b[39mreturn\u001b[39;00m ov_model\n",
      "File \u001b[1;32mc:\\Users\\a798708\\Duales Studium\\Dokumente\\Studium\\Studium\\GitHub-Projekte\\RHODS_ML\\.venv\\Lib\\site-packages\\openvino\\tools\\ovc\\convert_impl.py:524\u001b[0m, in \u001b[0;36m_convert\u001b[1;34m(cli_parser, args, python_api_used)\u001b[0m\n\u001b[0;32m    522\u001b[0m send_conversion_result(\u001b[39m'\u001b[39m\u001b[39mfail\u001b[39m\u001b[39m'\u001b[39m)\n\u001b[0;32m    523\u001b[0m \u001b[39mif\u001b[39;00m python_api_used:\n\u001b[1;32m--> 524\u001b[0m     \u001b[39mraise\u001b[39;00m e\n\u001b[0;32m    525\u001b[0m \u001b[39melse\u001b[39;00m:\n\u001b[0;32m    526\u001b[0m     \u001b[39mreturn\u001b[39;00m \u001b[39mNone\u001b[39;00m, argv\n",
      "File \u001b[1;32mc:\\Users\\a798708\\Duales Studium\\Dokumente\\Studium\\Studium\\GitHub-Projekte\\RHODS_ML\\.venv\\Lib\\site-packages\\openvino\\tools\\ovc\\convert_impl.py:476\u001b[0m, in \u001b[0;36m_convert\u001b[1;34m(cli_parser, args, python_api_used)\u001b[0m\n\u001b[0;32m    472\u001b[0m argv\u001b[39m.\u001b[39mis_python_api_used \u001b[39m=\u001b[39m python_api_used\n\u001b[0;32m    474\u001b[0m argv\u001b[39m.\u001b[39mframework \u001b[39m=\u001b[39m model_framework\n\u001b[1;32m--> 476\u001b[0m ov_model \u001b[39m=\u001b[39m driver(argv, {\u001b[39m\"\u001b[39;49m\u001b[39mconversion_parameters\u001b[39;49m\u001b[39m\"\u001b[39;49m: non_default_params})\n\u001b[0;32m    478\u001b[0m \u001b[39mif\u001b[39;00m inp_model_is_object \u001b[39mand\u001b[39;00m model_framework \u001b[39m==\u001b[39m \u001b[39m\"\u001b[39m\u001b[39mpaddle\u001b[39m\u001b[39m\"\u001b[39m:\n\u001b[0;32m    479\u001b[0m     \u001b[39mif\u001b[39;00m paddle_runtime_converter:\n",
      "File \u001b[1;32mc:\\Users\\a798708\\Duales Studium\\Dokumente\\Studium\\Studium\\GitHub-Projekte\\RHODS_ML\\.venv\\Lib\\site-packages\\openvino\\tools\\ovc\\convert_impl.py:226\u001b[0m, in \u001b[0;36mdriver\u001b[1;34m(argv, non_default_params)\u001b[0m\n\u001b[0;32m    222\u001b[0m log\u001b[39m.\u001b[39mdebug(\u001b[39mstr\u001b[39m(non_default_params))\n\u001b[0;32m    224\u001b[0m start_time \u001b[39m=\u001b[39m datetime\u001b[39m.\u001b[39mdatetime\u001b[39m.\u001b[39mnow()\n\u001b[1;32m--> 226\u001b[0m ov_model \u001b[39m=\u001b[39m moc_emit_ir(prepare_ir(argv), argv)\n\u001b[0;32m    228\u001b[0m \u001b[39mif\u001b[39;00m argv\u001b[39m.\u001b[39mverbose:\n\u001b[0;32m    229\u001b[0m     elapsed_time \u001b[39m=\u001b[39m datetime\u001b[39m.\u001b[39mdatetime\u001b[39m.\u001b[39mnow() \u001b[39m-\u001b[39m start_time\n",
      "File \u001b[1;32mc:\\Users\\a798708\\Duales Studium\\Dokumente\\Studium\\Studium\\GitHub-Projekte\\RHODS_ML\\.venv\\Lib\\site-packages\\openvino\\tools\\ovc\\convert_impl.py:172\u001b[0m, in \u001b[0;36mprepare_ir\u001b[1;34m(argv)\u001b[0m\n\u001b[0;32m    170\u001b[0m         \u001b[39mfor\u001b[39;00m extension \u001b[39min\u001b[39;00m argv\u001b[39m.\u001b[39mextension:\n\u001b[0;32m    171\u001b[0m             moc_front_end\u001b[39m.\u001b[39madd_extension(extension)\n\u001b[1;32m--> 172\u001b[0m     ov_model \u001b[39m=\u001b[39m moc_pipeline(argv, moc_front_end)\n\u001b[0;32m    173\u001b[0m     \u001b[39mreturn\u001b[39;00m ov_model\n\u001b[0;32m    175\u001b[0m \u001b[39mif\u001b[39;00m \u001b[39mnot\u001b[39;00m argv\u001b[39m.\u001b[39minput_model:\n",
      "File \u001b[1;32mc:\\Users\\a798708\\Duales Studium\\Dokumente\\Studium\\Studium\\GitHub-Projekte\\RHODS_ML\\.venv\\Lib\\site-packages\\openvino\\tools\\ovc\\moc_frontend\\pipeline.py:247\u001b[0m, in \u001b[0;36mmoc_pipeline\u001b[1;34m(argv, moc_front_end)\u001b[0m\n\u001b[0;32m    243\u001b[0m \u001b[39mdef\u001b[39;00m \u001b[39mshape_to_array\u001b[39m(shape: PartialShape):\n\u001b[0;32m    244\u001b[0m     \u001b[39mreturn\u001b[39;00m [shape\u001b[39m.\u001b[39mget_dimension(i) \u001b[39mfor\u001b[39;00m i \u001b[39min\u001b[39;00m \u001b[39mrange\u001b[39m(shape\u001b[39m.\u001b[39mrank\u001b[39m.\u001b[39mget_length())]\n\u001b[1;32m--> 247\u001b[0m ov_model \u001b[39m=\u001b[39m moc_front_end\u001b[39m.\u001b[39;49mconvert(input_model)\n\u001b[0;32m    249\u001b[0m \u001b[39mreturn\u001b[39;00m ov_model\n",
      "File \u001b[1;32mc:\\Users\\a798708\\Duales Studium\\Dokumente\\Studium\\Studium\\GitHub-Projekte\\RHODS_ML\\.venv\\Lib\\site-packages\\openvino\\frontend\\frontend.py:18\u001b[0m, in \u001b[0;36mFrontEnd.convert\u001b[1;34m(self, model)\u001b[0m\n\u001b[0;32m     17\u001b[0m \u001b[39mdef\u001b[39;00m \u001b[39mconvert\u001b[39m(\u001b[39mself\u001b[39m, model: Union[Model, InputModel]) \u001b[39m-\u001b[39m\u001b[39m>\u001b[39m Model:\n\u001b[1;32m---> 18\u001b[0m     converted_model \u001b[39m=\u001b[39m \u001b[39msuper\u001b[39;49m()\u001b[39m.\u001b[39;49mconvert(model)\n\u001b[0;32m     19\u001b[0m     \u001b[39mif\u001b[39;00m \u001b[39misinstance\u001b[39m(model, InputModel):\n\u001b[0;32m     20\u001b[0m         \u001b[39mreturn\u001b[39;00m Model(converted_model)\n",
      "\u001b[1;31mRuntimeError\u001b[0m: Exception from src\\frontends\\onnx\\frontend\\src\\utils\\common.cpp:49:\nunsupported element type\n"
     ]
    }
   ],
   "source": [
    "import openvino as ov\n",
    "ov.convert_model('./onnx_model_inference.onnx')"
   ]
  }
 ],
 "metadata": {
  "kernelspec": {
   "display_name": ".venv",
   "language": "python",
   "name": "python3"
  },
  "language_info": {
   "codemirror_mode": {
    "name": "ipython",
    "version": 3
   },
   "file_extension": ".py",
   "mimetype": "text/x-python",
   "name": "python",
   "nbconvert_exporter": "python",
   "pygments_lexer": "ipython3",
   "version": "3.11.4"
  }
 },
 "nbformat": 4,
 "nbformat_minor": 2
}
