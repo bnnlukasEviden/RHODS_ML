{
  "cells": [
    {
      "cell_type": "markdown",
      "metadata": {
        "id": "8dXdiP3wjZjD"
      },
      "source": [
        "# Imports"
      ]
    },
    {
      "cell_type": "code",
      "execution_count": 1,
      "metadata": {
        "id": "zEXhS0YLp4zl"
      },
      "outputs": [],
      "source": [
        "#!pip install pyspark onnxmltools boto3 pd matplotlib"
      ]
    },
    {
      "cell_type": "code",
      "execution_count": 2,
      "metadata": {
        "id": "rxxKcQi3jZjE"
      },
      "outputs": [],
      "source": [
        "import pyspark\n",
        "from pyspark.sql import SparkSession\n",
        "from pyspark.ml.feature import VectorAssembler\n",
        "import pyspark.sql.functions as F\n",
        "from pyspark.sql.functions import sum, when, avg, max, col, dayofweek, count, month, lit, mean\n",
        "from pyspark.sql.window import Window\n",
        "from pyspark.ml.feature import StringIndexer, OneHotEncoder, Imputer\n",
        "from pyspark.ml import Pipeline\n",
        "from pyspark.ml.regression import GBTRegressor\n",
        "from pyspark.ml.feature import VectorAssembler\n",
        "from pyspark.ml.evaluation import RegressionEvaluator\n",
        "from pyspark.ml.tuning import ParamGridBuilder, CrossValidator\n",
        "from pyspark.ml.regression import RandomForestRegressor\n",
        "from pyspark.sql.functions import expr\n",
        "from pyspark.sql import Row\n",
        "from pyspark.sql.types import DateType\n",
        "\n",
        "from onnxmltools import convert_sparkml\n",
        "from onnxmltools.convert.sparkml.utils import buildInitialTypesSimple\n",
        "\n",
        "import boto3\n",
        "from botocore.exceptions import NoCredentialsError\n",
        "\n",
        "import pandas as pd\n",
        "from io import StringIO"
      ]
    },
    {
      "cell_type": "code",
      "execution_count": 3,
      "metadata": {
        "id": "zZK781OCjZjF"
      },
      "outputs": [],
      "source": [
        "import warnings\n",
        "\n",
        "warnings.filterwarnings(\"ignore\", category=FutureWarning)"
      ]
    },
    {
      "cell_type": "code",
      "execution_count": 4,
      "metadata": {
        "id": "STK-tQCrjZjF"
      },
      "outputs": [],
      "source": [
        "spark = SparkSession.builder.appName('RHODS').getOrCreate()"
      ]
    },
    {
      "cell_type": "code",
      "execution_count": 5,
      "metadata": {
        "id": "3jM4p9ZkjZjF"
      },
      "outputs": [],
      "source": [
        "spark.catalog.clearCache()\n",
        "spark.conf.set(\"spark.sql.autoBroadcastJoinThreshold\", 1024 * 1024 * 1024)"
      ]
    },
    {
      "cell_type": "markdown",
      "metadata": {
        "id": "eIZlgoT_jZjG"
      },
      "source": [
        "# Data extraction"
      ]
    },
    {
      "cell_type": "code",
      "execution_count": 6,
      "metadata": {
        "id": "pkgSAi_HjZjG"
      },
      "outputs": [],
      "source": [
        "ionos_endpoint_url = 'https://sales-challenge.s3-eu-central-1.ionoscloud.com'\n",
        "ionos_region = 'de'\n",
        "\n",
        "ionos_access_key = '00d4804864744cc11eb4'\n",
        "ionos_secret_key = 'peqgMLZSwt59HRwg+BgAMxeuwDkkIwkYcTVRSZWq'\n",
        "\n",
        "s3 = boto3.client('s3',\n",
        "    aws_access_key_id=ionos_access_key,\n",
        "    aws_secret_access_key=ionos_secret_key,\n",
        "    endpoint_url=ionos_endpoint_url,\n",
        "    region_name=ionos_region\n",
        ")\n",
        "\n",
        "\n",
        "'''\n",
        "SPARK\n",
        "'''\n",
        "\n",
        "spark = SparkSession.builder.appName('RHODS').getOrCreate()\n",
        "\n",
        "spark.catalog.clearCache()\n",
        "spark.conf.set(\"spark.sql.autoBroadcastJoinThreshold\", 1024 * 1024 * 1024)\n",
        "\n",
        "'''\n",
        "DATA EXTRACTION\n",
        "'''\n",
        "\n",
        "bucket_name_csv = 'csv'\n",
        "\n",
        "file_names = ['train', 'oil', 'holidays_events','transactions']\n",
        "Data = {}\n",
        "\n",
        "for x in file_names:\n",
        "    bucket_name = 'csv'\n",
        "    object_key = x + '.csv'\n",
        "    csv_obj = s3.get_object(Bucket=bucket_name, Key=object_key)\n",
        "    body = csv_obj['Body']\n",
        "    csv_string = body.read().decode('utf-8')\n",
        "    df = spark.createDataFrame(pd.read_csv(StringIO(csv_string)))\n",
        "    Data[x] = df\n",
        "\n",
        "main_df = Data['train']\n",
        "oil_df = Data['oil']\n",
        "holidays_df = Data['holidays_events']\n",
        "transactions_df = Data['transactions']"
      ]
    },
    {
      "cell_type": "markdown",
      "metadata": {
        "id": "X0ImIAC7jZjG"
      },
      "source": [
        "# Feature Engineering"
      ]
    },
    {
      "cell_type": "code",
      "execution_count": 7,
      "metadata": {
        "colab": {
          "base_uri": "https://localhost:8080/"
        },
        "id": "zEzaxAu9jZjG",
        "outputId": "8dd5c8cd-091d-4b82-ca2e-c9ea9ab066cf"
      },
      "outputs": [
        {
          "name": "stdout",
          "output_type": "stream",
          "text": [
            "+---+----------+---------+-------------------+-----+-----------+\n",
            "| id|      date|store_nbr|             family|sales|onpromotion|\n",
            "+---+----------+---------+-------------------+-----+-----------+\n",
            "|  0|2013-01-01|        1|         AUTOMOTIVE|  0.0|          0|\n",
            "|  1|2013-01-01|        1|          BABY CARE|  0.0|          0|\n",
            "|  2|2013-01-01|        1|             BEAUTY|  0.0|          0|\n",
            "|  3|2013-01-01|        1|          BEVERAGES|  0.0|          0|\n",
            "|  4|2013-01-01|        1|              BOOKS|  0.0|          0|\n",
            "|  5|2013-01-01|        1|       BREAD/BAKERY|  0.0|          0|\n",
            "|  6|2013-01-01|        1|        CELEBRATION|  0.0|          0|\n",
            "|  7|2013-01-01|        1|           CLEANING|  0.0|          0|\n",
            "|  8|2013-01-01|        1|              DAIRY|  0.0|          0|\n",
            "|  9|2013-01-01|        1|               DELI|  0.0|          0|\n",
            "| 10|2013-01-01|        1|               EGGS|  0.0|          0|\n",
            "| 11|2013-01-01|        1|       FROZEN FOODS|  0.0|          0|\n",
            "| 12|2013-01-01|        1|          GROCERY I|  0.0|          0|\n",
            "| 13|2013-01-01|        1|         GROCERY II|  0.0|          0|\n",
            "| 14|2013-01-01|        1|           HARDWARE|  0.0|          0|\n",
            "| 15|2013-01-01|        1| HOME AND KITCHEN I|  0.0|          0|\n",
            "| 16|2013-01-01|        1|HOME AND KITCHEN II|  0.0|          0|\n",
            "| 17|2013-01-01|        1|    HOME APPLIANCES|  0.0|          0|\n",
            "| 18|2013-01-01|        1|          HOME CARE|  0.0|          0|\n",
            "| 19|2013-01-01|        1|         LADIESWEAR|  0.0|          0|\n",
            "+---+----------+---------+-------------------+-----+-----------+\n",
            "only showing top 20 rows\n",
            "\n"
          ]
        }
      ],
      "source": [
        "main_df.show()"
      ]
    },
    {
      "cell_type": "markdown",
      "metadata": {
        "id": "OAF89StljZjG"
      },
      "source": [
        "## Train_df Aggregation, Date transformation"
      ]
    },
    {
      "cell_type": "code",
      "execution_count": 8,
      "metadata": {
        "colab": {
          "base_uri": "https://localhost:8080/"
        },
        "id": "TUH4N_s8jZjG",
        "outputId": "ef1a239e-c9d7-48ca-f0a1-8a47d45447c9"
      },
      "outputs": [
        {
          "name": "stdout",
          "output_type": "stream",
          "text": [
            "+----------+-------------------+---------+-----------+-----------+-----+\n",
            "|date      |family             |sales    |onpromotion|day_of_week|month|\n",
            "+----------+-------------------+---------+-----------+-----------+-----+\n",
            "|2013-01-01|AUTOMOTIVE         |0.0      |0          |3          |1    |\n",
            "|2013-01-01|BABY CARE          |0.0      |0          |3          |1    |\n",
            "|2013-01-01|BEAUTY             |2.0      |0          |3          |1    |\n",
            "|2013-01-01|BEVERAGES          |810.0    |0          |3          |1    |\n",
            "|2013-01-01|BOOKS              |0.0      |0          |3          |1    |\n",
            "|2013-01-01|BREAD/BAKERY       |180.589  |0          |3          |1    |\n",
            "|2013-01-01|CELEBRATION        |0.0      |0          |3          |1    |\n",
            "|2013-01-01|CLEANING           |186.0    |0          |3          |1    |\n",
            "|2013-01-01|DAIRY              |143.0    |0          |3          |1    |\n",
            "|2013-01-01|DELI               |71.09    |0          |3          |1    |\n",
            "|2013-01-01|EGGS               |46.0     |0          |3          |1    |\n",
            "|2013-01-01|FROZEN FOODS       |29.654999|0          |3          |1    |\n",
            "|2013-01-01|GROCERY I          |700.0    |0          |3          |1    |\n",
            "|2013-01-01|GROCERY II         |15.0     |0          |3          |1    |\n",
            "|2013-01-01|HARDWARE           |0.0      |0          |3          |1    |\n",
            "|2013-01-01|HOME AND KITCHEN I |0.0      |0          |3          |1    |\n",
            "|2013-01-01|HOME AND KITCHEN II|0.0      |0          |3          |1    |\n",
            "|2013-01-01|HOME APPLIANCES    |0.0      |0          |3          |1    |\n",
            "|2013-01-01|HOME CARE          |0.0      |0          |3          |1    |\n",
            "|2013-01-01|LADIESWEAR         |0.0      |0          |3          |1    |\n",
            "+----------+-------------------+---------+-----------+-----------+-----+\n",
            "only showing top 20 rows\n",
            "\n"
          ]
        }
      ],
      "source": [
        "# Aggregation of the main_df to get the sales volumes aggregatet over all stores for each product family and date\n",
        "agg_df = main_df.groupBy('date', 'family').agg(sum('sales').alias(\"sales\"), sum('onpromotion').alias(\"onpromotion\"))\n",
        "\n",
        "# Adding of features related to the day of the week and the month of each record based on the date\n",
        "agg_df = agg_df.withColumn('day_of_week', dayofweek(agg_df.date)).withColumn('month', month(agg_df.date))\n",
        "agg_df.sort(col(\"date\"), col(\"family\")).show(truncate = False)"
      ]
    },
    {
      "cell_type": "markdown",
      "metadata": {
        "id": "5bBXqlZ9iz8z"
      },
      "source": [
        "# Visuals"
      ]
    },
    {
      "cell_type": "code",
      "execution_count": 9,
      "metadata": {
        "id": "uJjGv-h8iz8z"
      },
      "outputs": [],
      "source": [
        "# converting pyspark Df to pandas\n",
        "agg_df_pandas = agg_df.toPandas()"
      ]
    },
    {
      "cell_type": "code",
      "execution_count": 10,
      "metadata": {
        "id": "2dtVehAGiz8z"
      },
      "outputs": [],
      "source": [
        "# function for plotting\n",
        "\n",
        "def plotting_1(df, grouper, target, plot_title):\n",
        "       import pandas as pd\n",
        "       import matplotlib.pyplot as plt\n",
        "       grouper_target = pd.DataFrame(df.groupby(grouper)[target].mean()).reset_index()\n",
        "       # plotting the head and tail from the data frame including mean prices of car manufacturers\n",
        "       df_plt = pd.concat([grouper_target.sort_values(target, ascending=False).head(), grouper_target.sort_values(target, ascending=False).tail()])\n",
        "\n",
        "       fig = plt.figure(figsize=(15, 8))\n",
        "       ax = fig.add_axes([0,0,1,1])\n",
        "       langs = df_plt[grouper]\n",
        "       plot_obj = df_plt[target]\n",
        "       ax.bar(langs,plot_obj, width = 0.9)\n",
        "       ax.set(xlabel=grouper,\n",
        "              ylabel=('average {}'.format(target)))\n",
        "       ax.set_title(plot_title, fontsize=20)\n",
        "       plt.show()"
      ]
    },
    {
      "cell_type": "code",
      "execution_count": 11,
      "metadata": {
        "colab": {
          "base_uri": "https://localhost:8080/",
          "height": 852
        },
        "id": "Dd3dLwlmiz80",
        "outputId": "05a0c4ca-be8a-47e4-f13c-1a898b164f7c"
      },
      "outputs": [
        {
          "data": {
            "image/png": "[encoded data removed]",
            "text/plain": [
              "<Figure size 1500x800 with 1 Axes>"
            ]
          },
          "metadata": {},
          "output_type": "display_data"
        }
      ],
      "source": [
        "plotting_1(df = agg_df_pandas,\n",
        "           grouper = \"family\",\n",
        "           target = \"sales\",\n",
        "           plot_title='average (aggregated) daily sales per product family')"
      ]
    },
    {
      "cell_type": "markdown",
      "metadata": {
        "id": "WAmAeTufjZjG"
      },
      "source": [
        "## Oil_df Merge\n",
        "In this section the agg_df and the oil_df are getting merged to use the oil price in the ML-Part of the project"
      ]
    },
    {
      "cell_type": "markdown",
      "metadata": {
        "id": "2PTK1v3HjD5l"
      },
      "source": [
        "### Preprocessing"
      ]
    },
    {
      "cell_type": "code",
      "execution_count": 12,
      "metadata": {
        "colab": {
          "base_uri": "https://localhost:8080/"
        },
        "id": "v26AmAKkhjeR",
        "outputId": "9db43162-6a1d-449f-eac9-5beb88666634"
      },
      "outputs": [
        {
          "name": "stdout",
          "output_type": "stream",
          "text": [
            "Procentual number of NaN-Values: 28.56294536817102%\n"
          ]
        }
      ],
      "source": [
        "# Aggregating the oil_df and the agg_df\n",
        "agg_oil_merge_df = agg_df.join(oil_df, on='date', how='left') # left join agg_df and oil_df\n",
        "agg_oil_merge_df = agg_oil_merge_df.dropDuplicates(['date']) # reduce df to one row per date\n",
        "\n",
        "# Calculate the percentage of NaN values in the 'dcoilwtico' column\n",
        "percentage_nan = (agg_oil_merge_df.filter(col(\"dcoilwtico\").isNull()).count() / agg_oil_merge_df.count()) * 100\n",
        "print(f'Procentual number of NaN-Values: {percentage_nan}%')"
      ]
    },
    {
      "cell_type": "markdown",
      "metadata": {
        "id": "pgpR_JXKl3bX"
      },
      "source": [
        "Because of the high number of NaN-Values regarding the oilprice-value we decided to do a oilprice forecast"
      ]
    },
    {
      "cell_type": "code",
      "execution_count": 13,
      "metadata": {
        "colab": {
          "base_uri": "https://localhost:8080/",
          "height": 466
        },
        "id": "z-aI-cstiz81",
        "outputId": "81a941af-bf53-4c2b-fe5a-fb2a92594470"
      },
      "outputs": [
        {
          "data": {
            "text/plain": [
              "[]"
            ]
          },
          "execution_count": 13,
          "metadata": {},
          "output_type": "execute_result"
        },
        {
          "data": {
            "image/png": "[encoded data removed]",
            "text/plain": [
              "<Figure size 640x480 with 1 Axes>"
            ]
          },
          "metadata": {},
          "output_type": "display_data"
        }
      ],
      "source": [
        "# plotting boxplots month against oil price\n",
        "import seaborn as sns\n",
        "import pandas as pd\n",
        "\n",
        "sns.boxplot(x = \"month\", y = \"dcoilwtico\", data = agg_oil_merge_df.toPandas()).set()"
      ]
    },
    {
      "cell_type": "markdown",
      "metadata": {
        "id": "C4Nw4OtxmIin"
      },
      "source": [
        "### Oilprice forecast"
      ]
    },
    {
      "cell_type": "code",
      "execution_count": 14,
      "metadata": {
        "id": "bnmaajceh1Mh"
      },
      "outputs": [],
      "source": [
        "# Create a subset of agg_oil_merge_df to forecast the oil prices\n",
        "oil_forecast_df = agg_oil_merge_df.select('date', 'dcoilwtico', 'day_of_week', 'month')"
      ]
    },
    {
      "cell_type": "code",
      "execution_count": 15,
      "metadata": {
        "colab": {
          "base_uri": "https://localhost:8080/"
        },
        "id": "1hNbSyIZiFY7",
        "outputId": "64c307cb-1f61-4ac7-9117-4d40237d9ff3"
      },
      "outputs": [
        {
          "name": "stdout",
          "output_type": "stream",
          "text": [
            "+----------+----------+-----------+-----+-----+-----+-----+-----+-----+\n",
            "|      date|dcoilwtico|day_of_week|month|lag_1|lag_2|lag_3|lag_4|lag_5|\n",
            "+----------+----------+-----------+-----+-----+-----+-----+-----+-----+\n",
            "|2013-01-01|       NaN|          3|    1| NULL| NULL| NULL| NULL| NULL|\n",
            "|2013-01-02|     93.14|          4|    1|  NaN| NULL| NULL| NULL| NULL|\n",
            "|2013-01-03|     92.97|          5|    1|93.14|  NaN| NULL| NULL| NULL|\n",
            "|2013-01-04|     93.12|          6|    1|92.97|93.14|  NaN| NULL| NULL|\n",
            "|2013-01-05|      NULL|          7|    1|93.12|92.97|93.14|  NaN| NULL|\n",
            "|2013-01-06|      NULL|          1|    1| NULL|93.12|92.97|93.14|  NaN|\n",
            "|2013-01-07|      93.2|          2|    1| NULL| NULL|93.12|92.97|93.14|\n",
            "|2013-01-08|     93.21|          3|    1| 93.2| NULL| NULL|93.12|92.97|\n",
            "|2013-01-09|     93.08|          4|    1|93.21| 93.2| NULL| NULL|93.12|\n",
            "|2013-01-10|     93.81|          5|    1|93.08|93.21| 93.2| NULL| NULL|\n",
            "|2013-01-11|      93.6|          6|    1|93.81|93.08|93.21| 93.2| NULL|\n",
            "|2013-01-12|      NULL|          7|    1| 93.6|93.81|93.08|93.21| 93.2|\n",
            "|2013-01-13|      NULL|          1|    1| NULL| 93.6|93.81|93.08|93.21|\n",
            "|2013-01-14|     94.27|          2|    1| NULL| NULL| 93.6|93.81|93.08|\n",
            "|2013-01-15|     93.26|          3|    1|94.27| NULL| NULL| 93.6|93.81|\n",
            "|2013-01-16|     94.28|          4|    1|93.26|94.27| NULL| NULL| 93.6|\n",
            "|2013-01-17|     95.49|          5|    1|94.28|93.26|94.27| NULL| NULL|\n",
            "|2013-01-18|     95.61|          6|    1|95.49|94.28|93.26|94.27| NULL|\n",
            "|2013-01-19|      NULL|          7|    1|95.61|95.49|94.28|93.26|94.27|\n",
            "|2013-01-20|      NULL|          1|    1| NULL|95.61|95.49|94.28|93.26|\n",
            "+----------+----------+-----------+-----+-----+-----+-----+-----+-----+\n",
            "only showing top 20 rows\n",
            "\n"
          ]
        }
      ],
      "source": [
        "n_lags = 5\n",
        "window_spec = Window.orderBy('date')\n",
        "for i in range(1, n_lags+1):\n",
        "  oil_forecast_df = oil_forecast_df.withColumn(\"lag_{}\".format(i), F.lag(\"dcoilwtico\", offset = i).over(window_spec).cast('float'))\n",
        "\n",
        "oil_forecast_df = oil_forecast_df.withColumn(\"dcoilwtico\", oil_forecast_df[\"dcoilwtico\"].cast('float'))\n",
        "oil_forecast_df.show()"
      ]
    },
    {
      "cell_type": "markdown",
      "metadata": {
        "id": "fWWLlJYejG-E"
      },
      "source": [
        "#### Data transformation/encoding/split, Pipeline creation"
      ]
    },
    {
      "cell_type": "code",
      "execution_count": 16,
      "metadata": {
        "id": "anZXDMBbjKF7"
      },
      "outputs": [],
      "source": [
        "numerical_cols_oil = ['lag_1', 'lag_2', 'lag_3', 'lag_4', 'lag_5']\n",
        "categorical_cols_oil = ['day_of_week', 'month']\n",
        "\n",
        "# Defining the encoder for encoding the categorical values\n",
        "encoder_oil = OneHotEncoder(inputCols=categorical_cols_oil,\n",
        "                        outputCols=[f\"{col}_encoded\" for col in categorical_cols_oil])\n",
        "\n",
        "oil_forecast_encoded_df = encoder_oil.fit(oil_forecast_df).transform(oil_forecast_df)"
      ]
    },
    {
      "cell_type": "code",
      "execution_count": 17,
      "metadata": {
        "id": "PqBnZW0XjizT"
      },
      "outputs": [],
      "source": [
        "# Create the train set of data with oil prices\n",
        "oil_fc_train = oil_forecast_encoded_df.na.drop(subset=[\"dcoilwtico\"])\n",
        "# Create the prediction set of data without oil prices\n",
        "oil_fc_pred = oil_forecast_encoded_df.filter(oil_forecast_encoded_df['dcoilwtico'].isNull())"
      ]
    },
    {
      "cell_type": "code",
      "execution_count": 18,
      "metadata": {
        "id": "LtrUts9wkJcC"
      },
      "outputs": [],
      "source": [
        "# Set the imputer\n",
        "numerical_imputer_oil = Imputer(strategy=\"median\", inputCols=numerical_cols_oil, outputCols=[f\"{col}_imputed\" for col in numerical_cols_oil])\n",
        "\n",
        "# Assemble features into a single vector\n",
        "feature_cols_oil = [f\"{col}_imputed\" for col in numerical_cols_oil] + [f\"{col}_encoded\" for col in categorical_cols_oil]\n",
        "assembler_oil = VectorAssembler(inputCols=feature_cols_oil, outputCol=\"features\")\n",
        "\n",
        "# Initialise the oilprice prediction model\n",
        "rfr_oil = RandomForestRegressor(featuresCol='features', labelCol='dcoilwtico')\n",
        "\n",
        "# Create the data preprocessing pipeline\n",
        "pipeline_oil = Pipeline(stages=[numerical_imputer_oil, assembler_oil, rfr_oil]) # pipeline for cross validation"
      ]
    },
    {
      "cell_type": "markdown",
      "metadata": {
        "id": "AeFhqhSJlHvu"
      },
      "source": [
        "#### Model training"
      ]
    },
    {
      "cell_type": "code",
      "execution_count": 19,
      "metadata": {
        "id": "i71OPi1AlJ3d"
      },
      "outputs": [],
      "source": [
        "paramGrid_oil = ParamGridBuilder() \\\n",
        "    .addGrid(rfr_oil.maxDepth, [5,7]) \\\n",
        "    .addGrid(rfr_oil.numTrees, [10, 20, 30]) \\\n",
        "    .addGrid(rfr_oil.maxDepth, [5, 10, 15]) \\\n",
        "    .build()\n",
        "\n",
        "evaluator = RegressionEvaluator(labelCol=\"dcoilwtico\", predictionCol=\"prediction\", metricName=\"mae\")\n",
        "\n",
        "crossval = CrossValidator(estimator=pipeline_oil,\n",
        "                          estimatorParamMaps=paramGrid_oil,\n",
        "                          evaluator=evaluator,\n",
        "                          numFolds=5)\n",
        "\n",
        "cv_model_oil = crossval.fit(oil_fc_train)\n",
        "\n",
        "best_model_oil = cv_model_oil.bestModel # Model with the best parameters\n",
        "\n",
        "oil_predictions = best_model_oil.transform(oil_fc_pred)"
      ]
    },
    {
      "cell_type": "markdown",
      "metadata": {
        "id": "wTu7DpZKlpat"
      },
      "source": [
        "#### Oil price dataframe creation"
      ]
    },
    {
      "cell_type": "code",
      "execution_count": 20,
      "metadata": {
        "colab": {
          "base_uri": "https://localhost:8080/"
        },
        "id": "s6u7kCW5lnVm",
        "outputId": "e50b9b86-2544-4321-aaf9-9e645b04ba75"
      },
      "outputs": [
        {
          "name": "stdout",
          "output_type": "stream",
          "text": [
            "+----------+-----------------+\n",
            "|date      |dcoilwtico       |\n",
            "+----------+-----------------+\n",
            "|2013-01-02|93.13999938964844|\n",
            "|2013-01-03|92.97000122070312|\n",
            "|2013-01-04|93.12000274658203|\n",
            "|2013-01-05|93.37983235253229|\n",
            "|2013-01-06|92.30633353763157|\n",
            "|2013-01-07|93.19999694824219|\n",
            "|2013-01-08|93.20999908447266|\n",
            "|2013-01-09|93.08000183105469|\n",
            "|2013-01-10|93.80999755859375|\n",
            "|2013-01-11|93.5999984741211 |\n",
            "|2013-01-12|94.35044201472448|\n",
            "|2013-01-13|92.3127214855618 |\n",
            "|2013-01-14|94.2699966430664 |\n",
            "|2013-01-15|93.26000213623047|\n",
            "|2013-01-16|94.27999877929688|\n",
            "|2013-01-17|95.48999786376953|\n",
            "|2013-01-18|95.61000061035156|\n",
            "|2013-01-19|95.88346097431486|\n",
            "|2013-01-20|93.67865513695612|\n",
            "|2013-01-22|96.08999633789062|\n",
            "+----------+-----------------+\n",
            "only showing top 20 rows\n",
            "\n"
          ]
        }
      ],
      "source": [
        "oil_new_df = oil_fc_train.select('date', 'dcoilwtico').union(oil_predictions.select('date', 'prediction').withColumnRenamed(\"prediction\",'dcoilwtico'))\n",
        "oil_new_df.sort(col(\"date\")).show(truncate = False)"
      ]
    },
    {
      "cell_type": "code",
      "execution_count": 21,
      "metadata": {
        "colab": {
          "base_uri": "https://localhost:8080/"
        },
        "id": "pwrT3XLLrm_X",
        "outputId": "9acafd3c-e883-49df-c123-1243030a430f"
      },
      "outputs": [
        {
          "name": "stdout",
          "output_type": "stream",
          "text": [
            "Procentual number of NaN-Values: 2.375296912114014%\n"
          ]
        }
      ],
      "source": [
        "# Now the new_oil_df gets merged with the agg_df to do further preprocessing\n",
        "agg_oilprice_merged_df = agg_df.join(oil_new_df, on='date', how='left')\n",
        "\n",
        "# There are no NaN-Values left in the Column \"dcoilwtico\"\n",
        "percentage_nan = (agg_oilprice_merged_df.filter(col(\"dcoilwtico\").isNull()).count() / agg_oilprice_merged_df.count()) * 100\n",
        "print(f'Procentual number of NaN-Values: {percentage_nan}%')"
      ]
    },
    {
      "cell_type": "markdown",
      "metadata": {
        "id": "o6IV71ilmi7e"
      },
      "source": [
        "## Transactions_df Merge\n",
        "In this section we merge the aggregations_df with the agg_df to use the number of transaction per day for furter predictions"
      ]
    },
    {
      "cell_type": "code",
      "execution_count": 22,
      "metadata": {
        "colab": {
          "base_uri": "https://localhost:8080/"
        },
        "id": "OKraYTyUjZjI",
        "outputId": "8ff879a5-f856-49d4-e616-091c050cd2a1"
      },
      "outputs": [
        {
          "name": "stdout",
          "output_type": "stream",
          "text": [
            "+----------+------------+\n",
            "|date      |transactions|\n",
            "+----------+------------+\n",
            "|2013-01-01|770         |\n",
            "|2013-01-02|93215       |\n",
            "|2013-01-03|78504       |\n",
            "|2013-01-04|78494       |\n",
            "|2013-01-05|93573       |\n",
            "|2013-01-06|90464       |\n",
            "|2013-01-07|75597       |\n",
            "|2013-01-08|72325       |\n",
            "|2013-01-09|71971       |\n",
            "|2013-01-10|66383       |\n",
            "|2013-01-11|70338       |\n",
            "|2013-01-12|85511       |\n",
            "|2013-01-13|86306       |\n",
            "|2013-01-14|70078       |\n",
            "|2013-01-15|71134       |\n",
            "|2013-01-16|72471       |\n",
            "|2013-01-17|68873       |\n",
            "|2013-01-18|71371       |\n",
            "|2013-01-19|88558       |\n",
            "|2013-01-20|85281       |\n",
            "+----------+------------+\n",
            "only showing top 20 rows\n",
            "\n"
          ]
        }
      ],
      "source": [
        "agg_transactions_df = transactions_df.groupBy(\"date\").agg(sum(\"transactions\").alias(\"transactions\"))\n",
        "agg_transactions_df.sort(col(\"date\")).show(truncate = False)"
      ]
    },
    {
      "cell_type": "code",
      "execution_count": 23,
      "metadata": {
        "colab": {
          "base_uri": "https://localhost:8080/"
        },
        "id": "p3axBehCjZjI",
        "outputId": "f57fa419-84ae-4928-c21c-7ca095d14731"
      },
      "outputs": [
        {
          "name": "stdout",
          "output_type": "stream",
          "text": [
            "+----------+-------------------+------------------+-----------+-----------+-----+-----------------+------------+\n",
            "|date      |family             |sales             |onpromotion|day_of_week|month|dcoilwtico       |transactions|\n",
            "+----------+-------------------+------------------+-----------+-----------+-----+-----------------+------------+\n",
            "|2013-01-02|AUTOMOTIVE         |255.0             |0          |4          |1    |93.13999938964844|93215       |\n",
            "|2013-01-02|BABY CARE          |0.0               |0          |4          |1    |93.13999938964844|93215       |\n",
            "|2013-01-02|BEAUTY             |207.0             |0          |4          |1    |93.13999938964844|93215       |\n",
            "|2013-01-02|BEVERAGES          |72092.0           |0          |4          |1    |93.13999938964844|93215       |\n",
            "|2013-01-02|BOOKS              |0.0               |0          |4          |1    |93.13999938964844|93215       |\n",
            "|2013-01-02|BREAD/BAKERY       |26246.319         |0          |4          |1    |93.13999938964844|93215       |\n",
            "|2013-01-02|CELEBRATION        |0.0               |0          |4          |1    |93.13999938964844|93215       |\n",
            "|2013-01-02|CLEANING           |74629.0           |0          |4          |1    |93.13999938964844|93215       |\n",
            "|2013-01-02|DAIRY              |23381.0           |0          |4          |1    |93.13999938964844|93215       |\n",
            "|2013-01-02|DELI               |15754.500000000002|0          |4          |1    |93.13999938964844|93215       |\n",
            "|2013-01-02|EGGS               |10932.0           |0          |4          |1    |93.13999938964844|93215       |\n",
            "|2013-01-02|FROZEN FOODS       |7115.387999999999 |0          |4          |1    |93.13999938964844|93215       |\n",
            "|2013-01-02|GROCERY I          |202020.0          |0          |4          |1    |93.13999938964844|93215       |\n",
            "|2013-01-02|GROCERY II         |1476.0            |0          |4          |1    |93.13999938964844|93215       |\n",
            "|2013-01-02|HARDWARE           |46.0              |0          |4          |1    |93.13999938964844|93215       |\n",
            "|2013-01-02|HOME AND KITCHEN I |0.0               |0          |4          |1    |93.13999938964844|93215       |\n",
            "|2013-01-02|HOME AND KITCHEN II|0.0               |0          |4          |1    |93.13999938964844|93215       |\n",
            "|2013-01-02|HOME APPLIANCES    |21.0              |0          |4          |1    |93.13999938964844|93215       |\n",
            "|2013-01-02|HOME CARE          |0.0               |0          |4          |1    |93.13999938964844|93215       |\n",
            "|2013-01-02|LADIESWEAR         |0.0               |0          |4          |1    |93.13999938964844|93215       |\n",
            "+----------+-------------------+------------------+-----------+-----------+-----+-----------------+------------+\n",
            "only showing top 20 rows\n",
            "\n"
          ]
        }
      ],
      "source": [
        "merged_df = agg_oilprice_merged_df.join(agg_transactions_df, on='date', how='left')\n",
        "merged_df = merged_df.na.drop()\n",
        "merged_df.sort(col(\"date\"), col(\"family\")).show(truncate = False)"
      ]
    },
    {
      "cell_type": "markdown",
      "metadata": {
        "id": "xzAIoTwgjZjI"
      },
      "source": [
        "### Holidays_df Merge\n",
        "In this section the holidays_df gets merged to use the transaction data for the upcoming model prediction"
      ]
    },
    {
      "cell_type": "code",
      "execution_count": 24,
      "metadata": {
        "colab": {
          "base_uri": "https://localhost:8080/"
        },
        "id": "4G2VEZrjjZjI",
        "outputId": "fb558fa7-c3b7-4229-e415-2389011a2bd8"
      },
      "outputs": [
        {
          "name": "stdout",
          "output_type": "stream",
          "text": [
            "+----------+----------+\n",
            "|date      |type      |\n",
            "+----------+----------+\n",
            "|2012-08-10|Holiday   |\n",
            "|2012-10-12|Holiday   |\n",
            "|2012-11-02|Holiday   |\n",
            "|2012-11-03|Holiday   |\n",
            "|2012-12-21|Additional|\n",
            "|2012-12-22|Additional|\n",
            "|2012-12-23|Additional|\n",
            "|2012-12-24|Bridge    |\n",
            "|2012-12-24|Additional|\n",
            "|2012-12-25|Holiday   |\n",
            "|2012-12-26|Additional|\n",
            "|2012-12-31|Bridge    |\n",
            "|2012-12-31|Additional|\n",
            "|2013-01-01|Holiday   |\n",
            "|2013-01-05|Work Day  |\n",
            "|2013-01-12|Work Day  |\n",
            "|2013-02-11|Holiday   |\n",
            "|2013-02-12|Holiday   |\n",
            "|2013-04-29|Holiday   |\n",
            "|2013-05-01|Holiday   |\n",
            "+----------+----------+\n",
            "only showing top 20 rows\n",
            "\n"
          ]
        }
      ],
      "source": [
        "# We only want to use the Holiday/Additional,etc. data which counts for the whole country Ecuador\n",
        "modified_holidays_df = holidays_df.filter((col(\"transferred\") == False) & (col(\"locale\") == \"National\"))\n",
        "modified_holidays_df = modified_holidays_df.withColumn(\"type\", when(col(\"type\") == \"Transfer\", \"Holiday\").otherwise(col(\"type\")))\n",
        "\n",
        "modified_holidays_df = modified_holidays_df.select(\"date\", \"type\")\n",
        "modified_holidays_df.sort(col(\"date\")).show(truncate = False)"
      ]
    },
    {
      "cell_type": "code",
      "execution_count": 25,
      "metadata": {
        "id": "bv0_Yan0jZjI"
      },
      "outputs": [],
      "source": [
        "# Doing the merge of modified_holidays_df and merged_df\n",
        "merged_df = merged_df.join(modified_holidays_df, on=\"date\", how=\"left\")\n",
        "# The dates on which no holiday or something else encounted in the holiday_df takes place we insert \"Normal\" as a value\n",
        "merged_df = merged_df.withColumn(\"type\", when(merged_df[\"type\"].isNull(), \"Normal\").otherwise(merged_df[\"type\"]))"
      ]
    },
    {
      "cell_type": "markdown",
      "metadata": {
        "id": "9kafBXltjZjI"
      },
      "source": [
        "# Feature based prediction (fb)\n",
        "In the first trained model for predicting the sales volumes we use a normal feature based prediction without taking into account previous values."
      ]
    },
    {
      "cell_type": "markdown",
      "metadata": {
        "id": "R2JpI4uaXACO"
      },
      "source": [
        "## Data transformation/encoding"
      ]
    },
    {
      "cell_type": "code",
      "execution_count": 26,
      "metadata": {
        "id": "RKgkix21iz87"
      },
      "outputs": [],
      "source": [
        "# ## Data transformation/encoding\n",
        "transformed_df_fb = merged_df\n",
        "\n",
        "transformed_df_fb = transformed_df_fb.drop(\"date\")\n",
        "\n",
        "transformed_df_fb = transformed_df_fb.withColumnRenamed(\"day_of_week\", \"day_of_week_index\")\n",
        "transformed_df_fb = transformed_df_fb.withColumnRenamed(\"month\", \"month_index\")\n",
        "\n",
        "str_cat_cols_fb = [\"type\", \"family\"]\n",
        "cat_cols_fb = [\"day_of_week\", \"month\", \"type\", \"family\"]\n",
        "\n",
        "indexers_fb = [StringIndexer(inputCol=col, outputCol=col+\"_index\") for col in str_cat_cols_fb]\n",
        "encoders_fb = [OneHotEncoder(inputCol=col + \"_index\", outputCol=col + \"_encoded\") for col in cat_cols_fb]\n",
        "\n",
        "for encoder in encoders_fb:\n",
        "    encoder.setHandleInvalid(\"keep\")\n",
        "    encoder.setDropLast(True)\n",
        "\n",
        "feature_cols_fb = [\"day_of_week_encoded\", \"month_encoded\", \"type_encoded\", \"family_encoded\", \"transactions\", \"dcoilwtico\", \"onpromotion\"]\n"
      ]
    },
    {
      "cell_type": "markdown",
      "metadata": {
        "id": "ePBuO71rXBUQ"
      },
      "source": [
        "## Model training"
      ]
    },
    {
      "cell_type": "code",
      "execution_count": 27,
      "metadata": {
        "id": "umHFiPI1iz87"
      },
      "outputs": [],
      "source": [
        "##### MODEL TRAINING #####\n",
        "\n",
        "assembler_fb = VectorAssembler(inputCols=feature_cols_fb, outputCol=\"features\")\n",
        "\n",
        "gbt_fb = GBTRegressor(featuresCol=\"features\", labelCol=\"sales\", maxBins=33)\n",
        "\n",
        "pipeline_fb = Pipeline(stages= indexers_fb + encoders_fb + [assembler_fb, gbt_fb])\n",
        "\n",
        "# Hyperparameter Tuning\n",
        "paramGrid_fb = (ParamGridBuilder()\n",
        "             .addGrid(gbt_fb.maxDepth, [4, 6])\n",
        "             .addGrid(gbt_fb.maxIter, [50, 100])\n",
        "             .addGrid(gbt_fb.stepSize, [0.1, 0.01])\n",
        "             .build())\n",
        "\n",
        "evaluator_fb = RegressionEvaluator(labelCol=\"sales\", predictionCol=\"prediction\", metricName=\"mae\")\n",
        "\n",
        "crossval_fb = CrossValidator(estimator=pipeline_fb,\n",
        "                          estimatorParamMaps=paramGrid_fb,\n",
        "                          evaluator=evaluator_fb,\n",
        "                          numFolds=2)\n",
        "\n",
        "train_data_fb, test_data_fb = transformed_df_fb.randomSplit([0.8, 0.2], seed=12)\n",
        "cvModel_fb = crossval_fb.fit(train_data_fb)"
      ]
    },
    {
      "cell_type": "markdown",
      "metadata": {
        "id": "I9y3A2VN5MZr"
      },
      "source": [
        "## Evaluation"
      ]
    },
    {
      "cell_type": "markdown",
      "metadata": {
        "id": "tiD2R0gW5P1b"
      },
      "source": [
        "### Overall evaluation"
      ]
    },
    {
      "cell_type": "code",
      "execution_count": 28,
      "metadata": {
        "colab": {
          "base_uri": "https://localhost:8080/"
        },
        "id": "UlYC9hxk5L67",
        "outputId": "bdd38773-ff21-44fb-bb1f-2a0790159ea0"
      },
      "outputs": [
        {
          "name": "stdout",
          "output_type": "stream",
          "text": [
            "Mean Absolute Error (MAE): 1878.2694258673382\n"
          ]
        }
      ],
      "source": [
        "# overall evaluation\n",
        "evaluation_fb_df = cvModel_fb.transform(test_data_fb)\n",
        "clipped_evaluation_fb_df = evaluation_fb_df.withColumn(\"clipped_predictions\", when(col(\"prediction\") < 0, 0).otherwise(col(\"prediction\")))\n",
        "evaluator_clipped_fb = RegressionEvaluator(labelCol=\"sales\", predictionCol=\"clipped_predictions\", metricName=\"mae\")\n",
        "mae_fb = evaluator_clipped_fb.evaluate(clipped_evaluation_fb_df)\n",
        "\n",
        "\n",
        "best_model_fb = cvModel_fb.bestModel\n",
        "\n",
        "print(\"Mean Absolute Error (MAE):\", mae_fb)"
      ]
    },
    {
      "cell_type": "code",
      "execution_count": 29,
      "metadata": {
        "colab": {
          "base_uri": "https://localhost:8080/"
        },
        "id": "J7ac8vuEjZjc",
        "outputId": "a7b30a69-6d4a-402c-ca58-9eaff2c02c88"
      },
      "outputs": [
        {
          "name": "stdout",
          "output_type": "stream",
          "text": [
            "+-----+-------------------+\n",
            "|sales|clipped_predictions|\n",
            "+-----+-------------------+\n",
            "|136.0| 132.63443316900987|\n",
            "|155.0|                0.0|\n",
            "|164.0|                0.0|\n",
            "|166.0|                0.0|\n",
            "|167.0| 120.07551591130472|\n",
            "|167.0|   80.0162378927207|\n",
            "|170.0|  66.91354340065915|\n",
            "|172.0| 280.45833035470315|\n",
            "|174.0|  3.268522147556502|\n",
            "|175.0|  54.91654591219058|\n",
            "|177.0|  301.3266840290356|\n",
            "|178.0|  210.0010044625727|\n",
            "|181.0|                0.0|\n",
            "|182.0|                0.0|\n",
            "|185.0|  383.8370372306253|\n",
            "|188.0| 192.82043657922222|\n",
            "|188.0|  412.3139010905319|\n",
            "|189.0|  138.4609695303892|\n",
            "|189.0|   37.9770563866124|\n",
            "|190.0|  76.62022847267453|\n",
            "+-----+-------------------+\n",
            "only showing top 20 rows\n",
            "\n"
          ]
        }
      ],
      "source": [
        "# Show the true sales values compared to the predicted ones\n",
        "clipped_evaluation_fb_df.select(\"sales\", \"clipped_predictions\").show()"
      ]
    },
    {
      "cell_type": "markdown",
      "metadata": {
        "id": "LG3tl8ObjZjc"
      },
      "source": [
        "### Product family wise evaluation"
      ]
    },
    {
      "cell_type": "code",
      "execution_count": 30,
      "metadata": {
        "id": "GAJjUtKe8mK-"
      },
      "outputs": [],
      "source": [
        "filtered_evaluation_fb_df = clipped_evaluation_fb_df.select(\"family\", \"sales\", \"clipped_predictions\")\n",
        "evaluator = RegressionEvaluator(labelCol=\"sales\", predictionCol=\"clipped_predictions\", metricName=\"mae\")\n",
        "unique_family_values = filtered_evaluation_fb_df.select(\"family\").distinct().rdd.flatMap(lambda x: x).collect()\n",
        "\n",
        "data = []\n",
        "for value in unique_family_values:\n",
        "  df_fb = filtered_evaluation_fb_df.filter(filtered_evaluation_fb_df['family'] == value)\n",
        "  mae_fb = evaluator.evaluate(df_fb)\n",
        "  mean_fb = df_fb.select(mean(\"sales\")).collect()[0][0]\n",
        "  row = Row(family=value, mean=mean_fb, mean_absolute_error=mae_fb)\n",
        "  data.append(row)\n",
        "\n",
        "family_evaluation_fb_df = spark.createDataFrame(data)"
      ]
    },
    {
      "cell_type": "code",
      "execution_count": 31,
      "metadata": {
        "colab": {
          "base_uri": "https://localhost:8080/"
        },
        "id": "Ghgw2zy_FPy3",
        "outputId": "57aaa456-0faa-4dd4-9f89-a4b59accf372"
      },
      "outputs": [
        {
          "name": "stdout",
          "output_type": "stream",
          "text": [
            "+-------------------+------------------+-------------------+\n",
            "|             family|              mean|mean_absolute_error|\n",
            "+-------------------+------------------+-------------------+\n",
            "|     PREPARED FOODS| 5305.299080971593| 448.03762080902993|\n",
            "|HOME AND KITCHEN II| 985.9378531073446|  584.3474419784295|\n",
            "|         LADIESWEAR|385.07758620689657| 304.36435137113153|\n",
            "|    LAWN AND GARDEN|288.42105263157896|  358.1139971836576|\n",
            "|          GROCERY I|198342.07661651913|  14673.93391191357|\n",
            "|          BABY CARE| 4.852664576802508| 188.42527186517964|\n",
            "|            PRODUCE| 68751.02064937791|  7772.533240341836|\n",
            "|         AUTOMOTIVE| 336.1339031339031|  308.3961936192311|\n",
            "|          BEVERAGES| 131452.5636942675| 12730.481728018674|\n",
            "|          HOME CARE| 9498.302114803626| 1360.7147760360695|\n",
            "|       BREAD/BAKERY|25291.034821351797|  1150.235703997689|\n",
            "|              BOOKS|3.9345238095238093|  230.4859713234677|\n",
            "|           LINGERIE| 398.8403614457831|  395.0989822247725|\n",
            "|        CELEBRATION|407.60747663551405|  306.2425405843433|\n",
            "|         GROCERY II|            1169.0|  454.8354710689886|\n",
            "|              DAIRY|          38743.75|  3297.086315504472|\n",
            "|          MAGAZINES|157.27297297297298|  284.3116479185637|\n",
            "|            SEAFOOD|1199.5989972394316|  616.6423679510388|\n",
            "|   LIQUOR,WINE,BEER| 4514.890710382514| 1486.5959230513745|\n",
            "| HOME AND KITCHEN I|1096.6876876876877|  710.0598329371029|\n",
            "+-------------------+------------------+-------------------+\n",
            "only showing top 20 rows\n",
            "\n"
          ]
        }
      ],
      "source": [
        "family_evaluation_fb_df.show()"
      ]
    },
    {
      "cell_type": "code",
      "execution_count": 32,
      "metadata": {
        "id": "CUxnUOWI7Xta"
      },
      "outputs": [],
      "source": [
        "pd_df_fameval_fb = family_evaluation_fb_df.toPandas()\n",
        "pd_df_fameval_fb.to_csv('pd_df_fameval_fb.csv')"
      ]
    },
    {
      "cell_type": "markdown",
      "metadata": {
        "id": "yAR7KybXjZjd"
      },
      "source": [
        "# Feature based prediction with Time lags (tl)"
      ]
    },
    {
      "cell_type": "markdown",
      "metadata": {
        "id": "BS2V5KaJWvw3"
      },
      "source": [
        "## Preprocessing"
      ]
    },
    {
      "cell_type": "code",
      "execution_count": 33,
      "metadata": {
        "id": "DhfzTvwuiz8-"
      },
      "outputs": [],
      "source": [
        "tl_df = merged_df # creating plain df for time-lagged data frame\n",
        "\n",
        "window_spec = Window.partitionBy(\"family\").orderBy(\"date\")\n",
        "\n",
        "# adding lags\n",
        "tl_df = tl_df.withColumn(\"lag_1\", F.lag(\"sales\", 1).over(window_spec))\n",
        "tl_df = tl_df.withColumn(\"lag_2\", F.lag(\"sales\", 2).over(window_spec))\n",
        "tl_df = tl_df.withColumn(\"lag_3\", F.lag(\"sales\", 3).over(window_spec))"
      ]
    },
    {
      "cell_type": "code",
      "execution_count": 34,
      "metadata": {
        "id": "zOunaI_oiz8-"
      },
      "outputs": [],
      "source": [
        "specific_date = \"2013-01-05\" # The Time lag dataframe should start from the \"2013-01-04\" because else there is no lag data for the first row\n",
        "specific_date = spark.createDataFrame([(specific_date,)], [\"specific_date\"]).withColumn(\"specific_date\", col(\"specific_date\").cast(DateType()))\n",
        "tl_df_filtered = tl_df.filter(col(\"date\") >= specific_date.select(\"specific_date\").collect()[0][0])"
      ]
    },
    {
      "cell_type": "markdown",
      "metadata": {
        "id": "5GpTYtT4W0Qf"
      },
      "source": [
        "## Data transformation/encoding"
      ]
    },
    {
      "cell_type": "code",
      "execution_count": 35,
      "metadata": {
        "id": "vtV4qfH0WyIf"
      },
      "outputs": [],
      "source": [
        "# Data transformation/encoding\n",
        "\n",
        "transformed_df_tl = tl_df_filtered\n",
        "\n",
        "transformed_df_tl = transformed_df_tl.withColumnRenamed(\"day_of_week\", \"day_of_week_index\")\n",
        "transformed_df_tl = transformed_df_tl.withColumnRenamed(\"month\", \"month_index\")\n",
        "\n",
        "str_cat_cols_tl = [\"type\", \"family\"]\n",
        "cat_cols_tl = [\"day_of_week\", \"month\", \"type\", \"family\"]\n",
        "\n",
        "indexers_tl = [StringIndexer(inputCol=col, outputCol=col+\"_index\") for col in str_cat_cols_tl]\n",
        "encoders_tl = [OneHotEncoder(inputCol=col + \"_index\", outputCol=col + \"_encoded\") for col in cat_cols_tl]\n",
        "\n",
        "for encoder in encoders_tl:\n",
        "    encoder.setHandleInvalid(\"keep\")\n",
        "    encoder.setDropLast(True)"
      ]
    },
    {
      "cell_type": "markdown",
      "metadata": {
        "id": "dwMVNNTBXG1w"
      },
      "source": [
        "## Model training"
      ]
    },
    {
      "cell_type": "code",
      "execution_count": 36,
      "metadata": {
        "id": "sIuodn1Wiz8_"
      },
      "outputs": [],
      "source": [
        "##### MODEL TRAINING #####\n",
        "\n",
        "feature_cols_tl = [\"day_of_week_encoded\", \"month_encoded\", \"type_encoded\", \"family_encoded\", \"transactions\", \"dcoilwtico\", \"onpromotion\", \"lag_1\", \"lag_2\", \"lag_3\"]\n",
        "\n",
        "assembler_tl = VectorAssembler(inputCols=feature_cols_tl, outputCol=\"features\")\n",
        "\n",
        "gbt_tl = GBTRegressor(featuresCol=\"features\", labelCol=\"sales\", maxBins=33)\n",
        "\n",
        "pipeline_tl = Pipeline(stages= indexers_tl + encoders_tl + [assembler_tl, gbt_tl])\n",
        "\n",
        "paramGrid_tl = (ParamGridBuilder()\n",
        "             .addGrid(gbt_tl.maxDepth, [4, 6])\n",
        "             .addGrid(gbt_tl.maxIter, [50, 100])\n",
        "             .addGrid(gbt_tl.stepSize, [0.1, 0.01])\n",
        "             .build())\n",
        "\n",
        "evaluator_tl = RegressionEvaluator(labelCol=\"sales\", predictionCol=\"prediction\", metricName=\"mae\")\n",
        "\n",
        "crossval_tl = CrossValidator(estimator=pipeline_tl,\n",
        "                          estimatorParamMaps=paramGrid_tl,\n",
        "                          evaluator=evaluator_tl,\n",
        "                          numFolds=2)\n",
        "\n",
        "train_data_tl, test_data_tl = transformed_df_tl.randomSplit([0.8, 0.2], seed=12)\n",
        "cvModel_tl = crossval_tl.fit(train_data_tl)\n"
      ]
    },
    {
      "cell_type": "code",
      "execution_count": 37,
      "metadata": {
        "colab": {
          "base_uri": "https://localhost:8080/"
        },
        "id": "x80stM898I1n",
        "outputId": "9fff3b29-cb95-44cf-8184-cb3e875b1af7"
      },
      "outputs": [
        {
          "name": "stdout",
          "output_type": "stream",
          "text": [
            "+----------+-------------------+------------------+-----------+-----------------+-----------+-----------------+------------+--------+------------------+------------------+------------------+\n",
            "|      date|             family|             sales|onpromotion|day_of_week_index|month_index|       dcoilwtico|transactions|    type|             lag_1|             lag_2|             lag_3|\n",
            "+----------+-------------------+------------------+-----------+-----------------+-----------+-----------------+------------+--------+------------------+------------------+------------------+\n",
            "|2013-01-05|         AUTOMOTIVE|             342.0|          0|                7|          1|93.37983235253229|       93573|Work Day|             169.0|             161.0|             255.0|\n",
            "|2013-01-05|             BEAUTY|             191.0|          0|                7|          1|93.37983235253229|       93573|Work Day|             133.0|             125.0|             207.0|\n",
            "|2013-01-05|          BEVERAGES|           77818.0|          0|                7|          1|93.37983235253229|       93573|Work Day|           54167.0|           52105.0|           72092.0|\n",
            "|2013-01-05|              BOOKS|               0.0|          0|                7|          1|93.37983235253229|       93573|Work Day|               0.0|               0.0|               0.0|\n",
            "|2013-01-05|       BREAD/BAKERY|22367.761079999997|          0|                7|          1|93.37983235253229|       93573|Work Day|16721.969009999997|       18456.48002|         26246.319|\n",
            "|2013-01-05|        CELEBRATION|               0.0|          0|                7|          1|93.37983235253229|       93573|Work Day|               0.0|               0.0|               0.0|\n",
            "|2013-01-05|              DAIRY|           23082.0|          0|                7|          1|93.37983235253229|       93573|Work Day|           18148.0|           18001.0|           23381.0|\n",
            "|2013-01-05|               DELI|       13734.94501|          0|                7|          1|93.37983235253229|       93573|Work Day|10143.208999999999|11172.455000000002|15754.500000000002|\n",
            "|2013-01-05|               EGGS|            8576.0|          0|                7|          1|93.37983235253229|       93573|Work Day|            6760.0|            7358.0|           10932.0|\n",
            "|2013-01-05|       FROZEN FOODS|        5781.60501|          0|                7|          1|93.37983235253229|       93573|Work Day|      4525.9340042|       4760.805009| 7115.387999999999|\n",
            "|2013-01-05|          GROCERY I|          188356.0|          0|                7|          1|93.37983235253229|       93573|Work Day|          135754.0|          144878.0|          202020.0|\n",
            "|2013-01-05|         GROCERY II|            1273.0|          0|                7|          1|93.37983235253229|       93573|Work Day|            1031.0|            1048.0|            1476.0|\n",
            "|2013-01-05|           HARDWARE|              87.0|          0|                7|          1|93.37983235253229|       93573|Work Day|              57.0|              37.0|              46.0|\n",
            "|2013-01-05| HOME AND KITCHEN I|               0.0|          0|                7|          1|93.37983235253229|       93573|Work Day|               0.0|               0.0|               0.0|\n",
            "|2013-01-05|HOME AND KITCHEN II|               0.0|          0|                7|          1|93.37983235253229|       93573|Work Day|               0.0|               0.0|               0.0|\n",
            "|2013-01-05|    HOME APPLIANCES|              11.0|          0|                7|          1|93.37983235253229|       93573|Work Day|              13.0|              15.0|              21.0|\n",
            "|2013-01-05|          HOME CARE|               0.0|          0|                7|          1|93.37983235253229|       93573|Work Day|               0.0|               0.0|               0.0|\n",
            "|2013-01-05|    LAWN AND GARDEN|             180.0|          0|                7|          1|93.37983235253229|       93573|Work Day|             127.0|              83.0|             121.0|\n",
            "|2013-01-05|           LINGERIE|             458.0|          0|                7|          1|93.37983235253229|       93573|Work Day|             382.0|             366.0|             469.0|\n",
            "|2013-01-05|   LIQUOR,WINE,BEER|            6715.0|          0|                7|          1|93.37983235253229|       93573|Work Day|            4796.0|            2476.0|            2411.0|\n",
            "+----------+-------------------+------------------+-----------+-----------------+-----------+-----------------+------------+--------+------------------+------------------+------------------+\n",
            "only showing top 20 rows\n",
            "\n"
          ]
        }
      ],
      "source": [
        "train_data_tl.show()"
      ]
    },
    {
      "cell_type": "markdown",
      "metadata": {
        "id": "71KROdBtXNfm"
      },
      "source": [
        "## Evaluation"
      ]
    },
    {
      "cell_type": "markdown",
      "metadata": {
        "id": "7DXdivWnXS5v"
      },
      "source": [
        "### Overall evaluation"
      ]
    },
    {
      "cell_type": "code",
      "execution_count": 38,
      "metadata": {
        "colab": {
          "base_uri": "https://localhost:8080/"
        },
        "id": "AVqKeGn7XU5v",
        "outputId": "e2e642b8-d4d1-45a2-843c-f34519e924f8"
      },
      "outputs": [
        {
          "name": "stderr",
          "output_type": "stream",
          "text": [
            "WARNING:onnxmltools:The maximum opset needed by this model is only 12.\n",
            "WARNING:onnxmltools:The maximum opset needed by this model is only 13.\n"
          ]
        },
        {
          "name": "stdout",
          "output_type": "stream",
          "text": [
            "Mean Absolute Error (MAE): 1435.3290092968232\n"
          ]
        }
      ],
      "source": [
        "evaluation_tl_df = cvModel_tl.transform(test_data_tl)\n",
        "clipped_evaluation_tl_df = evaluation_tl_df.withColumn(\"clipped_predictions\", when(col(\"prediction\") < 0, 0).otherwise(col(\"prediction\")))\n",
        "\n",
        "evaluator_clipped_tl = RegressionEvaluator(labelCol=\"sales\", predictionCol=\"clipped_predictions\", metricName=\"mae\")\n",
        "mae_tl = evaluator_clipped_tl.evaluate(clipped_evaluation_tl_df)\n",
        "\n",
        "best_model_tl = cvModel_tl.bestModel\n",
        "\n",
        "print(\"Mean Absolute Error (MAE):\", mae_tl)"
      ]
    },
    {
      "cell_type": "code",
      "execution_count": 39,
      "metadata": {
        "colab": {
          "base_uri": "https://localhost:8080/"
        },
        "id": "5G0PziAbXYnw",
        "outputId": "98377dd9-6b5a-445b-e7e8-c1b5d2a6c6d1"
      },
      "outputs": [
        {
          "name": "stdout",
          "output_type": "stream",
          "text": [
            "+------------------+-------------------+\n",
            "|             sales|clipped_predictions|\n",
            "+------------------+-------------------+\n",
            "|               0.0| 116.66408099021946|\n",
            "|           70128.0|  71241.07153275478|\n",
            "|               0.0| 116.66408099021946|\n",
            "|20879.091050000003|  21907.60119169124|\n",
            "|               0.0| 116.66408099021946|\n",
            "|               0.0| 116.66408099021946|\n",
            "|             360.0| 272.28081040650403|\n",
            "|               0.0|  72.56770213419621|\n",
            "|          16229.26|  17417.12021489805|\n",
            "|            1306.0|  1137.560501739694|\n",
            "|               0.0|  72.56770213419621|\n",
            "|           19665.0| 19735.573360230985|\n",
            "|6233.7149899999995|  5725.178035495597|\n",
            "|       1443.776992|  1137.560501739694|\n",
            "|         17646.151|  17596.32805509772|\n",
            "| 3823.622000000001|  4485.798112434384|\n",
            "|              55.0|                0.0|\n",
            "|               0.0|                0.0|\n",
            "|              12.0|                0.0|\n",
            "|               0.0|                0.0|\n",
            "+------------------+-------------------+\n",
            "only showing top 20 rows\n",
            "\n"
          ]
        }
      ],
      "source": [
        "# Show the true sales values compared to the predicted ones\n",
        "clipped_evaluation_tl_df.select(\"sales\", \"clipped_predictions\").show()"
      ]
    },
    {
      "cell_type": "markdown",
      "metadata": {
        "id": "5qx1YhD-XcpA"
      },
      "source": [
        "### Product family wise evaluation"
      ]
    },
    {
      "cell_type": "code",
      "execution_count": 40,
      "metadata": {
        "id": "8Y79yIoXXgZm"
      },
      "outputs": [],
      "source": [
        "filtered_evaluation_tl_df = clipped_evaluation_tl_df.select(\"family\", \"sales\", \"clipped_predictions\")\n",
        "evaluator = RegressionEvaluator(labelCol=\"sales\", predictionCol=\"clipped_predictions\", metricName=\"mae\")\n",
        "unique_family_values = filtered_evaluation_tl_df.select(\"family\").distinct().rdd.flatMap(lambda x: x).collect()\n",
        "\n",
        "data = []\n",
        "for value in unique_family_values:\n",
        "  df_tl = filtered_evaluation_tl_df.filter(filtered_evaluation_tl_df['family'] == value)\n",
        "  mae_tl = evaluator.evaluate(df_tl)\n",
        "  mean_tl = df_tl.select(mean(\"sales\")).collect()[0][0]\n",
        "  row = Row(family=value, mean=mean_tl, mean_absolute_error=mae_tl)\n",
        "  data.append(row)\n",
        "\n",
        "family_evaluation_tl_df = spark.createDataFrame(data)"
      ]
    },
    {
      "cell_type": "code",
      "execution_count": null,
      "metadata": {},
      "outputs": [],
      "source": [
        "family_evaluation_tl_df.show()"
      ]
    },
    {
      "cell_type": "code",
      "execution_count": 41,
      "metadata": {
        "id": "LpImQjy7-9Sw"
      },
      "outputs": [],
      "source": [
        "pd_df_fameval_tl = family_evaluation_tl_df.toPandas()\n",
        "pd_df_fameval_tl.to_csv('pd_df_fameval_tl.csv')"
      ]
    },
    {
      "cell_type": "markdown",
      "metadata": {},
      "source": [
        "# Time Series Prediction (LSTM)"
      ]
    },
    {
      "cell_type": "code",
      "execution_count": 1,
      "metadata": {
        "colab": {
          "base_uri": "https://localhost:8080/"
        },
        "id": "oFckivVotl1d",
        "outputId": "70a5783f-e383-4a81-bb82-17b39ad55788"
      },
      "outputs": [],
      "source": [
        "#!pip install keras tensorflow"
      ]
    },
    {
      "cell_type": "code",
      "execution_count": 43,
      "metadata": {
        "id": "gmTL7vO6tvhv"
      },
      "outputs": [],
      "source": [
        "import numpy as np\n",
        "from sklearn.model_selection import train_test_split\n",
        "\n",
        "import tensorflow as tf\n",
        "from tensorflow import keras"
      ]
    },
    {
      "cell_type": "code",
      "execution_count": 44,
      "metadata": {
        "colab": {
          "base_uri": "https://localhost:8080/"
        },
        "id": "Z3b_7QW1o8eO",
        "outputId": "4c9b05c8-22a7-4a59-bbdd-9b2722984bb0"
      },
      "outputs": [
        {
          "name": "stdout",
          "output_type": "stream",
          "text": [
            "84/84 [==============================] - 7s 38ms/step - loss: 269.6297\n"
          ]
        },
        {
          "data": {
            "text/plain": [
              "<keras.src.callbacks.History at 0x7efda4f3a3b0>"
            ]
          },
          "execution_count": 44,
          "metadata": {},
          "output_type": "execute_result"
        }
      ],
      "source": [
        "'''\n",
        "LSTM MODEL\n",
        "'''\n",
        "agg_df_pd = agg_df.toPandas()\n",
        "\n",
        "grouped = agg_df_pd.groupby('family')\n",
        "family_dataframes = {name: group for name, group in grouped}\n",
        "\n",
        "automotive_df = family_dataframes['AUTOMOTIVE']\n",
        "modified_automotive_df = automotive_df[['date', 'sales']]\n",
        "\n",
        "window_size = 10\n",
        "\n",
        "X, y = [], []\n",
        "for i in range(len(modified_automotive_df) - window_size):\n",
        "    try:\n",
        "        X.append(modified_automotive_df['sales'].iloc[i:i+window_size].values)\n",
        "        y.append(modified_automotive_df['sales'].iloc[i+window_size])\n",
        "    except:\n",
        "        if len(X) != len(y):\n",
        "            X.pop()\n",
        "        break\n",
        "X = np.array(X)\n",
        "y = np.array(y)\n",
        "\n",
        "X_train, X_test, y_train, y_test = train_test_split(X, y, test_size=0.2, shuffle=False)\n",
        "\n",
        "model = keras.Sequential()\n",
        "model.add(keras.layers.LSTM(50, activation='relu', input_shape=(window_size, 1)))\n",
        "model.add(keras.layers.Dense(1))\n",
        "\n",
        "model.compile(optimizer='adam', loss='mean_absolute_error')\n",
        "\n",
        "model.fit(X_train, y_train, epochs=1, batch_size=16)\n",
        "\n",
        "# Model upload to the S3 bucket:\n",
        "\n",
        "# model saving\n",
        "# tf.saved_model.save(model,'model')\n",
        "# ov_model = ov.convert_model('./model')\n",
        "\n",
        "# ov.save_model(ov_model, 'model.xml')\n",
        "\n",
        "# bucket_name_model = 'models'\n",
        "# object_key_model_xml = 'lstm_model.xml'\n",
        "# object_key_model_bin = 'lstm_model.bin'\n",
        "\n",
        "# try:\n",
        "#     s3.upload_file('./model.xml', bucket_name_model, object_key_model_xml)\n",
        "#     s3.upload_file('./model.bin', bucket_name_model, object_key_model_bin)\n",
        "#     print(f\"LSTM model uploaded to S3 bucket {bucket_name_model} with key {object_key_model_xml}\")\n",
        "# except NoCredentialsError:\n",
        "#     print(\"AWS credentials not available.\")"
      ]
    },
    {
      "cell_type": "code",
      "execution_count": 49,
      "metadata": {
        "colab": {
          "base_uri": "https://localhost:8080/",
          "height": 564
        },
        "id": "zuwJKeApptso",
        "outputId": "f93b2d6c-6c26-447f-b52e-c1dbb560ee93"
      },
      "outputs": [
        {
          "data": {
            "image/png": "[encoded data removed]",
            "text/plain": [
              "<Figure size 1200x600 with 1 Axes>"
            ]
          },
          "metadata": {},
          "output_type": "display_data"
        }
      ],
      "source": [
        "import matplotlib.pyplot as plt\n",
        "\n",
        "plt.figure(figsize=(12, 6))\n",
        "plt.plot(modified_automotive_df['date'], modified_automotive_df['sales'], label='Sales')\n",
        "plt.title('Sales Over Time')\n",
        "plt.xlabel('Date')\n",
        "plt.ylabel('Sales')\n",
        "plt.grid(True)\n",
        "plt.legend()\n",
        "plt.show()"
      ]
    },
    {
      "cell_type": "code",
      "execution_count": 48,
      "metadata": {
        "colab": {
          "base_uri": "https://localhost:8080/"
        },
        "id": "UOQ5Fic0pd16",
        "outputId": "37fc3661-58e2-46ee-eb35-edca7406a150"
      },
      "outputs": [
        {
          "name": "stdout",
          "output_type": "stream",
          "text": [
            "11/11 [==============================] - 0s 5ms/step\n",
            "Mean Absolute Error: [246.07152  295.8669   107.998405  91.044876  79.82737   83.68563\n",
            " 142.22012   90.19997   96.1898    90.393555  81.61181  125.10311\n",
            "  96.48659   87.307274 150.49463  112.97555  125.84413  395.20868\n",
            " 119.33925   98.28337  154.92976  196.95705  247.4481    80.820305\n",
            " 123.16887  161.07822  139.94987  147.85521  129.47136  207.02847\n",
            " 396.36502  223.1063   100.68053   92.40269   83.0617   179.81195\n",
            " 163.21045  103.97281   89.851395  80.12442  253.76231  330.86566\n",
            "  80.22379   82.013336 145.4088   167.40039  126.141106 273.01257\n",
            " 356.93835   79.74162   99.80369  121.245895 154.65344  355.04138\n",
            "  84.00716   83.41081  129.12547   81.63579   95.60263   86.13451\n",
            " 280.2462   137.20914  266.21588  258.8361    92.575935 166.68085\n",
            " 192.7353   340.01123   83.772064 369.02637  109.328384 107.67666\n",
            "  80.51994  136.22282  157.2941   275.35544   80.94585  100.516045\n",
            "  93.17686   80.06741   80.969925  92.16132   96.62952   81.8116\n",
            " 316.04446  132.13066  241.95241   84.077415  79.743515  79.753685\n",
            " 105.05129  141.45653  132.95     296.77264  283.25992  189.07019\n",
            " 204.40315   81.78779  103.393364 362.0782    92.42114  120.18465\n",
            "  79.79006  140.98643  134.71814   88.68329  110.878     79.78949\n",
            "  94.76495  178.5665    83.116135 284.30582  100.05957   79.854576\n",
            " 181.09189  243.63988  219.41136  195.52905   82.82873  399.56226\n",
            "  82.12725  106.075745 216.55911   92.638336  82.791695 116.1444\n",
            " 113.01356   87.97554   86.25375   79.88684   86.07691   79.929115\n",
            "  83.13297   85.65465  147.97684  156.16074  154.80365   90.26436\n",
            "  85.126076 218.44025   93.30693   79.74309  250.68613   79.943085\n",
            " 106.094986  84.81929  249.21788  109.57349   85.02995  169.99477\n",
            " 117.6451   138.53172  267.38657  174.22372  172.64783   84.0548\n",
            " 102.92613   83.33442   89.208885 128.31697  115.984886  94.47554\n",
            "  92.29504  104.63407  102.18198  105.37655   93.2716    81.10372\n",
            " 106.524536 108.11626  192.74854  380.36816   94.24136  117.33412\n",
            "  82.301384  91.22614  106.899345 127.80696  108.58356  107.97885\n",
            "  80.13406   99.77246   79.74059  148.52066   89.39897   79.77051\n",
            "  94.83339   79.902016  90.71331  120.69092  101.09157  296.44238\n",
            " 117.09452  146.28705  165.91231   86.866264 340.79395  171.16246\n",
            " 112.54767   79.878235 367.15482  114.75347  100.03924   80.3026\n",
            " 123.943016  82.33677  109.996025 106.36743   90.5355    91.238434\n",
            " 109.21915   80.08225   90.768654  89.27746   83.635     95.08924\n",
            "  81.67349  142.42455  354.99918  177.71092   90.14507   99.6284\n",
            " 135.67809   80.59383   79.76779   80.32491   84.78631  145.79997\n",
            "  79.82022  166.31465   95.74482  121.12054  245.2026   194.03206\n",
            " 121.04866  108.1907    83.991325  79.77024  113.440285  95.88406\n",
            "  85.008156 146.92662   97.639946  91.72881  124.88517  133.55046\n",
            " 120.7748   118.99172  118.37711  152.30182  205.03629  308.92163\n",
            " 108.084526 212.36038  126.449005 104.07683  222.24037   80.772026\n",
            "  85.6916   144.32745   80.94298  209.31236  262.63654   87.83586\n",
            "  80.29448  107.28581  172.76968  110.60224   98.13332   88.018974\n",
            " 113.07077   92.8019   100.1802   252.40405  140.3156   122.78284\n",
            "  82.25591  178.3968   120.865685  92.44886   82.87667  138.98766\n",
            "  94.440315  92.00498  157.76682   82.306656 131.84688   98.74613\n",
            " 297.856     83.01497  199.46393  343.8237    81.89205   80.11592\n",
            " 102.108055 239.13992  200.06564  134.13728   81.79835  100.733185\n",
            "  90.69033   85.48089   81.157265 109.66998   91.85848  122.08031\n",
            " 111.45396   96.144485 273.88556  257.31366  114.819565  89.00416\n",
            " 126.69572   79.77568   98.76903  101.60049   97.49334  119.847145\n",
            "  82.87822   87.18232   83.47305  233.33153   98.63905  133.32005\n",
            " 103.551025  79.9445    80.747665 123.7673    90.55762  101.20937\n",
            " 383.12396  353.542    369.70447  176.26945  106.77664 ]\n"
          ]
        }
      ],
      "source": [
        "# LSTM evaluation\n",
        "from tensorflow.keras.metrics import mean_absolute_error\n",
        "\n",
        "y_pred = model.predict(X_test)\n",
        "\n",
        "mae = mean_absolute_error(y_test, y_pred)\n",
        "evaluation_ts_df = pd.DataFrame({'y_true': y_test, 'y_pred': y_pred.flatten()})\n",
        "print(f'Mean Absolute Error: {mae}')\n",
        "evaluation_ts_df.to_csv('LSTM_evaluation')"
      ]
    },
    {
      "cell_type": "code",
      "execution_count": 50,
      "metadata": {
        "id": "rrkQX-lkpJh0"
      },
      "outputs": [],
      "source": [
        "# ------------------------------------------------ ENDING SPARK JOB -----------------------------------------\n",
        "spark.stop()"
      ]
    }
  ],
  "metadata": {
    "colab": {
      "provenance": []
    },
    "kernelspec": {
      "display_name": "Python 3 (ipykernel)",
      "language": "python",
      "name": "python3"
    },
    "language_info": {
      "codemirror_mode": {
        "name": "ipython",
        "version": 3
      },
      "file_extension": ".py",
      "mimetype": "text/x-python",
      "name": "python",
      "nbconvert_exporter": "python",
      "pygments_lexer": "ipython3",
      "version": "3.11.4"
    }
  },
  "nbformat": 4,
  "nbformat_minor": 0
}
