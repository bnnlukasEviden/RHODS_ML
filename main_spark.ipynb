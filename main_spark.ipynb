{
  "cells": [
    {
      "cell_type": "markdown",
      "metadata": {
        "id": "8dXdiP3wjZjD"
      },
      "source": [
        "# Imports"
      ]
    },
    {
      "cell_type": "code",
      "execution_count": 85,
      "metadata": {
        "id": "rxxKcQi3jZjE"
      },
      "outputs": [],
      "source": [
        "import pandas as pd\n",
        "import numpy as np\n",
        "from sklearn.preprocessing import OneHotEncoder\n",
        "import xgboost as xgb\n",
        "from sklearn.model_selection import train_test_split\n",
        "from sklearn.metrics import mean_squared_error, r2_score, mean_absolute_error\n",
        "from sklearn.model_selection import GridSearchCV\n",
        "import matplotlib.pyplot as plt\n",
        "from datetime import datetime, timedelta\n",
        "import seaborn as sb\n",
        "\n",
        "import tensorflow as tf\n",
        "from tensorflow import keras\n",
        "\n",
        "from sklearn.pipeline import Pipeline\n",
        "from sklearn.preprocessing import OneHotEncoder\n",
        "from sklearn.impute import SimpleImputer\n",
        "from sklearn.compose import ColumnTransformer\n",
        "from sklearn.compose import make_column_selector\n",
        "from sklearn.model_selection import cross_val_score\n",
        "\n",
        "import pyspark\n",
        "from pyspark.sql import SparkSession\n",
        "from pyspark.ml.feature import VectorAssembler\n",
        "import pyspark.sql.functions as F\n",
        "from pyspark.sql.functions import sum, when, avg, max, col, dayofweek, count, month, lit, mean\n",
        "from pyspark.sql.window import Window\n",
        "from pyspark.ml.feature import StringIndexer, OneHotEncoder, Imputer\n",
        "from pyspark.ml import Pipeline\n",
        "from pyspark.ml.regression import GBTRegressor\n",
        "from pyspark.ml.feature import VectorAssembler\n",
        "from pyspark.ml.evaluation import RegressionEvaluator\n",
        "from pyspark.ml.tuning import ParamGridBuilder, CrossValidator\n",
        "from pyspark.ml.regression import RandomForestRegressor\n",
        "from pyspark.sql.functions import expr\n",
        "from pyspark.sql import Row\n",
        "from pyspark.sql.types import DateType"
      ]
    },
    {
      "cell_type": "code",
      "execution_count": null,
      "metadata": {
        "colab": {
          "base_uri": "https://localhost:8080/"
        },
        "id": "T-s8lOJCnpH9",
        "outputId": "97cb486e-ffc2-4012-c226-6fc11b2ebed3"
      },
      "outputs": [
        {
          "name": "stdout",
          "output_type": "stream",
          "text": [
            "Collecting pyspark\n",
            "  Downloading pyspark-3.5.0.tar.gz (316.9 MB)\n",
            "\u001b[2K     \u001b[90m━━━━━━━━━━━━━━━━━━━━━━━━━━━━━━━━━━━━━━━━\u001b[0m \u001b[32m316.9/316.9 MB\u001b[0m \u001b[31m2.7 MB/s\u001b[0m eta \u001b[36m0:00:00\u001b[0m\n",
            "\u001b[?25h  Preparing metadata (setup.py) ... \u001b[?25l\u001b[?25hdone\n",
            "Requirement already satisfied: py4j==0.10.9.7 in /usr/local/lib/python3.10/dist-packages (from pyspark) (0.10.9.7)\n",
            "Building wheels for collected packages: pyspark\n",
            "  Building wheel for pyspark (setup.py) ... \u001b[?25l\u001b[?25hdone\n",
            "  Created wheel for pyspark: filename=pyspark-3.5.0-py2.py3-none-any.whl size=317425344 sha256=abd671e141ce7b4f6a92c089028abdf73cee7bd902a2e2da1f4e870ce198835c\n",
            "  Stored in directory: /root/.cache/pip/wheels/41/4e/10/c2cf2467f71c678cfc8a6b9ac9241e5e44a01940da8fbb17fc\n",
            "Successfully built pyspark\n",
            "Installing collected packages: pyspark\n",
            "Successfully installed pyspark-3.5.0\n"
          ]
        }
      ],
      "source": [
        "!pip install pyspark"
      ]
    },
    {
      "cell_type": "code",
      "execution_count": null,
      "metadata": {
        "id": "zZK781OCjZjF"
      },
      "outputs": [],
      "source": [
        "import warnings\n",
        "\n",
        "warnings.filterwarnings(\"ignore\", category=FutureWarning)"
      ]
    },
    {
      "cell_type": "code",
      "execution_count": null,
      "metadata": {
        "id": "STK-tQCrjZjF"
      },
      "outputs": [],
      "source": [
        "spark = SparkSession.builder.appName('RHODS').getOrCreate()"
      ]
    },
    {
      "cell_type": "code",
      "execution_count": null,
      "metadata": {
        "id": "3jM4p9ZkjZjF"
      },
      "outputs": [],
      "source": [
        "spark.catalog.clearCache()\n",
        "spark.conf.set(\"spark.sql.autoBroadcastJoinThreshold\", 1024 * 1024 * 1024)"
      ]
    },
    {
      "cell_type": "markdown",
      "metadata": {
        "id": "eIZlgoT_jZjG"
      },
      "source": [
        "# Data extraction"
      ]
    },
    {
      "cell_type": "code",
      "execution_count": null,
      "metadata": {
        "id": "pkgSAi_HjZjG"
      },
      "outputs": [],
      "source": [
        "main_df = spark.read.csv('train.csv', header = True, inferSchema = True)\n",
        "oil_df = spark.read.csv('oil.csv', header = True, inferSchema = True)\n",
        "holidays_df = spark.read.csv('holidays_events.csv', header = True, inferSchema = True)\n",
        "transactions_df = spark.read.csv('transactions.csv', header = True, inferSchema = True)"
      ]
    },
    {
      "cell_type": "markdown",
      "metadata": {
        "id": "X0ImIAC7jZjG"
      },
      "source": [
        "# Feature Engineering"
      ]
    },
    {
      "cell_type": "code",
      "execution_count": null,
      "metadata": {
        "colab": {
          "base_uri": "https://localhost:8080/"
        },
        "id": "zEzaxAu9jZjG",
        "outputId": "fccda50f-a303-4848-cad6-0131a62118a6"
      },
      "outputs": [
        {
          "name": "stdout",
          "output_type": "stream",
          "text": [
            "+---+----------+---------+-------------------+-----+-----------+\n",
            "| id|      date|store_nbr|             family|sales|onpromotion|\n",
            "+---+----------+---------+-------------------+-----+-----------+\n",
            "|  0|2013-01-01|        1|         AUTOMOTIVE|  0.0|          0|\n",
            "|  1|2013-01-01|        1|          BABY CARE|  0.0|          0|\n",
            "|  2|2013-01-01|        1|             BEAUTY|  0.0|          0|\n",
            "|  3|2013-01-01|        1|          BEVERAGES|  0.0|          0|\n",
            "|  4|2013-01-01|        1|              BOOKS|  0.0|          0|\n",
            "|  5|2013-01-01|        1|       BREAD/BAKERY|  0.0|          0|\n",
            "|  6|2013-01-01|        1|        CELEBRATION|  0.0|          0|\n",
            "|  7|2013-01-01|        1|           CLEANING|  0.0|          0|\n",
            "|  8|2013-01-01|        1|              DAIRY|  0.0|          0|\n",
            "|  9|2013-01-01|        1|               DELI|  0.0|          0|\n",
            "| 10|2013-01-01|        1|               EGGS|  0.0|          0|\n",
            "| 11|2013-01-01|        1|       FROZEN FOODS|  0.0|          0|\n",
            "| 12|2013-01-01|        1|          GROCERY I|  0.0|          0|\n",
            "| 13|2013-01-01|        1|         GROCERY II|  0.0|          0|\n",
            "| 14|2013-01-01|        1|           HARDWARE|  0.0|          0|\n",
            "| 15|2013-01-01|        1| HOME AND KITCHEN I|  0.0|          0|\n",
            "| 16|2013-01-01|        1|HOME AND KITCHEN II|  0.0|          0|\n",
            "| 17|2013-01-01|        1|    HOME APPLIANCES|  0.0|          0|\n",
            "| 18|2013-01-01|        1|          HOME CARE|  0.0|          0|\n",
            "| 19|2013-01-01|        1|         LADIESWEAR|  0.0|          0|\n",
            "+---+----------+---------+-------------------+-----+-----------+\n",
            "only showing top 20 rows\n",
            "\n"
          ]
        }
      ],
      "source": [
        "main_df.show()"
      ]
    },
    {
      "cell_type": "markdown",
      "metadata": {
        "id": "OAF89StljZjG"
      },
      "source": [
        "## Train_df Aggregation, Date transformation"
      ]
    },
    {
      "cell_type": "code",
      "execution_count": null,
      "metadata": {
        "colab": {
          "base_uri": "https://localhost:8080/"
        },
        "id": "TUH4N_s8jZjG",
        "outputId": "344050e9-2e17-4f39-8abd-39a042a743c9"
      },
      "outputs": [
        {
          "name": "stdout",
          "output_type": "stream",
          "text": [
            "+----------+-------------------+---------+-----------+-----------+-----+\n",
            "|date      |family             |sales    |onpromotion|day_of_week|month|\n",
            "+----------+-------------------+---------+-----------+-----------+-----+\n",
            "|2013-01-01|AUTOMOTIVE         |0.0      |0          |3          |1    |\n",
            "|2013-01-01|BABY CARE          |0.0      |0          |3          |1    |\n",
            "|2013-01-01|BEAUTY             |2.0      |0          |3          |1    |\n",
            "|2013-01-01|BEVERAGES          |810.0    |0          |3          |1    |\n",
            "|2013-01-01|BOOKS              |0.0      |0          |3          |1    |\n",
            "|2013-01-01|BREAD/BAKERY       |180.589  |0          |3          |1    |\n",
            "|2013-01-01|CELEBRATION        |0.0      |0          |3          |1    |\n",
            "|2013-01-01|CLEANING           |186.0    |0          |3          |1    |\n",
            "|2013-01-01|DAIRY              |143.0    |0          |3          |1    |\n",
            "|2013-01-01|DELI               |71.09    |0          |3          |1    |\n",
            "|2013-01-01|EGGS               |46.0     |0          |3          |1    |\n",
            "|2013-01-01|FROZEN FOODS       |29.654999|0          |3          |1    |\n",
            "|2013-01-01|GROCERY I          |700.0    |0          |3          |1    |\n",
            "|2013-01-01|GROCERY II         |15.0     |0          |3          |1    |\n",
            "|2013-01-01|HARDWARE           |0.0      |0          |3          |1    |\n",
            "|2013-01-01|HOME AND KITCHEN I |0.0      |0          |3          |1    |\n",
            "|2013-01-01|HOME AND KITCHEN II|0.0      |0          |3          |1    |\n",
            "|2013-01-01|HOME APPLIANCES    |0.0      |0          |3          |1    |\n",
            "|2013-01-01|HOME CARE          |0.0      |0          |3          |1    |\n",
            "|2013-01-01|LADIESWEAR         |0.0      |0          |3          |1    |\n",
            "+----------+-------------------+---------+-----------+-----------+-----+\n",
            "only showing top 20 rows\n",
            "\n"
          ]
        }
      ],
      "source": [
        "# Aggregation of the main_df to get the sales volumes aggregatet over all stores for each product family and date\n",
        "agg_df = main_df.groupBy('date', 'family').agg(sum('sales').alias(\"sales\"), sum('onpromotion').alias(\"onpromotion\"))\n",
        "\n",
        "# Adding of features related to the day of the week and the month of each record based on the date\n",
        "agg_df = agg_df.withColumn('day_of_week', dayofweek(agg_df.date)).withColumn('month', month(agg_df.date))\n",
        "agg_df.sort(col(\"date\"), col(\"family\")).show(truncate = False)"
      ]
    },
    {
      "cell_type": "markdown",
      "metadata": {
        "id": "WAmAeTufjZjG"
      },
      "source": [
        "## Oil_df Merge\n",
        "In this section the agg_df and the oil_df are getting merged to use the oil price in the ML-Part of the project"
      ]
    },
    {
      "cell_type": "markdown",
      "source": [
        "### Preprocessing"
      ],
      "metadata": {
        "id": "2PTK1v3HjD5l"
      }
    },
    {
      "cell_type": "code",
      "source": [
        "# Aggregating the oil_df and the agg_df\n",
        "agg_oil_merge_df = agg_df.join(oil_df, on='date', how='left') # left join agg_df and oil_df\n",
        "agg_oil_merge_df = agg_oil_merge_df.dropDuplicates(['date']) # reduce df to one row per date\n",
        "\n",
        "# Calculate the percentage of NaN values in the 'dcoilwtico' column\n",
        "percentage_nan = (agg_oil_merge_df.filter(col(\"dcoilwtico\").isNull()).count() / agg_oil_merge_df.count()) * 100\n",
        "print(f'Procentual number of NaN-Values: {percentage_nan}%')"
      ],
      "metadata": {
        "colab": {
          "base_uri": "https://localhost:8080/"
        },
        "id": "v26AmAKkhjeR",
        "outputId": "a5cc092b-2ee9-4e38-9557-1912b8308f6e"
      },
      "execution_count": 86,
      "outputs": [
        {
          "output_type": "stream",
          "name": "stdout",
          "text": [
            "Procentual number of NaN-Values: 30.93824228028503%\n"
          ]
        }
      ]
    },
    {
      "cell_type": "markdown",
      "source": [
        "Because of the high number of NaN-Values regarding the oilprice-value we decided to do a oilprice forecast"
      ],
      "metadata": {
        "id": "pgpR_JXKl3bX"
      }
    },
    {
      "cell_type": "markdown",
      "source": [
        "### Oilprice forecast"
      ],
      "metadata": {
        "id": "C4Nw4OtxmIin"
      }
    },
    {
      "cell_type": "code",
      "source": [
        "# Create a subset of agg_oil_merge_df to forecast the oil prices\n",
        "oil_forecast_df = agg_oil_merge_df.select('date', 'dcoilwtico', 'day_of_week', 'month')"
      ],
      "metadata": {
        "id": "bnmaajceh1Mh"
      },
      "execution_count": 87,
      "outputs": []
    },
    {
      "cell_type": "code",
      "source": [
        "n_lags = 5\n",
        "window_spec = Window.orderBy('date')\n",
        "for i in range(1, n_lags+1):\n",
        "  oil_forecast_df = oil_forecast_df.withColumn(\"lag_{}\".format(i), F.lag(\"dcoilwtico\", offset = i).over(window_spec).cast('float'))\n",
        "\n",
        "oil_forecast_df = oil_forecast_df.withColumn(\"dcoilwtico\", oil_forecast_df[\"dcoilwtico\"].cast('float'))\n",
        "oil_forecast_df.show()"
      ],
      "metadata": {
        "colab": {
          "base_uri": "https://localhost:8080/"
        },
        "id": "1hNbSyIZiFY7",
        "outputId": "cc8547a1-ef55-4d60-900f-42eef4723ee9"
      },
      "execution_count": 89,
      "outputs": [
        {
          "output_type": "stream",
          "name": "stdout",
          "text": [
            "+----------+----------+-----------+-----+-----+-----+-----+-----+-----+\n",
            "|      date|dcoilwtico|day_of_week|month|lag_1|lag_2|lag_3|lag_4|lag_5|\n",
            "+----------+----------+-----------+-----+-----+-----+-----+-----+-----+\n",
            "|2013-01-01|      NULL|          3|    1| NULL| NULL| NULL| NULL| NULL|\n",
            "|2013-01-02|     93.14|          4|    1| NULL| NULL| NULL| NULL| NULL|\n",
            "|2013-01-03|     92.97|          5|    1|93.14| NULL| NULL| NULL| NULL|\n",
            "|2013-01-04|     93.12|          6|    1|92.97|93.14| NULL| NULL| NULL|\n",
            "|2013-01-05|      NULL|          7|    1|93.12|92.97|93.14| NULL| NULL|\n",
            "|2013-01-06|      NULL|          1|    1| NULL|93.12|92.97|93.14| NULL|\n",
            "|2013-01-07|      93.2|          2|    1| NULL| NULL|93.12|92.97|93.14|\n",
            "|2013-01-08|     93.21|          3|    1| 93.2| NULL| NULL|93.12|92.97|\n",
            "|2013-01-09|     93.08|          4|    1|93.21| 93.2| NULL| NULL|93.12|\n",
            "|2013-01-10|     93.81|          5|    1|93.08|93.21| 93.2| NULL| NULL|\n",
            "|2013-01-11|      93.6|          6|    1|93.81|93.08|93.21| 93.2| NULL|\n",
            "|2013-01-12|      NULL|          7|    1| 93.6|93.81|93.08|93.21| 93.2|\n",
            "|2013-01-13|      NULL|          1|    1| NULL| 93.6|93.81|93.08|93.21|\n",
            "|2013-01-14|     94.27|          2|    1| NULL| NULL| 93.6|93.81|93.08|\n",
            "|2013-01-15|     93.26|          3|    1|94.27| NULL| NULL| 93.6|93.81|\n",
            "|2013-01-16|     94.28|          4|    1|93.26|94.27| NULL| NULL| 93.6|\n",
            "|2013-01-17|     95.49|          5|    1|94.28|93.26|94.27| NULL| NULL|\n",
            "|2013-01-18|     95.61|          6|    1|95.49|94.28|93.26|94.27| NULL|\n",
            "|2013-01-19|      NULL|          7|    1|95.61|95.49|94.28|93.26|94.27|\n",
            "|2013-01-20|      NULL|          1|    1| NULL|95.61|95.49|94.28|93.26|\n",
            "+----------+----------+-----------+-----+-----+-----+-----+-----+-----+\n",
            "only showing top 20 rows\n",
            "\n"
          ]
        }
      ]
    },
    {
      "cell_type": "markdown",
      "source": [
        "#### Data transformation/encoding/split, Pipeline creation"
      ],
      "metadata": {
        "id": "fWWLlJYejG-E"
      }
    },
    {
      "cell_type": "code",
      "source": [
        "numerical_cols = ['lag_1', 'lag_2', 'lag_3', 'lag_4', 'lag_5']\n",
        "categorical_cols = ['day_of_week', 'month']\n",
        "\n",
        "# Defining the encoder for encoding the categorical values\n",
        "encoder = OneHotEncoder(inputCols=categorical_cols,\n",
        "                        outputCols=[f\"{col}_encoded\" for col in categorical_cols])\n",
        "\n",
        "oil_forecast_encoded_df = encoder.fit(oil_forecast_df).transform(oil_forecast_df)"
      ],
      "metadata": {
        "id": "anZXDMBbjKF7"
      },
      "execution_count": 101,
      "outputs": []
    },
    {
      "cell_type": "code",
      "source": [
        "# Create the train set of data with oil prices\n",
        "oil_fc_train = oil_forecast_encoded_df.filter(oil_forecast_encoded_df['dcoilwtico'].isNotNull())\n",
        "# Create the prediction set of data without oil prices\n",
        "oil_fc_pred = oil_forecast_encoded_df.filter(oil_forecast_encoded_df['dcoilwtico'].isNull())"
      ],
      "metadata": {
        "id": "PqBnZW0XjizT"
      },
      "execution_count": 102,
      "outputs": []
    },
    {
      "cell_type": "code",
      "source": [
        "# Set the imputer\n",
        "numerical_imputer = Imputer(strategy=\"median\", inputCols=numerical_cols, outputCols=[f\"{col}_imputed\" for col in numerical_cols])\n",
        "\n",
        "# Assemble features into a single vector\n",
        "feature_cols = [f\"{col}_imputed\" for col in numerical_cols] + [f\"{col}_encoded\" for col in categorical_cols]\n",
        "assembler = VectorAssembler(inputCols=feature_cols,outputCol=\"features\")\n",
        "\n",
        "# Initialise the oilprice prediction model\n",
        "rfr_oil = RandomForestRegressor(featuresCol='features', labelCol='dcoilwtico')\n",
        "\n",
        "# Create the data preprocessing pipeline\n",
        "oil_pipeline = Pipeline(stages=[numerical_imputer, assembler, rfr_oil]) # pipeline for cross validation"
      ],
      "metadata": {
        "id": "LtrUts9wkJcC"
      },
      "execution_count": 103,
      "outputs": []
    },
    {
      "cell_type": "markdown",
      "source": [
        "#### Model training"
      ],
      "metadata": {
        "id": "AeFhqhSJlHvu"
      }
    },
    {
      "cell_type": "code",
      "source": [
        "param_grid = ParamGridBuilder() \\\n",
        "    .addGrid(rfr_oil.maxDepth, [5,7]) \\\n",
        "    .build()\n",
        "\n",
        "evaluator = RegressionEvaluator(labelCol=\"dcoilwtico\", predictionCol=\"prediction\", metricName=\"mae\")\n",
        "\n",
        "crossval = CrossValidator(estimator=oil_pipeline,\n",
        "                          estimatorParamMaps=param_grid,\n",
        "                          evaluator=evaluator,\n",
        "                          numFolds=5)\n",
        "\n",
        "cv_model_oil = crossval.fit(oil_fc_train)\n",
        "\n",
        "best_model_oil = cv_model_oil.bestModel # Model with the best parameters\n",
        "\n",
        "oil_predictions = best_model_oil.transform(oil_fc_pred)"
      ],
      "metadata": {
        "id": "i71OPi1AlJ3d"
      },
      "execution_count": 104,
      "outputs": []
    },
    {
      "cell_type": "markdown",
      "source": [
        "#### Oil price dataframe creation"
      ],
      "metadata": {
        "id": "wTu7DpZKlpat"
      }
    },
    {
      "cell_type": "code",
      "source": [
        "oil_new_df = oil_fc_train.select('date', 'dcoilwtico').union(oil_predictions.select('date', 'prediction').withColumnRenamed(\"prediction\",'dcoilwtico'))\n",
        "oil_new_df.sort(col(\"date\")).show(truncate = False)"
      ],
      "metadata": {
        "colab": {
          "base_uri": "https://localhost:8080/"
        },
        "id": "s6u7kCW5lnVm",
        "outputId": "0ea3a76d-ccf8-4b1b-b907-479e5dfc815e"
      },
      "execution_count": 107,
      "outputs": [
        {
          "output_type": "stream",
          "name": "stdout",
          "text": [
            "+----------+-----------------+\n",
            "|date      |dcoilwtico       |\n",
            "+----------+-----------------+\n",
            "|2013-01-01|51.27001419525241|\n",
            "|2013-01-02|93.13999938964844|\n",
            "|2013-01-03|92.97000122070312|\n",
            "|2013-01-04|93.12000274658203|\n",
            "|2013-01-05|93.24322576849536|\n",
            "|2013-01-06|94.23897578407957|\n",
            "|2013-01-07|93.19999694824219|\n",
            "|2013-01-08|93.20999908447266|\n",
            "|2013-01-09|93.08000183105469|\n",
            "|2013-01-10|93.80999755859375|\n",
            "|2013-01-11|93.5999984741211 |\n",
            "|2013-01-12|93.8679537450954 |\n",
            "|2013-01-13|93.56011075269237|\n",
            "|2013-01-14|94.2699966430664 |\n",
            "|2013-01-15|93.26000213623047|\n",
            "|2013-01-16|94.27999877929688|\n",
            "|2013-01-17|95.48999786376953|\n",
            "|2013-01-18|95.61000061035156|\n",
            "|2013-01-19|95.84087724370666|\n",
            "|2013-01-20|94.70283648174117|\n",
            "+----------+-----------------+\n",
            "only showing top 20 rows\n",
            "\n"
          ]
        }
      ]
    },
    {
      "cell_type": "code",
      "source": [
        "# Now the new_oil_df gets merged with the agg_df to do further preprocessing\n",
        "agg_oilprice_merged_df = agg_df.join(oil_new_df, on='date', how='left')\n",
        "\n",
        "# There are no NaN-Values left in the Column \"dcoilwtico\"\n",
        "percentage_nan = (agg_oilprice_merged_df.filter(col(\"dcoilwtico\").isNull()).count() / agg_oilprice_merged_df.count()) * 100\n",
        "print(f'Procentual number of NaN-Values: {percentage_nan}%')"
      ],
      "metadata": {
        "colab": {
          "base_uri": "https://localhost:8080/"
        },
        "id": "pwrT3XLLrm_X",
        "outputId": "71c80eea-1b54-4754-b367-887ca24e9ba6"
      },
      "execution_count": 109,
      "outputs": [
        {
          "output_type": "stream",
          "name": "stdout",
          "text": [
            "Procentual number of NaN-Values: 0.0%\n"
          ]
        }
      ]
    },
    {
      "cell_type": "markdown",
      "source": [
        "## Transactions_df Merge\n",
        "In this section we merge the aggregations_df with the agg_df to use the number of transaction per day for furter predictions"
      ],
      "metadata": {
        "id": "o6IV71ilmi7e"
      }
    },
    {
      "cell_type": "code",
      "execution_count": 110,
      "metadata": {
        "colab": {
          "base_uri": "https://localhost:8080/"
        },
        "id": "OKraYTyUjZjI",
        "outputId": "8880365d-e4fe-45d4-c00c-6398a9571bc7"
      },
      "outputs": [
        {
          "output_type": "stream",
          "name": "stdout",
          "text": [
            "+----------+------------+\n",
            "|date      |transactions|\n",
            "+----------+------------+\n",
            "|2013-01-01|770         |\n",
            "|2013-01-02|93215       |\n",
            "|2013-01-03|78504       |\n",
            "|2013-01-04|78494       |\n",
            "|2013-01-05|93573       |\n",
            "|2013-01-06|90464       |\n",
            "|2013-01-07|75597       |\n",
            "|2013-01-08|72325       |\n",
            "|2013-01-09|71971       |\n",
            "|2013-01-10|66383       |\n",
            "|2013-01-11|70338       |\n",
            "|2013-01-12|85511       |\n",
            "|2013-01-13|86306       |\n",
            "|2013-01-14|70078       |\n",
            "|2013-01-15|71134       |\n",
            "|2013-01-16|72471       |\n",
            "|2013-01-17|68873       |\n",
            "|2013-01-18|71371       |\n",
            "|2013-01-19|88558       |\n",
            "|2013-01-20|85281       |\n",
            "+----------+------------+\n",
            "only showing top 20 rows\n",
            "\n"
          ]
        }
      ],
      "source": [
        "agg_transactions_df = transactions_df.groupBy(\"date\").agg(sum(\"transactions\").alias(\"transactions\"))\n",
        "agg_transactions_df.sort(col(\"date\")).show(truncate = False)"
      ]
    },
    {
      "cell_type": "code",
      "execution_count": 119,
      "metadata": {
        "colab": {
          "base_uri": "https://localhost:8080/"
        },
        "id": "p3axBehCjZjI",
        "outputId": "d53cf22c-bcfb-427a-e704-2da1908133c3"
      },
      "outputs": [
        {
          "output_type": "stream",
          "name": "stdout",
          "text": [
            "+----------+-------------------+---------+-----------+-----------+-----+-----------------+------------+\n",
            "|date      |family             |sales    |onpromotion|day_of_week|month|dcoilwtico       |transactions|\n",
            "+----------+-------------------+---------+-----------+-----------+-----+-----------------+------------+\n",
            "|2013-01-01|AUTOMOTIVE         |0.0      |0          |3          |1    |51.27001419525241|770         |\n",
            "|2013-01-01|BABY CARE          |0.0      |0          |3          |1    |51.27001419525241|770         |\n",
            "|2013-01-01|BEAUTY             |2.0      |0          |3          |1    |51.27001419525241|770         |\n",
            "|2013-01-01|BEVERAGES          |810.0    |0          |3          |1    |51.27001419525241|770         |\n",
            "|2013-01-01|BOOKS              |0.0      |0          |3          |1    |51.27001419525241|770         |\n",
            "|2013-01-01|BREAD/BAKERY       |180.589  |0          |3          |1    |51.27001419525241|770         |\n",
            "|2013-01-01|CELEBRATION        |0.0      |0          |3          |1    |51.27001419525241|770         |\n",
            "|2013-01-01|CLEANING           |186.0    |0          |3          |1    |51.27001419525241|770         |\n",
            "|2013-01-01|DAIRY              |143.0    |0          |3          |1    |51.27001419525241|770         |\n",
            "|2013-01-01|DELI               |71.09    |0          |3          |1    |51.27001419525241|770         |\n",
            "|2013-01-01|EGGS               |46.0     |0          |3          |1    |51.27001419525241|770         |\n",
            "|2013-01-01|FROZEN FOODS       |29.654999|0          |3          |1    |51.27001419525241|770         |\n",
            "|2013-01-01|GROCERY I          |700.0    |0          |3          |1    |51.27001419525241|770         |\n",
            "|2013-01-01|GROCERY II         |15.0     |0          |3          |1    |51.27001419525241|770         |\n",
            "|2013-01-01|HARDWARE           |0.0      |0          |3          |1    |51.27001419525241|770         |\n",
            "|2013-01-01|HOME AND KITCHEN I |0.0      |0          |3          |1    |51.27001419525241|770         |\n",
            "|2013-01-01|HOME AND KITCHEN II|0.0      |0          |3          |1    |51.27001419525241|770         |\n",
            "|2013-01-01|HOME APPLIANCES    |0.0      |0          |3          |1    |51.27001419525241|770         |\n",
            "|2013-01-01|HOME CARE          |0.0      |0          |3          |1    |51.27001419525241|770         |\n",
            "|2013-01-01|LADIESWEAR         |0.0      |0          |3          |1    |51.27001419525241|770         |\n",
            "+----------+-------------------+---------+-----------+-----------+-----+-----------------+------------+\n",
            "only showing top 20 rows\n",
            "\n"
          ]
        }
      ],
      "source": [
        "merged_df = agg_oilprice_merged_df.join(agg_transactions_df, on='date', how='left')\n",
        "merged_df = merged_df.na.drop()\n",
        "merged_df.sort(col(\"date\"), col(\"family\")).show(truncate = False)"
      ]
    },
    {
      "cell_type": "markdown",
      "metadata": {
        "id": "xzAIoTwgjZjI"
      },
      "source": [
        "### Holidays_df Merge\n",
        "In this section the holidays_df gets merged to use the transaction data for the upcoming model prediction"
      ]
    },
    {
      "cell_type": "code",
      "execution_count": 120,
      "metadata": {
        "colab": {
          "base_uri": "https://localhost:8080/"
        },
        "id": "GmI1WELyjZjI",
        "outputId": "497e0a90-c2c2-4689-b8e9-ef3984cd7953"
      },
      "outputs": [
        {
          "output_type": "stream",
          "name": "stdout",
          "text": [
            "+----------+-------+--------+-------------+--------------------+-----------+\n",
            "|      date|   type|  locale|  locale_name|         description|transferred|\n",
            "+----------+-------+--------+-------------+--------------------+-----------+\n",
            "|2012-03-02|Holiday|   Local|        Manta|  Fundacion de Manta|      false|\n",
            "|2012-04-01|Holiday|Regional|     Cotopaxi|Provincializacion...|      false|\n",
            "|2012-04-12|Holiday|   Local|       Cuenca| Fundacion de Cuenca|      false|\n",
            "|2012-04-14|Holiday|   Local|     Libertad|Cantonizacion de ...|      false|\n",
            "|2012-04-21|Holiday|   Local|     Riobamba|Cantonizacion de ...|      false|\n",
            "|2012-05-12|Holiday|   Local|         Puyo|Cantonizacion del...|      false|\n",
            "|2012-06-23|Holiday|   Local|     Guaranda|Cantonizacion de ...|      false|\n",
            "|2012-06-25|Holiday|Regional|     Imbabura|Provincializacion...|      false|\n",
            "|2012-06-25|Holiday|   Local|    Latacunga|Cantonizacion de ...|      false|\n",
            "|2012-06-25|Holiday|   Local|      Machala|Fundacion de Machala|      false|\n",
            "|2012-07-03|Holiday|   Local|Santo Domingo|Fundacion de Sant...|      false|\n",
            "|2012-07-03|Holiday|   Local|    El Carmen|Cantonizacion de ...|      false|\n",
            "|2012-07-23|Holiday|   Local|      Cayambe|Cantonizacion de ...|      false|\n",
            "|2012-08-05|Holiday|   Local|   Esmeraldas|Fundacion de Esme...|      false|\n",
            "|2012-08-10|Holiday|National|      Ecuador|Primer Grito de I...|      false|\n",
            "|2012-08-15|Holiday|   Local|     Riobamba|Fundacion de Riob...|      false|\n",
            "|2012-08-24|Holiday|   Local|       Ambato| Fundacion de Ambato|      false|\n",
            "|2012-09-28|Holiday|   Local|       Ibarra| Fundacion de Ibarra|      false|\n",
            "|2012-10-07|Holiday|   Local|      Quevedo|Cantonizacion de ...|      false|\n",
            "|2012-10-09|Holiday|National|      Ecuador|Independencia de ...|       true|\n",
            "+----------+-------+--------+-------------+--------------------+-----------+\n",
            "only showing top 20 rows\n",
            "\n"
          ]
        }
      ],
      "source": [
        "holidays_df.show()"
      ]
    },
    {
      "cell_type": "code",
      "execution_count": 121,
      "metadata": {
        "colab": {
          "base_uri": "https://localhost:8080/"
        },
        "id": "4G2VEZrjjZjI",
        "outputId": "f92bfb8f-d22b-4c6d-b570-c906043b571a"
      },
      "outputs": [
        {
          "output_type": "stream",
          "name": "stdout",
          "text": [
            "+----------+----------+\n",
            "|date      |type      |\n",
            "+----------+----------+\n",
            "|2012-08-10|Holiday   |\n",
            "|2012-10-12|Holiday   |\n",
            "|2012-11-02|Holiday   |\n",
            "|2012-11-03|Holiday   |\n",
            "|2012-12-21|Additional|\n",
            "|2012-12-22|Additional|\n",
            "|2012-12-23|Additional|\n",
            "|2012-12-24|Bridge    |\n",
            "|2012-12-24|Additional|\n",
            "|2012-12-25|Holiday   |\n",
            "|2012-12-26|Additional|\n",
            "|2012-12-31|Bridge    |\n",
            "|2012-12-31|Additional|\n",
            "|2013-01-01|Holiday   |\n",
            "|2013-01-05|Work Day  |\n",
            "|2013-01-12|Work Day  |\n",
            "|2013-02-11|Holiday   |\n",
            "|2013-02-12|Holiday   |\n",
            "|2013-04-29|Holiday   |\n",
            "|2013-05-01|Holiday   |\n",
            "+----------+----------+\n",
            "only showing top 20 rows\n",
            "\n"
          ]
        }
      ],
      "source": [
        "# We only want to use the Holiday/Additional,etc. data which counts for the whole country Ecuador\n",
        "modified_holidays_df = holidays_df.filter((col(\"transferred\") == False) & (col(\"locale\") == \"National\"))\n",
        "modified_holidays_df = modified_holidays_df.withColumn(\"type\", when(col(\"type\") == \"Transfer\", \"Holiday\").otherwise(col(\"type\")))\n",
        "\n",
        "modified_holidays_df = modified_holidays_df.select(\"date\", \"type\")\n",
        "modified_holidays_df.sort(col(\"date\")).show(truncate = False)"
      ]
    },
    {
      "cell_type": "code",
      "execution_count": 123,
      "metadata": {
        "colab": {
          "base_uri": "https://localhost:8080/"
        },
        "id": "bv0_Yan0jZjI",
        "outputId": "95979385-4f0e-40c6-ff65-4020237d0524"
      },
      "outputs": [
        {
          "output_type": "stream",
          "name": "stdout",
          "text": [
            "+----------+-------------------+---------+-----------+-----------+-----+-----------------+------------+-------+\n",
            "|date      |family             |sales    |onpromotion|day_of_week|month|dcoilwtico       |transactions|type   |\n",
            "+----------+-------------------+---------+-----------+-----------+-----+-----------------+------------+-------+\n",
            "|2013-01-01|AUTOMOTIVE         |0.0      |0          |3          |1    |51.27001419525241|770         |Holiday|\n",
            "|2013-01-01|BABY CARE          |0.0      |0          |3          |1    |51.27001419525241|770         |Holiday|\n",
            "|2013-01-01|BEAUTY             |2.0      |0          |3          |1    |51.27001419525241|770         |Holiday|\n",
            "|2013-01-01|BEVERAGES          |810.0    |0          |3          |1    |51.27001419525241|770         |Holiday|\n",
            "|2013-01-01|BOOKS              |0.0      |0          |3          |1    |51.27001419525241|770         |Holiday|\n",
            "|2013-01-01|BREAD/BAKERY       |180.589  |0          |3          |1    |51.27001419525241|770         |Holiday|\n",
            "|2013-01-01|CELEBRATION        |0.0      |0          |3          |1    |51.27001419525241|770         |Holiday|\n",
            "|2013-01-01|CLEANING           |186.0    |0          |3          |1    |51.27001419525241|770         |Holiday|\n",
            "|2013-01-01|DAIRY              |143.0    |0          |3          |1    |51.27001419525241|770         |Holiday|\n",
            "|2013-01-01|DELI               |71.09    |0          |3          |1    |51.27001419525241|770         |Holiday|\n",
            "|2013-01-01|EGGS               |46.0     |0          |3          |1    |51.27001419525241|770         |Holiday|\n",
            "|2013-01-01|FROZEN FOODS       |29.654999|0          |3          |1    |51.27001419525241|770         |Holiday|\n",
            "|2013-01-01|GROCERY I          |700.0    |0          |3          |1    |51.27001419525241|770         |Holiday|\n",
            "|2013-01-01|GROCERY II         |15.0     |0          |3          |1    |51.27001419525241|770         |Holiday|\n",
            "|2013-01-01|HARDWARE           |0.0      |0          |3          |1    |51.27001419525241|770         |Holiday|\n",
            "|2013-01-01|HOME AND KITCHEN I |0.0      |0          |3          |1    |51.27001419525241|770         |Holiday|\n",
            "|2013-01-01|HOME AND KITCHEN II|0.0      |0          |3          |1    |51.27001419525241|770         |Holiday|\n",
            "|2013-01-01|HOME APPLIANCES    |0.0      |0          |3          |1    |51.27001419525241|770         |Holiday|\n",
            "|2013-01-01|HOME CARE          |0.0      |0          |3          |1    |51.27001419525241|770         |Holiday|\n",
            "|2013-01-01|LADIESWEAR         |0.0      |0          |3          |1    |51.27001419525241|770         |Holiday|\n",
            "+----------+-------------------+---------+-----------+-----------+-----+-----------------+------------+-------+\n",
            "only showing top 20 rows\n",
            "\n"
          ]
        }
      ],
      "source": [
        "# Doing the merge of modified_holidays_df and merged_df\n",
        "merged_df = merged_df.join(modified_holidays_df, on=\"date\", how=\"left\")\n",
        "# The dates on which no holiday or something else encounted in the holiday_df takes place we insert \"Normal\" as a value\n",
        "merged_df = merged_df.withColumn(\"type\", when(merged_df[\"type\"].isNull(), \"Normal\").otherwise(merged_df[\"type\"]))\n",
        "merged_df.sort(col(\"date\"), col('family')).show(truncate = False)"
      ]
    },
    {
      "cell_type": "markdown",
      "metadata": {
        "id": "9kafBXltjZjI"
      },
      "source": [
        "# Feature based prediction (fb)\n",
        "In the first trained model for predicting the sales volumes we use a normal feature based prediction without taking into account previous values."
      ]
    },
    {
      "cell_type": "markdown",
      "metadata": {
        "id": "R2JpI4uaXACO"
      },
      "source": [
        "## Data transformation/encoding"
      ]
    },
    {
      "cell_type": "code",
      "execution_count": 124,
      "metadata": {
        "colab": {
          "base_uri": "https://localhost:8080/"
        },
        "id": "pIWnx15yjZjI",
        "outputId": "2f3deee0-c7e6-4d5f-a2ab-817c0661fe72"
      },
      "outputs": [
        {
          "output_type": "stream",
          "name": "stdout",
          "text": [
            "+----------+-------------------+---------+-----------+-----------------+-----------+-----------------+------------+-------+----------+------------+-------------------+--------------+-------------+---------------+\n",
            "|date      |family             |sales    |onpromotion|day_of_week_index|month_index|dcoilwtico       |transactions|type   |type_index|family_index|day_of_week_encoded|month_encoded |type_encoded |family_encoded |\n",
            "+----------+-------------------+---------+-----------+-----------------+-----------+-----------------+------------+-------+----------+------------+-------------------+--------------+-------------+---------------+\n",
            "|2013-01-01|AUTOMOTIVE         |0.0      |0          |3                |1          |51.27001419525241|770         |Holiday|2.0       |0.0         |(7,[3],[1.0])      |(12,[1],[1.0])|(5,[2],[1.0])|(32,[0],[1.0]) |\n",
            "|2013-01-01|BABY CARE          |0.0      |0          |3                |1          |51.27001419525241|770         |Holiday|2.0       |1.0         |(7,[3],[1.0])      |(12,[1],[1.0])|(5,[2],[1.0])|(32,[1],[1.0]) |\n",
            "|2013-01-01|BEAUTY             |2.0      |0          |3                |1          |51.27001419525241|770         |Holiday|2.0       |2.0         |(7,[3],[1.0])      |(12,[1],[1.0])|(5,[2],[1.0])|(32,[2],[1.0]) |\n",
            "|2013-01-01|BEVERAGES          |810.0    |0          |3                |1          |51.27001419525241|770         |Holiday|2.0       |3.0         |(7,[3],[1.0])      |(12,[1],[1.0])|(5,[2],[1.0])|(32,[3],[1.0]) |\n",
            "|2013-01-01|BOOKS              |0.0      |0          |3                |1          |51.27001419525241|770         |Holiday|2.0       |4.0         |(7,[3],[1.0])      |(12,[1],[1.0])|(5,[2],[1.0])|(32,[4],[1.0]) |\n",
            "|2013-01-01|BREAD/BAKERY       |180.589  |0          |3                |1          |51.27001419525241|770         |Holiday|2.0       |5.0         |(7,[3],[1.0])      |(12,[1],[1.0])|(5,[2],[1.0])|(32,[5],[1.0]) |\n",
            "|2013-01-01|CELEBRATION        |0.0      |0          |3                |1          |51.27001419525241|770         |Holiday|2.0       |6.0         |(7,[3],[1.0])      |(12,[1],[1.0])|(5,[2],[1.0])|(32,[6],[1.0]) |\n",
            "|2013-01-01|CLEANING           |186.0    |0          |3                |1          |51.27001419525241|770         |Holiday|2.0       |7.0         |(7,[3],[1.0])      |(12,[1],[1.0])|(5,[2],[1.0])|(32,[7],[1.0]) |\n",
            "|2013-01-01|DAIRY              |143.0    |0          |3                |1          |51.27001419525241|770         |Holiday|2.0       |8.0         |(7,[3],[1.0])      |(12,[1],[1.0])|(5,[2],[1.0])|(32,[8],[1.0]) |\n",
            "|2013-01-01|DELI               |71.09    |0          |3                |1          |51.27001419525241|770         |Holiday|2.0       |9.0         |(7,[3],[1.0])      |(12,[1],[1.0])|(5,[2],[1.0])|(32,[9],[1.0]) |\n",
            "|2013-01-01|EGGS               |46.0     |0          |3                |1          |51.27001419525241|770         |Holiday|2.0       |10.0        |(7,[3],[1.0])      |(12,[1],[1.0])|(5,[2],[1.0])|(32,[10],[1.0])|\n",
            "|2013-01-01|FROZEN FOODS       |29.654999|0          |3                |1          |51.27001419525241|770         |Holiday|2.0       |11.0        |(7,[3],[1.0])      |(12,[1],[1.0])|(5,[2],[1.0])|(32,[11],[1.0])|\n",
            "|2013-01-01|GROCERY I          |700.0    |0          |3                |1          |51.27001419525241|770         |Holiday|2.0       |12.0        |(7,[3],[1.0])      |(12,[1],[1.0])|(5,[2],[1.0])|(32,[12],[1.0])|\n",
            "|2013-01-01|GROCERY II         |15.0     |0          |3                |1          |51.27001419525241|770         |Holiday|2.0       |13.0        |(7,[3],[1.0])      |(12,[1],[1.0])|(5,[2],[1.0])|(32,[13],[1.0])|\n",
            "|2013-01-01|HARDWARE           |0.0      |0          |3                |1          |51.27001419525241|770         |Holiday|2.0       |14.0        |(7,[3],[1.0])      |(12,[1],[1.0])|(5,[2],[1.0])|(32,[14],[1.0])|\n",
            "|2013-01-01|HOME AND KITCHEN I |0.0      |0          |3                |1          |51.27001419525241|770         |Holiday|2.0       |15.0        |(7,[3],[1.0])      |(12,[1],[1.0])|(5,[2],[1.0])|(32,[15],[1.0])|\n",
            "|2013-01-01|HOME AND KITCHEN II|0.0      |0          |3                |1          |51.27001419525241|770         |Holiday|2.0       |16.0        |(7,[3],[1.0])      |(12,[1],[1.0])|(5,[2],[1.0])|(32,[16],[1.0])|\n",
            "|2013-01-01|HOME APPLIANCES    |0.0      |0          |3                |1          |51.27001419525241|770         |Holiday|2.0       |17.0        |(7,[3],[1.0])      |(12,[1],[1.0])|(5,[2],[1.0])|(32,[17],[1.0])|\n",
            "|2013-01-01|HOME CARE          |0.0      |0          |3                |1          |51.27001419525241|770         |Holiday|2.0       |18.0        |(7,[3],[1.0])      |(12,[1],[1.0])|(5,[2],[1.0])|(32,[18],[1.0])|\n",
            "|2013-01-01|LADIESWEAR         |0.0      |0          |3                |1          |51.27001419525241|770         |Holiday|2.0       |19.0        |(7,[3],[1.0])      |(12,[1],[1.0])|(5,[2],[1.0])|(32,[19],[1.0])|\n",
            "+----------+-------------------+---------+-----------+-----------------+-----------+-----------------+------------+-------+----------+------------+-------------------+--------------+-------------+---------------+\n",
            "only showing top 20 rows\n",
            "\n"
          ]
        }
      ],
      "source": [
        "transformed_df_fb = merged_df\n",
        "\n",
        "transformed_df_fb = transformed_df_fb.withColumnRenamed(\"day_of_week\", \"day_of_week_index\")\n",
        "transformed_df_fb = transformed_df_fb.withColumnRenamed(\"month\", \"month_index\")\n",
        "\n",
        "str_cat_cols_fb = [\"type\", \"family\"]\n",
        "cat_cols_fb = [\"day_of_week\", \"month\", \"type\", \"family\"]\n",
        "\n",
        "indexers = [StringIndexer(inputCol=col, outputCol=col+\"_index\") for col in str_cat_cols_fb]\n",
        "encoders = [OneHotEncoder(inputCol=col + \"_index\", outputCol=col + \"_encoded\") for col in cat_cols_fb]\n",
        "\n",
        "pipeline = Pipeline(stages=indexers + encoders)\n",
        "model = pipeline.fit(transformed_df_fb)\n",
        "data = model.transform(transformed_df_fb)\n",
        "data.sort(col(\"date\"), col('family')).show(truncate = False)"
      ]
    },
    {
      "cell_type": "markdown",
      "metadata": {
        "id": "ePBuO71rXBUQ"
      },
      "source": [
        "## Model training"
      ]
    },
    {
      "cell_type": "code",
      "execution_count": 125,
      "metadata": {
        "id": "6EkUS3gCjZjI"
      },
      "outputs": [],
      "source": [
        "feature_cols = [\"day_of_week_encoded\", \"month_encoded\", \"type_encoded\", \"family_encoded\", \"transactions\", \"dcoilwtico\", \"onpromotion\"]\n",
        "\n",
        "assembler = VectorAssembler(inputCols=feature_cols, outputCol=\"features\")\n",
        "\n",
        "gbt = GBTRegressor(featuresCol=\"features\", labelCol=\"sales\", maxBins=33)\n",
        "\n",
        "pipeline = Pipeline(stages=[assembler, gbt])\n",
        "\n",
        "paramGrid = (ParamGridBuilder()\n",
        "             .addGrid(gbt.maxDepth, [4, 6])\n",
        "             .addGrid(gbt.maxIter, [50, 100])\n",
        "             .addGrid(gbt.stepSize, [0.1, 0.01])\n",
        "             .build())\n",
        "\n",
        "evaluator = RegressionEvaluator(labelCol=\"sales\", predictionCol=\"prediction\", metricName=\"mae\")\n",
        "\n",
        "crossval = CrossValidator(estimator=pipeline,\n",
        "                          estimatorParamMaps=paramGrid,\n",
        "                          evaluator=evaluator,\n",
        "                          numFolds=2)\n",
        "\n",
        "train_data, test_data = data.randomSplit([0.8, 0.2], seed=12)\n",
        "cvModel = crossval.fit(train_data)"
      ]
    },
    {
      "cell_type": "markdown",
      "metadata": {
        "id": "I9y3A2VN5MZr"
      },
      "source": [
        "## Evaluation"
      ]
    },
    {
      "cell_type": "markdown",
      "metadata": {
        "id": "tiD2R0gW5P1b"
      },
      "source": [
        "### Overall evaluation"
      ]
    },
    {
      "cell_type": "code",
      "execution_count": 130,
      "metadata": {
        "colab": {
          "base_uri": "https://localhost:8080/"
        },
        "id": "UlYC9hxk5L67",
        "outputId": "977b167e-5a92-4e7c-e914-d468557a49f0"
      },
      "outputs": [
        {
          "output_type": "stream",
          "name": "stdout",
          "text": [
            "Mean Absolute Error (MAE): 2019.3064947554606\n"
          ]
        }
      ],
      "source": [
        "evaluation_fb_df = cvModel.transform(test_data)\n",
        "clipped_evaluation_fb_df = evaluation_fb_df.withColumn(\"clipped_predictions\", when(col(\"prediction\") < 0, 0).otherwise(col(\"prediction\")))\n",
        "\n",
        "mae = evaluator.evaluate(clipped_evaluation_fb_df)\n",
        "\n",
        "best_model = cvModel.bestModel\n",
        "\n",
        "print(\"Mean Absolute Error (MAE):\", mae)"
      ]
    },
    {
      "cell_type": "code",
      "execution_count": 133,
      "metadata": {
        "colab": {
          "base_uri": "https://localhost:8080/"
        },
        "id": "J7ac8vuEjZjc",
        "outputId": "0ee4158a-2c27-4d36-a295-3f6a7f559086"
      },
      "outputs": [
        {
          "output_type": "stream",
          "name": "stdout",
          "text": [
            "+------------------+-------------------+\n",
            "|             sales|clipped_predictions|\n",
            "+------------------+-------------------+\n",
            "|               0.0|                0.0|\n",
            "|             186.0|  16437.16335618371|\n",
            "|               0.0|                0.0|\n",
            "|           110.801| 3629.6335336039856|\n",
            "|               0.0|                0.0|\n",
            "|               0.0|                0.0|\n",
            "|             255.0|  697.5648840967916|\n",
            "|               0.0|  722.4296956057548|\n",
            "|15754.500000000002| 12823.271693997933|\n",
            "|            1476.0| 1332.8697452310762|\n",
            "|               0.0| 11493.949004926975|\n",
            "|           17204.0| 15528.730866883498|\n",
            "| 5338.111975999999|  6397.462639051975|\n",
            "|       1526.750002|  722.4296956057548|\n",
            "|       18456.48002| 17919.562476878822|\n",
            "|       4760.805009|  5197.111639483184|\n",
            "|              37.0|  454.4587384580996|\n",
            "|               0.0|  350.3133655566963|\n",
            "|              15.0|  427.4880864793748|\n",
            "|               0.0|  9017.018767647945|\n",
            "+------------------+-------------------+\n",
            "only showing top 20 rows\n",
            "\n"
          ]
        }
      ],
      "source": [
        "# Show the true sales values compared to the predicted ones\n",
        "clipped_evaluation_fb_df.select(\"sales\", \"clipped_predictions\").show()"
      ]
    },
    {
      "cell_type": "markdown",
      "metadata": {
        "id": "LG3tl8ObjZjc"
      },
      "source": [
        "### Product family wise evaluation"
      ]
    },
    {
      "cell_type": "code",
      "execution_count": 135,
      "metadata": {
        "id": "GAJjUtKe8mK-"
      },
      "outputs": [],
      "source": [
        "filtered_evaluation_fb_df = clipped_evaluation_fb_df.select(\"family\", \"sales\", \"clipped_predictions\")\n",
        "evaluator = RegressionEvaluator(labelCol=\"sales\", predictionCol=\"clipped_predictions\", metricName=\"mae\")\n",
        "unique_family_values = filtered_evaluation_fb_df.select(\"family\").distinct().rdd.flatMap(lambda x: x).collect()\n",
        "\n",
        "data = []\n",
        "for value in unique_family_values:\n",
        "  df_fb = filtered_evaluation_fb_df.filter(filtered_evaluation_fb_df['family'] == value)\n",
        "  mae_fb = evaluator.evaluate(df_fb)\n",
        "  mean_fb = df_fb.select(mean(\"sales\")).collect()[0][0]\n",
        "  row = Row(family=value, mean=mean_fb, mean_absolute_error=mae_fb)\n",
        "  data.append(row)\n",
        "\n",
        "family_evaluation_fb_df = spark.createDataFrame(data)"
      ]
    },
    {
      "cell_type": "code",
      "execution_count": 136,
      "metadata": {
        "id": "Ghgw2zy_FPy3",
        "colab": {
          "base_uri": "https://localhost:8080/"
        },
        "outputId": "8a1f4d74-6ebf-44c9-e6e9-bb32ce447636"
      },
      "outputs": [
        {
          "output_type": "stream",
          "name": "stdout",
          "text": [
            "+-------------------+------------------+-------------------+\n",
            "|             family|              mean|mean_absolute_error|\n",
            "+-------------------+------------------+-------------------+\n",
            "|     PREPARED FOODS|5230.4515081210375|  420.6393269845602|\n",
            "|         LADIESWEAR|382.79639175257734|  348.5981787217733|\n",
            "|HOME AND KITCHEN II|  911.861581920904|  513.6927463111062|\n",
            "|    LAWN AND GARDEN|330.26358695652175| 302.89053819749904|\n",
            "|          GROCERY I| 202750.6754290032| 15814.814652801457|\n",
            "|          BABY CARE| 6.491891891891892| 189.18802818432312|\n",
            "|            PRODUCE| 70645.91190945453|  9371.646271386293|\n",
            "|         AUTOMOTIVE|331.54597701149424|  274.3895864846023|\n",
            "|          HOME CARE|10088.822784810127| 1276.5148066686402|\n",
            "|          BEVERAGES|128460.99442896935| 13031.354819849461|\n",
            "|       BREAD/BAKERY|25303.821485757315|  1453.215131417575|\n",
            "|              BOOKS|3.5608974358974357| 199.91030165804156|\n",
            "|           LINGERIE| 387.0639534883721| 274.58533873111946|\n",
            "|        CELEBRATION| 453.6511627906977| 388.02800120332665|\n",
            "|         GROCERY II|1178.2047477744807|  450.0191578568155|\n",
            "|          MAGAZINES|157.78630136986303| 254.82488662931428|\n",
            "|              DAIRY| 38894.51641791045| 3874.9708455968544|\n",
            "|            SEAFOOD|  1196.59887492018| 1424.8836759506414|\n",
            "|   LIQUOR,WINE,BEER|        4289.50625|  1042.057624256643|\n",
            "| HOME AND KITCHEN I| 1128.625786163522|  623.6060159519388|\n",
            "+-------------------+------------------+-------------------+\n",
            "only showing top 20 rows\n",
            "\n"
          ]
        }
      ],
      "source": [
        "family_evaluation_fb_df.show()"
      ]
    },
    {
      "cell_type": "markdown",
      "metadata": {
        "id": "yAR7KybXjZjd"
      },
      "source": [
        "# Feature based prediction with Time lags (tl)"
      ]
    },
    {
      "cell_type": "markdown",
      "metadata": {
        "id": "BS2V5KaJWvw3"
      },
      "source": [
        "## Preprocessing"
      ]
    },
    {
      "cell_type": "code",
      "execution_count": 137,
      "metadata": {
        "id": "L_9PYDECV43e"
      },
      "outputs": [],
      "source": [
        "tl_df = merged_df"
      ]
    },
    {
      "cell_type": "code",
      "execution_count": 138,
      "metadata": {
        "id": "T2UuyDzjPLkb"
      },
      "outputs": [],
      "source": [
        "window_spec = Window.partitionBy(\"family\").orderBy(\"date\")\n",
        "\n",
        "tl_df = tl_df.withColumn(\"lag_1\", F.lag(\"sales\", 1).over(window_spec))\n",
        "tl_df = tl_df.withColumn(\"lag_2\", F.lag(\"sales\", 2).over(window_spec))\n",
        "tl_df = tl_df.withColumn(\"lag_3\", F.lag(\"sales\", 3).over(window_spec))"
      ]
    },
    {
      "cell_type": "code",
      "execution_count": 139,
      "metadata": {
        "colab": {
          "base_uri": "https://localhost:8080/"
        },
        "id": "RchUStfCV27I",
        "outputId": "e048afa2-6f97-4fcb-eabd-960eb0347fac"
      },
      "outputs": [
        {
          "output_type": "stream",
          "name": "stdout",
          "text": [
            "+----------+----------+-----+-----------+-----------+-----+-----------------+------------+--------+-----+-----+-----+\n",
            "|      date|    family|sales|onpromotion|day_of_week|month|       dcoilwtico|transactions|    type|lag_1|lag_2|lag_3|\n",
            "+----------+----------+-----+-----------+-----------+-----+-----------------+------------+--------+-----+-----+-----+\n",
            "|2013-01-04|AUTOMOTIVE|169.0|          0|          6|    1|93.12000274658203|       78494|  Normal|161.0|255.0|  0.0|\n",
            "|2013-01-05|AUTOMOTIVE|342.0|          0|          7|    1|93.24322576849536|       93573|Work Day|169.0|161.0|255.0|\n",
            "|2013-01-06|AUTOMOTIVE|360.0|          0|          1|    1|94.23897578407957|       90464|  Normal|342.0|169.0|161.0|\n",
            "|2013-01-07|AUTOMOTIVE|189.0|          0|          2|    1|93.19999694824219|       75597|  Normal|360.0|342.0|169.0|\n",
            "|2013-01-08|AUTOMOTIVE|229.0|          0|          3|    1|93.20999908447266|       72325|  Normal|189.0|360.0|342.0|\n",
            "|2013-01-09|AUTOMOTIVE|164.0|          0|          4|    1|93.08000183105469|       71971|  Normal|229.0|189.0|360.0|\n",
            "|2013-01-10|AUTOMOTIVE|164.0|          0|          5|    1|93.80999755859375|       66383|  Normal|164.0|229.0|189.0|\n",
            "|2013-01-11|AUTOMOTIVE|162.0|          0|          6|    1| 93.5999984741211|       70338|  Normal|164.0|164.0|229.0|\n",
            "|2013-01-12|AUTOMOTIVE|280.0|          0|          7|    1| 93.8679537450954|       85511|Work Day|162.0|164.0|164.0|\n",
            "|2013-01-13|AUTOMOTIVE|326.0|          0|          1|    1|93.56011075269237|       86306|  Normal|280.0|162.0|164.0|\n",
            "|2013-01-14|AUTOMOTIVE|162.0|          0|          2|    1| 94.2699966430664|       70078|  Normal|326.0|280.0|162.0|\n",
            "|2013-01-15|AUTOMOTIVE|165.0|          0|          3|    1|93.26000213623047|       71134|  Normal|162.0|326.0|280.0|\n",
            "|2013-01-16|AUTOMOTIVE|171.0|          0|          4|    1|94.27999877929688|       72471|  Normal|165.0|162.0|326.0|\n",
            "|2013-01-17|AUTOMOTIVE|192.0|          0|          5|    1|95.48999786376953|       68873|  Normal|171.0|165.0|162.0|\n",
            "|2013-01-18|AUTOMOTIVE|170.0|          0|          6|    1|95.61000061035156|       71371|  Normal|192.0|171.0|165.0|\n",
            "|2013-01-19|AUTOMOTIVE|281.0|          0|          7|    1|95.84087724370666|       88558|  Normal|170.0|192.0|171.0|\n",
            "|2013-01-20|AUTOMOTIVE|370.0|          0|          1|    1|94.70283648174117|       85281|  Normal|281.0|170.0|192.0|\n",
            "|2013-01-21|AUTOMOTIVE|189.0|          0|          2|    1|95.64852130702148|       73250|  Normal|370.0|281.0|170.0|\n",
            "|2013-01-22|AUTOMOTIVE|163.0|          0|          3|    1|96.08999633789062|       68988|  Normal|189.0|370.0|281.0|\n",
            "|2013-01-23|AUTOMOTIVE|198.0|          0|          4|    1|95.05999755859375|       69819|  Normal|163.0|189.0|370.0|\n",
            "+----------+----------+-----+-----------+-----------+-----+-----------------+------------+--------+-----+-----+-----+\n",
            "only showing top 20 rows\n",
            "\n"
          ]
        }
      ],
      "source": [
        "specific_date = \"2013-01-04\" # The Time lag dataframe should start from the \"2013-01-04\" because else there is no lag data for the first row\n",
        "specific_date = spark.createDataFrame([(specific_date,)], [\"specific_date\"]).withColumn(\"specific_date\", col(\"specific_date\").cast(DateType()))\n",
        "tl_df_filtered = tl_df.filter(col(\"date\") >= specific_date.select(\"specific_date\").collect()[0][0])\n",
        "tl_df_filtered.show()"
      ]
    },
    {
      "cell_type": "markdown",
      "metadata": {
        "id": "5GpTYtT4W0Qf"
      },
      "source": [
        "## Data transformation/encoding"
      ]
    },
    {
      "cell_type": "code",
      "execution_count": 142,
      "metadata": {
        "colab": {
          "base_uri": "https://localhost:8080/"
        },
        "id": "vtV4qfH0WyIf",
        "outputId": "3cd48a94-c98c-4cac-c805-397940634c44"
      },
      "outputs": [
        {
          "output_type": "stream",
          "name": "stdout",
          "text": [
            "+----------+-------------------+------------------+-----------+-----------------+-----------+-----------------+------------+------+------------------+------------------+---------+----------+------------+-------------------+--------------+-------------+---------------+\n",
            "|date      |family             |sales             |onpromotion|day_of_week_index|month_index|dcoilwtico       |transactions|type  |lag_1             |lag_2             |lag_3    |type_index|family_index|day_of_week_encoded|month_encoded |type_encoded |family_encoded |\n",
            "+----------+-------------------+------------------+-----------+-----------------+-----------+-----------------+------------+------+------------------+------------------+---------+----------+------------+-------------------+--------------+-------------+---------------+\n",
            "|2013-01-04|AUTOMOTIVE         |169.0             |0          |6                |1          |93.12000274658203|78494       |Normal|161.0             |255.0             |0.0      |0.0       |0.0         |(7,[6],[1.0])      |(12,[1],[1.0])|(5,[0],[1.0])|(32,[0],[1.0]) |\n",
            "|2013-01-04|BABY CARE          |0.0               |0          |6                |1          |93.12000274658203|78494       |Normal|0.0               |0.0               |0.0      |0.0       |1.0         |(7,[6],[1.0])      |(12,[1],[1.0])|(5,[0],[1.0])|(32,[1],[1.0]) |\n",
            "|2013-01-04|BEAUTY             |133.0             |0          |6                |1          |93.12000274658203|78494       |Normal|125.0             |207.0             |2.0      |0.0       |2.0         |(7,[6],[1.0])      |(12,[1],[1.0])|(5,[0],[1.0])|(32,[2],[1.0]) |\n",
            "|2013-01-04|BEVERAGES          |54167.0           |0          |6                |1          |93.12000274658203|78494       |Normal|52105.0           |72092.0           |810.0    |0.0       |3.0         |(7,[6],[1.0])      |(12,[1],[1.0])|(5,[0],[1.0])|(32,[3],[1.0]) |\n",
            "|2013-01-04|BOOKS              |0.0               |0          |6                |1          |93.12000274658203|78494       |Normal|0.0               |0.0               |0.0      |0.0       |4.0         |(7,[6],[1.0])      |(12,[1],[1.0])|(5,[0],[1.0])|(32,[4],[1.0]) |\n",
            "|2013-01-04|BREAD/BAKERY       |16721.969009999997|0          |6                |1          |93.12000274658203|78494       |Normal|18456.48002       |26246.319         |180.589  |0.0       |5.0         |(7,[6],[1.0])      |(12,[1],[1.0])|(5,[0],[1.0])|(32,[5],[1.0]) |\n",
            "|2013-01-04|CELEBRATION        |0.0               |0          |6                |1          |93.12000274658203|78494       |Normal|0.0               |0.0               |0.0      |0.0       |6.0         |(7,[6],[1.0])      |(12,[1],[1.0])|(5,[0],[1.0])|(32,[6],[1.0]) |\n",
            "|2013-01-04|CLEANING           |52064.0           |0          |6                |1          |93.12000274658203|78494       |Normal|55893.0           |74629.0           |186.0    |0.0       |7.0         |(7,[6],[1.0])      |(12,[1],[1.0])|(5,[0],[1.0])|(32,[7],[1.0]) |\n",
            "|2013-01-04|DAIRY              |18148.0           |0          |6                |1          |93.12000274658203|78494       |Normal|18001.0           |23381.0           |143.0    |0.0       |8.0         |(7,[6],[1.0])      |(12,[1],[1.0])|(5,[0],[1.0])|(32,[8],[1.0]) |\n",
            "|2013-01-04|DELI               |10143.208999999999|0          |6                |1          |93.12000274658203|78494       |Normal|11172.455000000002|15754.500000000002|71.09    |0.0       |9.0         |(7,[6],[1.0])      |(12,[1],[1.0])|(5,[0],[1.0])|(32,[9],[1.0]) |\n",
            "|2013-01-04|EGGS               |6760.0            |0          |6                |1          |93.12000274658203|78494       |Normal|7358.0            |10932.0           |46.0     |0.0       |10.0        |(7,[6],[1.0])      |(12,[1],[1.0])|(5,[0],[1.0])|(32,[10],[1.0])|\n",
            "|2013-01-04|FROZEN FOODS       |4525.9340042      |0          |6                |1          |93.12000274658203|78494       |Normal|4760.805009       |7115.387999999999 |29.654999|0.0       |11.0        |(7,[6],[1.0])      |(12,[1],[1.0])|(5,[0],[1.0])|(32,[11],[1.0])|\n",
            "|2013-01-04|GROCERY I          |135754.0          |0          |6                |1          |93.12000274658203|78494       |Normal|144878.0          |202020.0          |700.0    |0.0       |12.0        |(7,[6],[1.0])      |(12,[1],[1.0])|(5,[0],[1.0])|(32,[12],[1.0])|\n",
            "|2013-01-04|GROCERY II         |1031.0            |0          |6                |1          |93.12000274658203|78494       |Normal|1048.0            |1476.0            |15.0     |0.0       |13.0        |(7,[6],[1.0])      |(12,[1],[1.0])|(5,[0],[1.0])|(32,[13],[1.0])|\n",
            "|2013-01-04|HARDWARE           |57.0              |0          |6                |1          |93.12000274658203|78494       |Normal|37.0              |46.0              |0.0      |0.0       |14.0        |(7,[6],[1.0])      |(12,[1],[1.0])|(5,[0],[1.0])|(32,[14],[1.0])|\n",
            "|2013-01-04|HOME AND KITCHEN I |0.0               |0          |6                |1          |93.12000274658203|78494       |Normal|0.0               |0.0               |0.0      |0.0       |15.0        |(7,[6],[1.0])      |(12,[1],[1.0])|(5,[0],[1.0])|(32,[15],[1.0])|\n",
            "|2013-01-04|HOME AND KITCHEN II|0.0               |0          |6                |1          |93.12000274658203|78494       |Normal|0.0               |0.0               |0.0      |0.0       |16.0        |(7,[6],[1.0])      |(12,[1],[1.0])|(5,[0],[1.0])|(32,[16],[1.0])|\n",
            "|2013-01-04|HOME APPLIANCES    |13.0              |0          |6                |1          |93.12000274658203|78494       |Normal|15.0              |21.0              |0.0      |0.0       |17.0        |(7,[6],[1.0])      |(12,[1],[1.0])|(5,[0],[1.0])|(32,[17],[1.0])|\n",
            "|2013-01-04|HOME CARE          |0.0               |0          |6                |1          |93.12000274658203|78494       |Normal|0.0               |0.0               |0.0      |0.0       |18.0        |(7,[6],[1.0])      |(12,[1],[1.0])|(5,[0],[1.0])|(32,[18],[1.0])|\n",
            "|2013-01-04|LADIESWEAR         |0.0               |0          |6                |1          |93.12000274658203|78494       |Normal|0.0               |0.0               |0.0      |0.0       |19.0        |(7,[6],[1.0])      |(12,[1],[1.0])|(5,[0],[1.0])|(32,[19],[1.0])|\n",
            "+----------+-------------------+------------------+-----------+-----------------+-----------+-----------------+------------+------+------------------+------------------+---------+----------+------------+-------------------+--------------+-------------+---------------+\n",
            "only showing top 20 rows\n",
            "\n"
          ]
        }
      ],
      "source": [
        "transformed_df_tl = tl_df_filtered\n",
        "\n",
        "transformed_df_tl = transformed_df_tl.withColumnRenamed(\"day_of_week\", \"day_of_week_index\")\n",
        "transformed_df_tl = transformed_df_tl.withColumnRenamed(\"month\", \"month_index\")\n",
        "\n",
        "str_cat_cols_tl = [\"type\", \"family\"]\n",
        "cat_cols_tl = [\"day_of_week\", \"month\", \"type\", \"family\"]\n",
        "\n",
        "indexers = [StringIndexer(inputCol=col, outputCol=col+\"_index\") for col in str_cat_cols_tl]\n",
        "encoders = [OneHotEncoder(inputCol=col + \"_index\", outputCol=col + \"_encoded\") for col in cat_cols_tl]\n",
        "\n",
        "pipeline = Pipeline(stages=indexers + encoders)\n",
        "model = pipeline.fit(transformed_df_tl)\n",
        "data = model.transform(transformed_df_tl)\n",
        "data.sort(col(\"date\"), col('family')).show(truncate = False)"
      ]
    },
    {
      "cell_type": "markdown",
      "metadata": {
        "id": "dwMVNNTBXG1w"
      },
      "source": [
        "## Model training"
      ]
    },
    {
      "cell_type": "code",
      "execution_count": null,
      "metadata": {
        "id": "TluQKFiuXMCb"
      },
      "outputs": [],
      "source": [
        "feature_cols = [\"day_of_week_encoded\", \"month_encoded\", \"type_encoded\", \"family_encoded\", \"transactions\", \"dcoilwtico\", \"onpromotion\", \"lag_1\", \"lag_2\", \"lag_3\"]\n",
        "\n",
        "assembler = VectorAssembler(inputCols=feature_cols, outputCol=\"features\")\n",
        "\n",
        "gbt = GBTRegressor(featuresCol=\"features\", labelCol=\"sales\", maxBins=33)\n",
        "\n",
        "pipeline = Pipeline(stages=[assembler, gbt])\n",
        "\n",
        "paramGrid = (ParamGridBuilder()\n",
        "             .addGrid(gbt.maxDepth, [4, 6])\n",
        "             .addGrid(gbt.maxIter, [50, 100])\n",
        "             .addGrid(gbt.stepSize, [0.1, 0.01])\n",
        "             .build())\n",
        "\n",
        "evaluator = RegressionEvaluator(labelCol=\"sales\", predictionCol=\"prediction\", metricName=\"mae\")\n",
        "\n",
        "crossval = CrossValidator(estimator=pipeline,\n",
        "                          estimatorParamMaps=paramGrid,\n",
        "                          evaluator=evaluator,\n",
        "                          numFolds=2)\n",
        "\n",
        "train_data, test_data = data.randomSplit([0.8, 0.2], seed=12)\n",
        "cvModel = crossval.fit(train_data)"
      ]
    },
    {
      "cell_type": "markdown",
      "metadata": {
        "id": "71KROdBtXNfm"
      },
      "source": [
        "## Evaluation"
      ]
    },
    {
      "cell_type": "markdown",
      "metadata": {
        "id": "7DXdivWnXS5v"
      },
      "source": [
        "### Overall evaluation"
      ]
    },
    {
      "cell_type": "code",
      "execution_count": 80,
      "metadata": {
        "id": "AVqKeGn7XU5v",
        "colab": {
          "base_uri": "https://localhost:8080/"
        },
        "outputId": "5d81a14d-f6e8-487b-e005-edc3da0b0e09"
      },
      "outputs": [
        {
          "output_type": "stream",
          "name": "stdout",
          "text": [
            "Mean Absolute Error (MAE): 1464.5554578706108\n"
          ]
        }
      ],
      "source": [
        "evaluation_tl_df = cvModel.transform(test_data)\n",
        "clipped_evaluation_tl_df = evaluation_tl_df.withColumn(\"clipped_predictions\", when(col(\"prediction\") < 0, 0).otherwise(col(\"prediction\")))\n",
        "\n",
        "mae_tl = evaluator.evaluate(evaluation_tl_df)\n",
        "\n",
        "best_model_tl = cvModel.bestModel\n",
        "\n",
        "print(\"Mean Absolute Error (MAE):\", mae_tl)"
      ]
    },
    {
      "cell_type": "code",
      "execution_count": 81,
      "metadata": {
        "id": "5G0PziAbXYnw",
        "colab": {
          "base_uri": "https://localhost:8080/"
        },
        "outputId": "1978cfb4-aaa3-4b5a-88ae-ed133d85577d"
      },
      "outputs": [
        {
          "output_type": "stream",
          "name": "stdout",
          "text": [
            "+------------------+------------------+\n",
            "|             sales|        prediction|\n",
            "+------------------+------------------+\n",
            "|               0.0| 50.63921736772478|\n",
            "|           52064.0| 58658.64860187022|\n",
            "|               0.0| 50.63921736772478|\n",
            "|21625.963055000004| 18911.26506552606|\n",
            "|               0.0| 50.63921736772478|\n",
            "|               0.0| 50.63921736772478|\n",
            "|             342.0|374.68346571214556|\n",
            "|               0.0|56.400603564901104|\n",
            "|       13734.94501|13706.028798341518|\n",
            "|            1273.0|1291.9570861916554|\n",
            "|               0.0|467.51022328055865|\n",
            "|           16819.0| 16979.40859782955|\n",
            "| 5830.073020000001|  5345.12210725686|\n",
            "|1245.6370040000002|1433.4825076041284|\n",
            "|         26861.665| 27567.48539930741|\n",
            "|        6114.88201| 6471.431879522169|\n",
            "|              87.0| 63.22694394547287|\n",
            "|               0.0| 63.22694394547287|\n",
            "|              17.0| 63.22694394547287|\n",
            "|               0.0| 366.4738080168359|\n",
            "+------------------+------------------+\n",
            "only showing top 20 rows\n",
            "\n"
          ]
        }
      ],
      "source": [
        "# Show the true sales values compared to the predicted ones\n",
        "clipped_evaluation_tl_df.select(\"sales\", \"clipped_predictions\").show()"
      ]
    },
    {
      "cell_type": "markdown",
      "metadata": {
        "id": "5qx1YhD-XcpA"
      },
      "source": [
        "### Product family wise evaluation"
      ]
    },
    {
      "cell_type": "code",
      "execution_count": 82,
      "metadata": {
        "id": "8Y79yIoXXgZm"
      },
      "outputs": [],
      "source": [
        "filtered_evaluation_fb_df = clipped_evaluation_tl_df.select(\"family\", \"sales\", \"clipped_predictions\")\n",
        "evaluator = RegressionEvaluator(labelCol=\"sales\", predictionCol=\"clipped_predictions\", metricName=\"mae\")\n",
        "unique_family_values = filtered_evaluation_fb_df.select(\"family\").distinct().rdd.flatMap(lambda x: x).collect()\n",
        "\n",
        "data = []\n",
        "for value in unique_family_values:\n",
        "  df_fb = filtered_evaluation_fb_df.filter(filtered_evaluation_fb_df['family'] == value)\n",
        "  mae_fb = evaluator.evaluate(df_fb)\n",
        "  mean_fb = df_fb.select(mean(\"sales\")).collect()[0][0]\n",
        "  row = Row(family=value, mean=mean_fb, mean_absolute_error=mae_fb)\n",
        "  data.append(row)\n",
        "\n",
        "family_evaluation_fb_df = spark.createDataFrame(data)"
      ]
    },
    {
      "cell_type": "code",
      "execution_count": 83,
      "metadata": {
        "id": "jRUikUc7Xkge",
        "colab": {
          "base_uri": "https://localhost:8080/"
        },
        "outputId": "87331eaf-7164-400e-946f-f9819628f822"
      },
      "outputs": [
        {
          "output_type": "stream",
          "name": "stdout",
          "text": [
            "+--------------------+------------------+-------------------+\n",
            "|              family|              mean|mean_absolute_error|\n",
            "+--------------------+------------------+-------------------+\n",
            "|           BABY CARE| 6.612637362637362|  69.60637448054534|\n",
            "|            CLEANING| 57567.14488636364|   3908.71758256646|\n",
            "|          LADIESWEAR|405.37948717948717| 158.23994314484813|\n",
            "|               MEATS| 18642.70083979641|  1435.506810630091|\n",
            "|        PET SUPPLIES|223.17563739376772|  91.08303611610825|\n",
            "|PLAYERS AND ELECT...| 343.0202312138728| 127.31106256037218|\n",
            "|          AUTOMOTIVE| 330.0606936416185|   94.5886351657935|\n",
            "|         CELEBRATION| 476.5057803468208|  214.8923749664194|\n",
            "|                DELI|14437.514166687324| 1013.2221640842084|\n",
            "|          GROCERY II|1167.7283582089551| 199.42468756904222|\n",
            "|           HOME CARE| 9838.485714285714|  1056.115926951535|\n",
            "|       PERSONAL CARE|14366.356741573034| 1302.7989269761647|\n",
            "|      PREPARED FOODS|  5227.00813007826|  461.8630003295187|\n",
            "|             SEAFOOD| 1204.672617332721| 185.31336701035698|\n",
            "|        BREAD/BAKERY|  24576.3675196864|  1753.818086231807|\n",
            "|        FROZEN FOODS|  8755.58007503807| 1527.6547089668834|\n",
            "|            HARDWARE| 60.95348837209303|    57.690412007902|\n",
            "| HOME AND KITCHEN II| 939.8555240793202|  257.2043759996242|\n",
            "|     HOME APPLIANCES|25.021341463414632|  63.52614957976565|\n",
            "|           MAGAZINES|159.74585635359117|  78.65170575322635|\n",
            "+--------------------+------------------+-------------------+\n",
            "only showing top 20 rows\n",
            "\n"
          ]
        }
      ],
      "source": [
        "family_evaluation_fb_df.show()"
      ]
    }
  ],
  "metadata": {
    "colab": {
      "provenance": []
    },
    "kernelspec": {
      "display_name": "Python 3",
      "language": "python",
      "name": "python3"
    },
    "language_info": {
      "codemirror_mode": {
        "name": "ipython",
        "version": 3
      },
      "file_extension": ".py",
      "mimetype": "text/x-python",
      "name": "python",
      "nbconvert_exporter": "python",
      "pygments_lexer": "ipython3",
      "version": "3.11.4"
    }
  },
  "nbformat": 4,
  "nbformat_minor": 0
}