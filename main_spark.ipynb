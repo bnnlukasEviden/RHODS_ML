{
 "cells": [
  {
   "cell_type": "markdown",
   "metadata": {
    "id": "8dXdiP3wjZjD"
   },
   "source": [
    "# Imports"
   ]
  },
  {
   "cell_type": "code",
   "execution_count": 1,
   "metadata": {},
   "outputs": [],
   "source": [
    "x = input(\"Enter user name (either 'Lukas' or 'Nico')\")"
   ]
  },
  {
   "cell_type": "code",
   "execution_count": 2,
   "metadata": {},
   "outputs": [],
   "source": [
    "user = x # 'Nico' or 'Lukas'\n",
    "google_colab = False"
   ]
  },
  {
   "cell_type": "code",
   "execution_count": 3,
   "metadata": {
    "id": "rxxKcQi3jZjE"
   },
   "outputs": [],
   "source": [
    "import pyspark\n",
    "from pyspark.sql import SparkSession\n",
    "from pyspark.ml.feature import VectorAssembler\n",
    "import pyspark.sql.functions as F\n",
    "from pyspark.sql.functions import sum, when, avg, max, col, dayofweek, count, month, lit, mean\n",
    "from pyspark.sql.window import Window\n",
    "from pyspark.ml.feature import StringIndexer, OneHotEncoder, Imputer\n",
    "from pyspark.ml import Pipeline\n",
    "from pyspark.ml.regression import GBTRegressor\n",
    "from pyspark.ml.feature import VectorAssembler\n",
    "from pyspark.ml.evaluation import RegressionEvaluator\n",
    "from pyspark.ml.tuning import ParamGridBuilder, CrossValidator\n",
    "from pyspark.ml.regression import RandomForestRegressor\n",
    "from pyspark.sql.functions import expr\n",
    "from pyspark.sql import Row\n",
    "from pyspark.sql.types import DateType"
   ]
  },
  {
   "cell_type": "code",
   "execution_count": 4,
   "metadata": {
    "id": "zZK781OCjZjF"
   },
   "outputs": [],
   "source": [
    "import warnings\n",
    "\n",
    "warnings.filterwarnings(\"ignore\", category=FutureWarning)"
   ]
  },
  {
   "cell_type": "code",
   "execution_count": 5,
   "metadata": {
    "id": "STK-tQCrjZjF"
   },
   "outputs": [],
   "source": [
    "spark = SparkSession.builder.appName('RHODS').getOrCreate()"
   ]
  },
  {
   "cell_type": "code",
   "execution_count": 6,
   "metadata": {
    "id": "3jM4p9ZkjZjF"
   },
   "outputs": [],
   "source": [
    "spark.catalog.clearCache()\n",
    "spark.conf.set(\"spark.sql.autoBroadcastJoinThreshold\", 1024 * 1024 * 1024)"
   ]
  },
  {
   "cell_type": "markdown",
   "metadata": {
    "id": "eIZlgoT_jZjG"
   },
   "source": [
    "# Data extraction"
   ]
  },
  {
   "cell_type": "code",
   "execution_count": 7,
   "metadata": {
    "id": "pkgSAi_HjZjG"
   },
   "outputs": [],
   "source": [
    "if user == 'Lukas':\n",
    "\n",
    "    main_df = spark.read.csv('train.csv', header = True, inferSchema = True)\n",
    "    oil_df = spark.read.csv('oil.csv', header = True, inferSchema = True)\n",
    "    holidays_df = spark.read.csv('holidays_events.csv', header = True, inferSchema = True)\n",
    "    transactions_df = spark.read.csv('transactions.csv', header = True, inferSchema = True)\n",
    "\n",
    "\n",
    "if user == 'Nico':\n",
    "    # env vars and model framework booleans\n",
    "    local_path = 'C:\\\\Users\\\\a915396\\OneDrive - ATOS\\Desktop\\RHProjekt\\Kaggle_DS' # path where .csv files are stored\n",
    "    oil_forecast_extract = False\n",
    "    files = ['train', 'oil', 'sample_submission', 'stores', 'test', 'holidays_events','transactions'] # file names\n",
    "    Data = {} # empty dic\n",
    "\n",
    "    if google_colab == True:\n",
    "\n",
    "        from google.colab import drive\n",
    "        drive.mount('/content/gdrive')\n",
    "\n",
    "        # filling Data dic\n",
    "        for x in files:\n",
    "            Data[x] = spark.read.csv('gdrive/My Drive/Colab Notebooks/'+x+'.csv', header=True)\n",
    "            \n",
    "\n",
    "    else:\n",
    "\n",
    "        # filling Data dic\n",
    "        for x in files:\n",
    "            Data[x] = spark.read.csv(local_path+'/'+x+'.csv', header=True, inferSchema = True)\n",
    "\n",
    "    # converting df\n",
    "\n",
    "    main_df = Data['train']\n",
    "    oil_df = Data['oil']\n",
    "    holidays_df = Data['holidays_events']\n",
    "    transactions_df = Data['transactions']\n",
    "\n",
    "\n",
    "\n",
    "\n",
    "    "
   ]
  },
  {
   "cell_type": "markdown",
   "metadata": {
    "id": "X0ImIAC7jZjG"
   },
   "source": [
    "# Feature Engineering"
   ]
  },
  {
   "cell_type": "code",
   "execution_count": 8,
   "metadata": {
    "colab": {
     "base_uri": "https://localhost:8080/"
    },
    "id": "zEzaxAu9jZjG",
    "outputId": "fccda50f-a303-4848-cad6-0131a62118a6"
   },
   "outputs": [
    {
     "name": "stdout",
     "output_type": "stream",
     "text": [
      "+---+----------+---------+-------------------+-----+-----------+\n",
      "| id|      date|store_nbr|             family|sales|onpromotion|\n",
      "+---+----------+---------+-------------------+-----+-----------+\n",
      "|  0|2013-01-01|        1|         AUTOMOTIVE|  0.0|          0|\n",
      "|  1|2013-01-01|        1|          BABY CARE|  0.0|          0|\n",
      "|  2|2013-01-01|        1|             BEAUTY|  0.0|          0|\n",
      "|  3|2013-01-01|        1|          BEVERAGES|  0.0|          0|\n",
      "|  4|2013-01-01|        1|              BOOKS|  0.0|          0|\n",
      "|  5|2013-01-01|        1|       BREAD/BAKERY|  0.0|          0|\n",
      "|  6|2013-01-01|        1|        CELEBRATION|  0.0|          0|\n",
      "|  7|2013-01-01|        1|           CLEANING|  0.0|          0|\n",
      "|  8|2013-01-01|        1|              DAIRY|  0.0|          0|\n",
      "|  9|2013-01-01|        1|               DELI|  0.0|          0|\n",
      "| 10|2013-01-01|        1|               EGGS|  0.0|          0|\n",
      "| 11|2013-01-01|        1|       FROZEN FOODS|  0.0|          0|\n",
      "| 12|2013-01-01|        1|          GROCERY I|  0.0|          0|\n",
      "| 13|2013-01-01|        1|         GROCERY II|  0.0|          0|\n",
      "| 14|2013-01-01|        1|           HARDWARE|  0.0|          0|\n",
      "| 15|2013-01-01|        1| HOME AND KITCHEN I|  0.0|          0|\n",
      "| 16|2013-01-01|        1|HOME AND KITCHEN II|  0.0|          0|\n",
      "| 17|2013-01-01|        1|    HOME APPLIANCES|  0.0|          0|\n",
      "| 18|2013-01-01|        1|          HOME CARE|  0.0|          0|\n",
      "| 19|2013-01-01|        1|         LADIESWEAR|  0.0|          0|\n",
      "+---+----------+---------+-------------------+-----+-----------+\n",
      "only showing top 20 rows\n",
      "\n"
     ]
    }
   ],
   "source": [
    "main_df.show()"
   ]
  },
  {
   "cell_type": "markdown",
   "metadata": {
    "id": "OAF89StljZjG"
   },
   "source": [
    "## Train_df Aggregation, Date transformation"
   ]
  },
  {
   "cell_type": "code",
   "execution_count": 9,
   "metadata": {
    "colab": {
     "base_uri": "https://localhost:8080/"
    },
    "id": "TUH4N_s8jZjG",
    "outputId": "344050e9-2e17-4f39-8abd-39a042a743c9"
   },
   "outputs": [
    {
     "name": "stdout",
     "output_type": "stream",
     "text": [
      "+----------+-------------------+---------+-----------+-----------+-----+\n",
      "|date      |family             |sales    |onpromotion|day_of_week|month|\n",
      "+----------+-------------------+---------+-----------+-----------+-----+\n",
      "|2013-01-01|AUTOMOTIVE         |0.0      |0          |3          |1    |\n",
      "|2013-01-01|BABY CARE          |0.0      |0          |3          |1    |\n",
      "|2013-01-01|BEAUTY             |2.0      |0          |3          |1    |\n",
      "|2013-01-01|BEVERAGES          |810.0    |0          |3          |1    |\n",
      "|2013-01-01|BOOKS              |0.0      |0          |3          |1    |\n",
      "|2013-01-01|BREAD/BAKERY       |180.589  |0          |3          |1    |\n",
      "|2013-01-01|CELEBRATION        |0.0      |0          |3          |1    |\n",
      "|2013-01-01|CLEANING           |186.0    |0          |3          |1    |\n",
      "|2013-01-01|DAIRY              |143.0    |0          |3          |1    |\n",
      "|2013-01-01|DELI               |71.09    |0          |3          |1    |\n",
      "|2013-01-01|EGGS               |46.0     |0          |3          |1    |\n",
      "|2013-01-01|FROZEN FOODS       |29.654999|0          |3          |1    |\n",
      "|2013-01-01|GROCERY I          |700.0    |0          |3          |1    |\n",
      "|2013-01-01|GROCERY II         |15.0     |0          |3          |1    |\n",
      "|2013-01-01|HARDWARE           |0.0      |0          |3          |1    |\n",
      "|2013-01-01|HOME AND KITCHEN I |0.0      |0          |3          |1    |\n",
      "|2013-01-01|HOME AND KITCHEN II|0.0      |0          |3          |1    |\n",
      "|2013-01-01|HOME APPLIANCES    |0.0      |0          |3          |1    |\n",
      "|2013-01-01|HOME CARE          |0.0      |0          |3          |1    |\n",
      "|2013-01-01|LADIESWEAR         |0.0      |0          |3          |1    |\n",
      "+----------+-------------------+---------+-----------+-----------+-----+\n",
      "only showing top 20 rows\n",
      "\n"
     ]
    }
   ],
   "source": [
    "# Aggregation of the main_df to get the sales volumes aggregatet over all stores for each product family and date\n",
    "agg_df = main_df.groupBy('date', 'family').agg(sum('sales').alias(\"sales\"), sum('onpromotion').alias(\"onpromotion\"))\n",
    "\n",
    "# Adding of features related to the day of the week and the month of each record based on the date\n",
    "agg_df = agg_df.withColumn('day_of_week', dayofweek(agg_df.date)).withColumn('month', month(agg_df.date))\n",
    "agg_df.sort(col(\"date\"), col(\"family\")).show(truncate = False)"
   ]
  },
  {
   "cell_type": "markdown",
   "metadata": {},
   "source": [
    "# Visuals"
   ]
  },
  {
   "cell_type": "code",
   "execution_count": 10,
   "metadata": {},
   "outputs": [],
   "source": [
    "# converting pyspark Df to pandas \n",
    "agg_df_pandas = agg_df.toPandas()"
   ]
  },
  {
   "cell_type": "code",
   "execution_count": 11,
   "metadata": {},
   "outputs": [],
   "source": [
    "# function for plotting \n",
    "\n",
    "def plotting_1(df, grouper, target, plot_title):\n",
    "       import pandas as pd\n",
    "       import matplotlib.pyplot as plt\n",
    "       grouper_target = pd.DataFrame(df.groupby(grouper)[target].mean()).reset_index()\n",
    "       # plotting the head and tail from the data frame including mean prices of car manufacturers\n",
    "       df_plt = pd.concat([grouper_target.sort_values(target, ascending=False).head(), grouper_target.sort_values(target, ascending=False).tail()])\n",
    "\n",
    "       fig = plt.figure(figsize=(15, 8))\n",
    "       ax = fig.add_axes([0,0,1,1])\n",
    "       langs = df_plt[grouper]\n",
    "       plot_obj = df_plt[target]\n",
    "       ax.bar(langs,plot_obj, width = 0.9)\n",
    "       ax.set(xlabel=grouper,\n",
    "              ylabel=('average {}'.format(target)))\n",
    "       ax.set_title(plot_title, fontsize=20)\n",
    "       plt.show()"
   ]
  },
  {
   "cell_type": "code",
   "execution_count": 12,
   "metadata": {},
   "outputs": [
    {
     "data": {
      "image/png": "[encoded data removed]",
      "text/plain": [
       "<Figure size 1500x800 with 1 Axes>"
      ]
     },
     "metadata": {},
     "output_type": "display_data"
    }
   ],
   "source": [
    "plotting_1(df = agg_df_pandas,\n",
    "           grouper = \"family\",\n",
    "           target = \"sales\",\n",
    "           plot_title='average (aggregated) daily sales per product family')"
   ]
  },
  {
   "cell_type": "markdown",
   "metadata": {
    "id": "WAmAeTufjZjG"
   },
   "source": [
    "## Oil_df Merge\n",
    "In this section the agg_df and the oil_df are getting merged to use the oil price in the ML-Part of the project"
   ]
  },
  {
   "cell_type": "markdown",
   "metadata": {
    "id": "2PTK1v3HjD5l"
   },
   "source": [
    "### Preprocessing"
   ]
  },
  {
   "cell_type": "code",
   "execution_count": 13,
   "metadata": {
    "colab": {
     "base_uri": "https://localhost:8080/"
    },
    "id": "v26AmAKkhjeR",
    "outputId": "a5cc092b-2ee9-4e38-9557-1912b8308f6e"
   },
   "outputs": [
    {
     "name": "stdout",
     "output_type": "stream",
     "text": [
      "Procentual number of NaN-Values: 30.93824228028503%\n"
     ]
    }
   ],
   "source": [
    "# Aggregating the oil_df and the agg_df\n",
    "agg_oil_merge_df = agg_df.join(oil_df, on='date', how='left') # left join agg_df and oil_df\n",
    "agg_oil_merge_df = agg_oil_merge_df.dropDuplicates(['date']) # reduce df to one row per date\n",
    "\n",
    "# Calculate the percentage of NaN values in the 'dcoilwtico' column\n",
    "percentage_nan = (agg_oil_merge_df.filter(col(\"dcoilwtico\").isNull()).count() / agg_oil_merge_df.count()) * 100\n",
    "print(f'Procentual number of NaN-Values: {percentage_nan}%')"
   ]
  },
  {
   "cell_type": "markdown",
   "metadata": {
    "id": "pgpR_JXKl3bX"
   },
   "source": [
    "Because of the high number of NaN-Values regarding the oilprice-value we decided to do a oilprice forecast"
   ]
  },
  {
   "cell_type": "code",
   "execution_count": 14,
   "metadata": {},
   "outputs": [
    {
     "data": {
      "text/plain": [
       "<Axes: xlabel='month', ylabel='dcoilwtico'>"
      ]
     },
     "execution_count": 14,
     "metadata": {},
     "output_type": "execute_result"
    },
    {
     "data": {
      "image/png": "[encoded data removed]",
      "text/plain": [
       "<Figure size 640x480 with 1 Axes>"
      ]
     },
     "metadata": {},
     "output_type": "display_data"
    }
   ],
   "source": [
    "# plotting boxplots month against oil price\n",
    "import seaborn as sns\n",
    "import pandas as pd\n",
    "\n",
    "sns.boxplot(x = \"month\", y = \"dcoilwtico\", data = agg_oil_merge_df.toPandas())"
   ]
  },
  {
   "cell_type": "markdown",
   "metadata": {
    "id": "C4Nw4OtxmIin"
   },
   "source": [
    "### Oilprice forecast"
   ]
  },
  {
   "cell_type": "code",
   "execution_count": 15,
   "metadata": {
    "id": "bnmaajceh1Mh"
   },
   "outputs": [],
   "source": [
    "# Create a subset of agg_oil_merge_df to forecast the oil prices\n",
    "oil_forecast_df = agg_oil_merge_df.select('date', 'dcoilwtico', 'day_of_week', 'month')"
   ]
  },
  {
   "cell_type": "code",
   "execution_count": 16,
   "metadata": {
    "colab": {
     "base_uri": "https://localhost:8080/"
    },
    "id": "1hNbSyIZiFY7",
    "outputId": "cc8547a1-ef55-4d60-900f-42eef4723ee9"
   },
   "outputs": [
    {
     "name": "stdout",
     "output_type": "stream",
     "text": [
      "+----------+----------+-----------+-----+-----+-----+-----+-----+-----+\n",
      "|      date|dcoilwtico|day_of_week|month|lag_1|lag_2|lag_3|lag_4|lag_5|\n",
      "+----------+----------+-----------+-----+-----+-----+-----+-----+-----+\n",
      "|2013-01-01|      NULL|          3|    1| NULL| NULL| NULL| NULL| NULL|\n",
      "|2013-01-02|     93.14|          4|    1| NULL| NULL| NULL| NULL| NULL|\n",
      "|2013-01-03|     92.97|          5|    1|93.14| NULL| NULL| NULL| NULL|\n",
      "|2013-01-04|     93.12|          6|    1|92.97|93.14| NULL| NULL| NULL|\n",
      "|2013-01-05|      NULL|          7|    1|93.12|92.97|93.14| NULL| NULL|\n",
      "|2013-01-06|      NULL|          1|    1| NULL|93.12|92.97|93.14| NULL|\n",
      "|2013-01-07|      93.2|          2|    1| NULL| NULL|93.12|92.97|93.14|\n",
      "|2013-01-08|     93.21|          3|    1| 93.2| NULL| NULL|93.12|92.97|\n",
      "|2013-01-09|     93.08|          4|    1|93.21| 93.2| NULL| NULL|93.12|\n",
      "|2013-01-10|     93.81|          5|    1|93.08|93.21| 93.2| NULL| NULL|\n",
      "|2013-01-11|      93.6|          6|    1|93.81|93.08|93.21| 93.2| NULL|\n",
      "|2013-01-12|      NULL|          7|    1| 93.6|93.81|93.08|93.21| 93.2|\n",
      "|2013-01-13|      NULL|          1|    1| NULL| 93.6|93.81|93.08|93.21|\n",
      "|2013-01-14|     94.27|          2|    1| NULL| NULL| 93.6|93.81|93.08|\n",
      "|2013-01-15|     93.26|          3|    1|94.27| NULL| NULL| 93.6|93.81|\n",
      "|2013-01-16|     94.28|          4|    1|93.26|94.27| NULL| NULL| 93.6|\n",
      "|2013-01-17|     95.49|          5|    1|94.28|93.26|94.27| NULL| NULL|\n",
      "|2013-01-18|     95.61|          6|    1|95.49|94.28|93.26|94.27| NULL|\n",
      "|2013-01-19|      NULL|          7|    1|95.61|95.49|94.28|93.26|94.27|\n",
      "|2013-01-20|      NULL|          1|    1| NULL|95.61|95.49|94.28|93.26|\n",
      "+----------+----------+-----------+-----+-----+-----+-----+-----+-----+\n",
      "only showing top 20 rows\n",
      "\n"
     ]
    }
   ],
   "source": [
    "n_lags = 5\n",
    "window_spec = Window.orderBy('date')\n",
    "for i in range(1, n_lags+1):\n",
    "  oil_forecast_df = oil_forecast_df.withColumn(\"lag_{}\".format(i), F.lag(\"dcoilwtico\", offset = i).over(window_spec).cast('float'))\n",
    "\n",
    "oil_forecast_df = oil_forecast_df.withColumn(\"dcoilwtico\", oil_forecast_df[\"dcoilwtico\"].cast('float'))\n",
    "oil_forecast_df.show()"
   ]
  },
  {
   "cell_type": "markdown",
   "metadata": {
    "id": "fWWLlJYejG-E"
   },
   "source": [
    "#### Data transformation/encoding/split, Pipeline creation"
   ]
  },
  {
   "cell_type": "code",
   "execution_count": 17,
   "metadata": {
    "id": "anZXDMBbjKF7"
   },
   "outputs": [],
   "source": [
    "numerical_cols_oil = ['lag_1', 'lag_2', 'lag_3', 'lag_4', 'lag_5']\n",
    "categorical_cols_oil = ['day_of_week', 'month']\n",
    "\n",
    "# Defining the encoder for encoding the categorical values\n",
    "encoder_oil = OneHotEncoder(inputCols=categorical_cols_oil,\n",
    "                        outputCols=[f\"{col}_encoded\" for col in categorical_cols_oil])\n",
    "\n",
    "oil_forecast_encoded_df = encoder_oil.fit(oil_forecast_df).transform(oil_forecast_df)"
   ]
  },
  {
   "cell_type": "code",
   "execution_count": 18,
   "metadata": {
    "id": "PqBnZW0XjizT"
   },
   "outputs": [],
   "source": [
    "# Create the train set of data with oil prices\n",
    "oil_fc_train = oil_forecast_encoded_df.filter(oil_forecast_encoded_df['dcoilwtico'].isNotNull())\n",
    "# Create the prediction set of data without oil prices\n",
    "oil_fc_pred = oil_forecast_encoded_df.filter(oil_forecast_encoded_df['dcoilwtico'].isNull())"
   ]
  },
  {
   "cell_type": "code",
   "execution_count": 19,
   "metadata": {
    "id": "LtrUts9wkJcC"
   },
   "outputs": [],
   "source": [
    "# Set the imputer\n",
    "numerical_imputer_oil = Imputer(strategy=\"median\", inputCols=numerical_cols_oil, outputCols=[f\"{col}_imputed\" for col in numerical_cols_oil])\n",
    "\n",
    "# Assemble features into a single vector\n",
    "feature_cols_oil = [f\"{col}_imputed\" for col in numerical_cols_oil] + [f\"{col}_encoded\" for col in categorical_cols_oil]\n",
    "assembler_oil = VectorAssembler(inputCols=feature_cols_oil, outputCol=\"features\")\n",
    "\n",
    "# Initialise the oilprice prediction model\n",
    "rfr_oil = RandomForestRegressor(featuresCol='features', labelCol='dcoilwtico')\n",
    "\n",
    "# Create the data preprocessing pipeline\n",
    "pipeline_oil = Pipeline(stages=[numerical_imputer_oil, assembler_oil, rfr_oil]) # pipeline for cross validation"
   ]
  },
  {
   "cell_type": "markdown",
   "metadata": {
    "id": "AeFhqhSJlHvu"
   },
   "source": [
    "#### Model training"
   ]
  },
  {
   "cell_type": "code",
   "execution_count": 20,
   "metadata": {
    "id": "i71OPi1AlJ3d"
   },
   "outputs": [],
   "source": [
    "paramGrid_oil = ParamGridBuilder() \\\n",
    "    .addGrid(rfr_oil.maxDepth, [5,7]) \\\n",
    "    .build()\n",
    "\n",
    "evaluator = RegressionEvaluator(labelCol=\"dcoilwtico\", predictionCol=\"prediction\", metricName=\"mae\")\n",
    "\n",
    "crossval = CrossValidator(estimator=pipeline_oil,\n",
    "                          estimatorParamMaps=paramGrid_oil,\n",
    "                          evaluator=evaluator,\n",
    "                          numFolds=5)\n",
    "\n",
    "cv_model_oil = crossval.fit(oil_fc_train)\n",
    "\n",
    "best_model_oil = cv_model_oil.bestModel # Model with the best parameters\n",
    "\n",
    "oil_predictions = best_model_oil.transform(oil_fc_pred)"
   ]
  },
  {
   "cell_type": "markdown",
   "metadata": {
    "id": "wTu7DpZKlpat"
   },
   "source": [
    "#### Oil price dataframe creation"
   ]
  },
  {
   "cell_type": "code",
   "execution_count": 21,
   "metadata": {
    "colab": {
     "base_uri": "https://localhost:8080/"
    },
    "id": "s6u7kCW5lnVm",
    "outputId": "0ea3a76d-ccf8-4b1b-b907-479e5dfc815e"
   },
   "outputs": [
    {
     "name": "stdout",
     "output_type": "stream",
     "text": [
      "+----------+------------------+\n",
      "|date      |dcoilwtico        |\n",
      "+----------+------------------+\n",
      "|2013-01-01|51.291160931586795|\n",
      "|2013-01-02|93.13999938964844 |\n",
      "|2013-01-03|92.97000122070312 |\n",
      "|2013-01-04|93.12000274658203 |\n",
      "|2013-01-05|93.28150708548688 |\n",
      "|2013-01-06|94.00343425775864 |\n",
      "|2013-01-07|93.19999694824219 |\n",
      "|2013-01-08|93.20999908447266 |\n",
      "|2013-01-09|93.08000183105469 |\n",
      "|2013-01-10|93.80999755859375 |\n",
      "|2013-01-11|93.5999984741211  |\n",
      "|2013-01-12|93.86748105903823 |\n",
      "|2013-01-13|92.1217360799802  |\n",
      "|2013-01-14|94.2699966430664  |\n",
      "|2013-01-15|93.26000213623047 |\n",
      "|2013-01-16|94.27999877929688 |\n",
      "|2013-01-17|95.48999786376953 |\n",
      "|2013-01-18|95.61000061035156 |\n",
      "|2013-01-19|95.26820415574124 |\n",
      "|2013-01-20|93.2301401991007  |\n",
      "+----------+------------------+\n",
      "only showing top 20 rows\n",
      "\n"
     ]
    }
   ],
   "source": [
    "oil_new_df = oil_fc_train.select('date', 'dcoilwtico').union(oil_predictions.select('date', 'prediction').withColumnRenamed(\"prediction\",'dcoilwtico'))\n",
    "oil_new_df.sort(col(\"date\")).show(truncate = False)"
   ]
  },
  {
   "cell_type": "code",
   "execution_count": 22,
   "metadata": {
    "colab": {
     "base_uri": "https://localhost:8080/"
    },
    "id": "pwrT3XLLrm_X",
    "outputId": "71c80eea-1b54-4754-b367-887ca24e9ba6"
   },
   "outputs": [
    {
     "name": "stdout",
     "output_type": "stream",
     "text": [
      "Procentual number of NaN-Values: 0.0%\n"
     ]
    }
   ],
   "source": [
    "# Now the new_oil_df gets merged with the agg_df to do further preprocessing\n",
    "agg_oilprice_merged_df = agg_df.join(oil_new_df, on='date', how='left')\n",
    "\n",
    "# There are no NaN-Values left in the Column \"dcoilwtico\"\n",
    "percentage_nan = (agg_oilprice_merged_df.filter(col(\"dcoilwtico\").isNull()).count() / agg_oilprice_merged_df.count()) * 100\n",
    "print(f'Procentual number of NaN-Values: {percentage_nan}%')"
   ]
  },
  {
   "cell_type": "markdown",
   "metadata": {
    "id": "o6IV71ilmi7e"
   },
   "source": [
    "## Transactions_df Merge\n",
    "In this section we merge the aggregations_df with the agg_df to use the number of transaction per day for furter predictions"
   ]
  },
  {
   "cell_type": "code",
   "execution_count": 23,
   "metadata": {
    "colab": {
     "base_uri": "https://localhost:8080/"
    },
    "id": "OKraYTyUjZjI",
    "outputId": "8880365d-e4fe-45d4-c00c-6398a9571bc7"
   },
   "outputs": [
    {
     "name": "stdout",
     "output_type": "stream",
     "text": [
      "+----------+------------+\n",
      "|date      |transactions|\n",
      "+----------+------------+\n",
      "|2013-01-01|770         |\n",
      "|2013-01-02|93215       |\n",
      "|2013-01-03|78504       |\n",
      "|2013-01-04|78494       |\n",
      "|2013-01-05|93573       |\n",
      "|2013-01-06|90464       |\n",
      "|2013-01-07|75597       |\n",
      "|2013-01-08|72325       |\n",
      "|2013-01-09|71971       |\n",
      "|2013-01-10|66383       |\n",
      "|2013-01-11|70338       |\n",
      "|2013-01-12|85511       |\n",
      "|2013-01-13|86306       |\n",
      "|2013-01-14|70078       |\n",
      "|2013-01-15|71134       |\n",
      "|2013-01-16|72471       |\n",
      "|2013-01-17|68873       |\n",
      "|2013-01-18|71371       |\n",
      "|2013-01-19|88558       |\n",
      "|2013-01-20|85281       |\n",
      "+----------+------------+\n",
      "only showing top 20 rows\n",
      "\n"
     ]
    }
   ],
   "source": [
    "agg_transactions_df = transactions_df.groupBy(\"date\").agg(sum(\"transactions\").alias(\"transactions\"))\n",
    "agg_transactions_df.sort(col(\"date\")).show(truncate = False)"
   ]
  },
  {
   "cell_type": "code",
   "execution_count": 24,
   "metadata": {
    "colab": {
     "base_uri": "https://localhost:8080/"
    },
    "id": "p3axBehCjZjI",
    "outputId": "d53cf22c-bcfb-427a-e704-2da1908133c3"
   },
   "outputs": [
    {
     "name": "stdout",
     "output_type": "stream",
     "text": [
      "+----------+-------------------+---------+-----------+-----------+-----+------------------+------------+\n",
      "|date      |family             |sales    |onpromotion|day_of_week|month|dcoilwtico        |transactions|\n",
      "+----------+-------------------+---------+-----------+-----------+-----+------------------+------------+\n",
      "|2013-01-01|AUTOMOTIVE         |0.0      |0          |3          |1    |51.291160931586795|770         |\n",
      "|2013-01-01|BABY CARE          |0.0      |0          |3          |1    |51.291160931586795|770         |\n",
      "|2013-01-01|BEAUTY             |2.0      |0          |3          |1    |51.291160931586795|770         |\n",
      "|2013-01-01|BEVERAGES          |810.0    |0          |3          |1    |51.291160931586795|770         |\n",
      "|2013-01-01|BOOKS              |0.0      |0          |3          |1    |51.291160931586795|770         |\n",
      "|2013-01-01|BREAD/BAKERY       |180.589  |0          |3          |1    |51.291160931586795|770         |\n",
      "|2013-01-01|CELEBRATION        |0.0      |0          |3          |1    |51.291160931586795|770         |\n",
      "|2013-01-01|CLEANING           |186.0    |0          |3          |1    |51.291160931586795|770         |\n",
      "|2013-01-01|DAIRY              |143.0    |0          |3          |1    |51.291160931586795|770         |\n",
      "|2013-01-01|DELI               |71.09    |0          |3          |1    |51.291160931586795|770         |\n",
      "|2013-01-01|EGGS               |46.0     |0          |3          |1    |51.291160931586795|770         |\n",
      "|2013-01-01|FROZEN FOODS       |29.654999|0          |3          |1    |51.291160931586795|770         |\n",
      "|2013-01-01|GROCERY I          |700.0    |0          |3          |1    |51.291160931586795|770         |\n",
      "|2013-01-01|GROCERY II         |15.0     |0          |3          |1    |51.291160931586795|770         |\n",
      "|2013-01-01|HARDWARE           |0.0      |0          |3          |1    |51.291160931586795|770         |\n",
      "|2013-01-01|HOME AND KITCHEN I |0.0      |0          |3          |1    |51.291160931586795|770         |\n",
      "|2013-01-01|HOME AND KITCHEN II|0.0      |0          |3          |1    |51.291160931586795|770         |\n",
      "|2013-01-01|HOME APPLIANCES    |0.0      |0          |3          |1    |51.291160931586795|770         |\n",
      "|2013-01-01|HOME CARE          |0.0      |0          |3          |1    |51.291160931586795|770         |\n",
      "|2013-01-01|LADIESWEAR         |0.0      |0          |3          |1    |51.291160931586795|770         |\n",
      "+----------+-------------------+---------+-----------+-----------+-----+------------------+------------+\n",
      "only showing top 20 rows\n",
      "\n"
     ]
    }
   ],
   "source": [
    "merged_df = agg_oilprice_merged_df.join(agg_transactions_df, on='date', how='left')\n",
    "merged_df = merged_df.na.drop()\n",
    "merged_df.sort(col(\"date\"), col(\"family\")).show(truncate = False)"
   ]
  },
  {
   "cell_type": "markdown",
   "metadata": {
    "id": "xzAIoTwgjZjI"
   },
   "source": [
    "### Holidays_df Merge\n",
    "In this section the holidays_df gets merged to use the transaction data for the upcoming model prediction"
   ]
  },
  {
   "cell_type": "code",
   "execution_count": 25,
   "metadata": {
    "colab": {
     "base_uri": "https://localhost:8080/"
    },
    "id": "4G2VEZrjjZjI",
    "outputId": "f92bfb8f-d22b-4c6d-b570-c906043b571a"
   },
   "outputs": [
    {
     "name": "stdout",
     "output_type": "stream",
     "text": [
      "+----------+----------+\n",
      "|date      |type      |\n",
      "+----------+----------+\n",
      "|2012-08-10|Holiday   |\n",
      "|2012-10-12|Holiday   |\n",
      "|2012-11-02|Holiday   |\n",
      "|2012-11-03|Holiday   |\n",
      "|2012-12-21|Additional|\n",
      "|2012-12-22|Additional|\n",
      "|2012-12-23|Additional|\n",
      "|2012-12-24|Bridge    |\n",
      "|2012-12-24|Additional|\n",
      "|2012-12-25|Holiday   |\n",
      "|2012-12-26|Additional|\n",
      "|2012-12-31|Bridge    |\n",
      "|2012-12-31|Additional|\n",
      "|2013-01-01|Holiday   |\n",
      "|2013-01-05|Work Day  |\n",
      "|2013-01-12|Work Day  |\n",
      "|2013-02-11|Holiday   |\n",
      "|2013-02-12|Holiday   |\n",
      "|2013-04-29|Holiday   |\n",
      "|2013-05-01|Holiday   |\n",
      "+----------+----------+\n",
      "only showing top 20 rows\n",
      "\n"
     ]
    }
   ],
   "source": [
    "# We only want to use the Holiday/Additional,etc. data which counts for the whole country Ecuador\n",
    "modified_holidays_df = holidays_df.filter((col(\"transferred\") == False) & (col(\"locale\") == \"National\"))\n",
    "modified_holidays_df = modified_holidays_df.withColumn(\"type\", when(col(\"type\") == \"Transfer\", \"Holiday\").otherwise(col(\"type\")))\n",
    "\n",
    "modified_holidays_df = modified_holidays_df.select(\"date\", \"type\")\n",
    "modified_holidays_df.sort(col(\"date\")).show(truncate = False)"
   ]
  },
  {
   "cell_type": "code",
   "execution_count": 26,
   "metadata": {
    "colab": {
     "base_uri": "https://localhost:8080/"
    },
    "id": "bv0_Yan0jZjI",
    "outputId": "95979385-4f0e-40c6-ff65-4020237d0524"
   },
   "outputs": [],
   "source": [
    "# Doing the merge of modified_holidays_df and merged_df\n",
    "merged_df = merged_df.join(modified_holidays_df, on=\"date\", how=\"left\")\n",
    "# The dates on which no holiday or something else encounted in the holiday_df takes place we insert \"Normal\" as a value\n",
    "merged_df = merged_df.withColumn(\"type\", when(merged_df[\"type\"].isNull(), \"Normal\").otherwise(merged_df[\"type\"]))"
   ]
  },
  {
   "cell_type": "markdown",
   "metadata": {
    "id": "9kafBXltjZjI"
   },
   "source": [
    "# Feature based prediction (fb)\n",
    "In the first trained model for predicting the sales volumes we use a normal feature based prediction without taking into account previous values."
   ]
  },
  {
   "cell_type": "markdown",
   "metadata": {
    "id": "R2JpI4uaXACO"
   },
   "source": [
    "## Data transformation/encoding"
   ]
  },
  {
   "cell_type": "code",
   "execution_count": 27,
   "metadata": {},
   "outputs": [],
   "source": [
    "# ## Data transformation/encoding\n",
    "transformed_df_fb = merged_df\n",
    "\n",
    "transformed_df_fb = transformed_df_fb.drop(\"date\")\n",
    "\n",
    "transformed_df_fb = transformed_df_fb.withColumnRenamed(\"day_of_week\", \"day_of_week_index\")\n",
    "transformed_df_fb = transformed_df_fb.withColumnRenamed(\"month\", \"month_index\")\n",
    "transformed_df_fb = transformed_df_fb.sample(withReplacement=False, fraction=0.05)\n",
    "\n",
    "str_cat_cols_fb = [\"type\", \"family\"]\n",
    "cat_cols_fb = [\"day_of_week\", \"month\", \"type\", \"family\"]\n",
    "\n",
    "indexers_fb = [StringIndexer(inputCol=col, outputCol=col+\"_index\") for col in str_cat_cols_fb]\n",
    "encoders_fb = [OneHotEncoder(inputCol=col + \"_index\", outputCol=col + \"_encoded\") for col in cat_cols_fb]\n",
    "\n",
    "for encoder in encoders_fb:\n",
    "    encoder.setHandleInvalid(\"keep\")\n",
    "    encoder.setDropLast(True)\n",
    "\n",
    "feature_cols_fb = [\"day_of_week_encoded\", \"month_encoded\", \"type_encoded\", \"family_encoded\", \"transactions\", \"dcoilwtico\", \"onpromotion\"]\n"
   ]
  },
  {
   "cell_type": "markdown",
   "metadata": {
    "id": "ePBuO71rXBUQ"
   },
   "source": [
    "## Model training"
   ]
  },
  {
   "cell_type": "code",
   "execution_count": 31,
   "metadata": {},
   "outputs": [
    {
     "ename": "ConnectionRefusedError",
     "evalue": "[WinError 10061] No connection could be made because the target machine actively refused it",
     "output_type": "error",
     "traceback": [
      "\u001b[1;31m---------------------------------------------------------------------------\u001b[0m",
      "\u001b[1;31mConnectionRefusedError\u001b[0m                    Traceback (most recent call last)",
      "\u001b[1;32mc:\\Users\\a915396\\OneDrive - ATOS\\Desktop\\RHProjekt\\github_repo\\RHODS_ML\\main_spark.ipynb Cell 45\u001b[0m line \u001b[0;36m3\n\u001b[0;32m      <a href='vscode-notebook-cell:/c%3A/Users/a915396/OneDrive%20-%20ATOS/Desktop/RHProjekt/github_repo/RHODS_ML/main_spark.ipynb#Y126sZmlsZQ%3D%3D?line=0'>1</a>\u001b[0m \u001b[39m##### MODEL TRAINING #####\u001b[39;00m\n\u001b[1;32m----> <a href='vscode-notebook-cell:/c%3A/Users/a915396/OneDrive%20-%20ATOS/Desktop/RHProjekt/github_repo/RHODS_ML/main_spark.ipynb#Y126sZmlsZQ%3D%3D?line=2'>3</a>\u001b[0m assembler_fb \u001b[39m=\u001b[39m VectorAssembler(inputCols\u001b[39m=\u001b[39;49mfeature_cols_fb, outputCol\u001b[39m=\u001b[39;49m\u001b[39m\"\u001b[39;49m\u001b[39mfeatures\u001b[39;49m\u001b[39m\"\u001b[39;49m)\n\u001b[0;32m      <a href='vscode-notebook-cell:/c%3A/Users/a915396/OneDrive%20-%20ATOS/Desktop/RHProjekt/github_repo/RHODS_ML/main_spark.ipynb#Y126sZmlsZQ%3D%3D?line=4'>5</a>\u001b[0m gbt_fb \u001b[39m=\u001b[39m GBTRegressor(featuresCol\u001b[39m=\u001b[39m\u001b[39m\"\u001b[39m\u001b[39mfeatures\u001b[39m\u001b[39m\"\u001b[39m, labelCol\u001b[39m=\u001b[39m\u001b[39m\"\u001b[39m\u001b[39msales\u001b[39m\u001b[39m\"\u001b[39m, maxBins\u001b[39m=\u001b[39m\u001b[39m33\u001b[39m)\n\u001b[0;32m      <a href='vscode-notebook-cell:/c%3A/Users/a915396/OneDrive%20-%20ATOS/Desktop/RHProjekt/github_repo/RHODS_ML/main_spark.ipynb#Y126sZmlsZQ%3D%3D?line=6'>7</a>\u001b[0m pipeline_fb \u001b[39m=\u001b[39m Pipeline(stages\u001b[39m=\u001b[39m indexers_fb \u001b[39m+\u001b[39m encoders_fb \u001b[39m+\u001b[39m [assembler_fb, gbt_fb])\n",
      "File \u001b[1;32m~\\AppData\\Local\\Packages\\PythonSoftwareFoundation.Python.3.11_qbz5n2kfra8p0\\LocalCache\\local-packages\\Python311\\site-packages\\pyspark\\__init__.py:139\u001b[0m, in \u001b[0;36mkeyword_only.<locals>.wrapper\u001b[1;34m(self, *args, **kwargs)\u001b[0m\n\u001b[0;32m    137\u001b[0m     \u001b[39mraise\u001b[39;00m \u001b[39mTypeError\u001b[39;00m(\u001b[39m\"\u001b[39m\u001b[39mMethod \u001b[39m\u001b[39m%s\u001b[39;00m\u001b[39m forces keyword arguments.\u001b[39m\u001b[39m\"\u001b[39m \u001b[39m%\u001b[39m func\u001b[39m.\u001b[39m\u001b[39m__name__\u001b[39m)\n\u001b[0;32m    138\u001b[0m \u001b[39mself\u001b[39m\u001b[39m.\u001b[39m_input_kwargs \u001b[39m=\u001b[39m kwargs\n\u001b[1;32m--> 139\u001b[0m \u001b[39mreturn\u001b[39;00m func(\u001b[39mself\u001b[39;49m, \u001b[39m*\u001b[39;49m\u001b[39m*\u001b[39;49mkwargs)\n",
      "File \u001b[1;32m~\\AppData\\Local\\Packages\\PythonSoftwareFoundation.Python.3.11_qbz5n2kfra8p0\\LocalCache\\local-packages\\Python311\\site-packages\\pyspark\\ml\\feature.py:5358\u001b[0m, in \u001b[0;36mVectorAssembler.__init__\u001b[1;34m(self, inputCols, outputCol, handleInvalid)\u001b[0m\n\u001b[0;32m   5354\u001b[0m \u001b[39m\u001b[39m\u001b[39m\"\"\"\u001b[39;00m\n\u001b[0;32m   5355\u001b[0m \u001b[39m__init__(self, \\\\*, inputCols=None, outputCol=None, handleInvalid=\"error\")\u001b[39;00m\n\u001b[0;32m   5356\u001b[0m \u001b[39m\"\"\"\u001b[39;00m\n\u001b[0;32m   5357\u001b[0m \u001b[39msuper\u001b[39m(VectorAssembler, \u001b[39mself\u001b[39m)\u001b[39m.\u001b[39m\u001b[39m__init__\u001b[39m()\n\u001b[1;32m-> 5358\u001b[0m \u001b[39mself\u001b[39m\u001b[39m.\u001b[39m_java_obj \u001b[39m=\u001b[39m \u001b[39mself\u001b[39;49m\u001b[39m.\u001b[39;49m_new_java_obj(\u001b[39m\"\u001b[39;49m\u001b[39morg.apache.spark.ml.feature.VectorAssembler\u001b[39;49m\u001b[39m\"\u001b[39;49m, \u001b[39mself\u001b[39;49m\u001b[39m.\u001b[39;49muid)\n\u001b[0;32m   5359\u001b[0m \u001b[39mself\u001b[39m\u001b[39m.\u001b[39m_setDefault(handleInvalid\u001b[39m=\u001b[39m\u001b[39m\"\u001b[39m\u001b[39merror\u001b[39m\u001b[39m\"\u001b[39m)\n\u001b[0;32m   5360\u001b[0m kwargs \u001b[39m=\u001b[39m \u001b[39mself\u001b[39m\u001b[39m.\u001b[39m_input_kwargs\n",
      "File \u001b[1;32m~\\AppData\\Local\\Packages\\PythonSoftwareFoundation.Python.3.11_qbz5n2kfra8p0\\LocalCache\\local-packages\\Python311\\site-packages\\pyspark\\ml\\wrapper.py:84\u001b[0m, in \u001b[0;36mJavaWrapper._new_java_obj\u001b[1;34m(java_class, *args)\u001b[0m\n\u001b[0;32m     82\u001b[0m java_obj \u001b[39m=\u001b[39m _jvm()\n\u001b[0;32m     83\u001b[0m \u001b[39mfor\u001b[39;00m name \u001b[39min\u001b[39;00m java_class\u001b[39m.\u001b[39msplit(\u001b[39m\"\u001b[39m\u001b[39m.\u001b[39m\u001b[39m\"\u001b[39m):\n\u001b[1;32m---> 84\u001b[0m     java_obj \u001b[39m=\u001b[39m \u001b[39mgetattr\u001b[39m(java_obj, name)\n\u001b[0;32m     85\u001b[0m java_args \u001b[39m=\u001b[39m [_py2java(sc, arg) \u001b[39mfor\u001b[39;00m arg \u001b[39min\u001b[39;00m args]\n\u001b[0;32m     86\u001b[0m \u001b[39mreturn\u001b[39;00m java_obj(\u001b[39m*\u001b[39mjava_args)\n",
      "File \u001b[1;32m~\\AppData\\Local\\Packages\\PythonSoftwareFoundation.Python.3.11_qbz5n2kfra8p0\\LocalCache\\local-packages\\Python311\\site-packages\\py4j\\java_gateway.py:1712\u001b[0m, in \u001b[0;36mJVMView.__getattr__\u001b[1;34m(self, name)\u001b[0m\n\u001b[0;32m   1709\u001b[0m \u001b[39mif\u001b[39;00m name \u001b[39m==\u001b[39m UserHelpAutoCompletion\u001b[39m.\u001b[39mKEY:\n\u001b[0;32m   1710\u001b[0m     \u001b[39mreturn\u001b[39;00m UserHelpAutoCompletion()\n\u001b[1;32m-> 1712\u001b[0m answer \u001b[39m=\u001b[39m \u001b[39mself\u001b[39;49m\u001b[39m.\u001b[39;49m_gateway_client\u001b[39m.\u001b[39;49msend_command(\n\u001b[0;32m   1713\u001b[0m     proto\u001b[39m.\u001b[39;49mREFLECTION_COMMAND_NAME \u001b[39m+\u001b[39;49m\n\u001b[0;32m   1714\u001b[0m     proto\u001b[39m.\u001b[39;49mREFL_GET_UNKNOWN_SUB_COMMAND_NAME \u001b[39m+\u001b[39;49m name \u001b[39m+\u001b[39;49m \u001b[39m\"\u001b[39;49m\u001b[39m\\n\u001b[39;49;00m\u001b[39m\"\u001b[39;49m \u001b[39m+\u001b[39;49m \u001b[39mself\u001b[39;49m\u001b[39m.\u001b[39;49m_id \u001b[39m+\u001b[39;49m\n\u001b[0;32m   1715\u001b[0m     \u001b[39m\"\u001b[39;49m\u001b[39m\\n\u001b[39;49;00m\u001b[39m\"\u001b[39;49m \u001b[39m+\u001b[39;49m proto\u001b[39m.\u001b[39;49mEND_COMMAND_PART)\n\u001b[0;32m   1716\u001b[0m \u001b[39mif\u001b[39;00m answer \u001b[39m==\u001b[39m proto\u001b[39m.\u001b[39mSUCCESS_PACKAGE:\n\u001b[0;32m   1717\u001b[0m     \u001b[39mreturn\u001b[39;00m JavaPackage(name, \u001b[39mself\u001b[39m\u001b[39m.\u001b[39m_gateway_client, jvm_id\u001b[39m=\u001b[39m\u001b[39mself\u001b[39m\u001b[39m.\u001b[39m_id)\n",
      "File \u001b[1;32m~\\AppData\\Local\\Packages\\PythonSoftwareFoundation.Python.3.11_qbz5n2kfra8p0\\LocalCache\\local-packages\\Python311\\site-packages\\py4j\\java_gateway.py:1036\u001b[0m, in \u001b[0;36mGatewayClient.send_command\u001b[1;34m(self, command, retry, binary)\u001b[0m\n\u001b[0;32m   1015\u001b[0m \u001b[39mdef\u001b[39;00m \u001b[39msend_command\u001b[39m(\u001b[39mself\u001b[39m, command, retry\u001b[39m=\u001b[39m\u001b[39mTrue\u001b[39;00m, binary\u001b[39m=\u001b[39m\u001b[39mFalse\u001b[39;00m):\n\u001b[0;32m   1016\u001b[0m \u001b[39m    \u001b[39m\u001b[39m\"\"\"Sends a command to the JVM. This method is not intended to be\u001b[39;00m\n\u001b[0;32m   1017\u001b[0m \u001b[39m       called directly by Py4J users. It is usually called by\u001b[39;00m\n\u001b[0;32m   1018\u001b[0m \u001b[39m       :class:`JavaMember` instances.\u001b[39;00m\n\u001b[1;32m   (...)\u001b[0m\n\u001b[0;32m   1034\u001b[0m \u001b[39m     if `binary` is `True`.\u001b[39;00m\n\u001b[0;32m   1035\u001b[0m \u001b[39m    \"\"\"\u001b[39;00m\n\u001b[1;32m-> 1036\u001b[0m     connection \u001b[39m=\u001b[39m \u001b[39mself\u001b[39;49m\u001b[39m.\u001b[39;49m_get_connection()\n\u001b[0;32m   1037\u001b[0m     \u001b[39mtry\u001b[39;00m:\n\u001b[0;32m   1038\u001b[0m         response \u001b[39m=\u001b[39m connection\u001b[39m.\u001b[39msend_command(command)\n",
      "File \u001b[1;32m~\\AppData\\Local\\Packages\\PythonSoftwareFoundation.Python.3.11_qbz5n2kfra8p0\\LocalCache\\local-packages\\Python311\\site-packages\\py4j\\clientserver.py:284\u001b[0m, in \u001b[0;36mJavaClient._get_connection\u001b[1;34m(self)\u001b[0m\n\u001b[0;32m    281\u001b[0m     \u001b[39mpass\u001b[39;00m\n\u001b[0;32m    283\u001b[0m \u001b[39mif\u001b[39;00m connection \u001b[39mis\u001b[39;00m \u001b[39mNone\u001b[39;00m \u001b[39mor\u001b[39;00m connection\u001b[39m.\u001b[39msocket \u001b[39mis\u001b[39;00m \u001b[39mNone\u001b[39;00m:\n\u001b[1;32m--> 284\u001b[0m     connection \u001b[39m=\u001b[39m \u001b[39mself\u001b[39;49m\u001b[39m.\u001b[39;49m_create_new_connection()\n\u001b[0;32m    285\u001b[0m \u001b[39mreturn\u001b[39;00m connection\n",
      "File \u001b[1;32m~\\AppData\\Local\\Packages\\PythonSoftwareFoundation.Python.3.11_qbz5n2kfra8p0\\LocalCache\\local-packages\\Python311\\site-packages\\py4j\\clientserver.py:291\u001b[0m, in \u001b[0;36mJavaClient._create_new_connection\u001b[1;34m(self)\u001b[0m\n\u001b[0;32m    287\u001b[0m \u001b[39mdef\u001b[39;00m \u001b[39m_create_new_connection\u001b[39m(\u001b[39mself\u001b[39m):\n\u001b[0;32m    288\u001b[0m     connection \u001b[39m=\u001b[39m ClientServerConnection(\n\u001b[0;32m    289\u001b[0m         \u001b[39mself\u001b[39m\u001b[39m.\u001b[39mjava_parameters, \u001b[39mself\u001b[39m\u001b[39m.\u001b[39mpython_parameters,\n\u001b[0;32m    290\u001b[0m         \u001b[39mself\u001b[39m\u001b[39m.\u001b[39mgateway_property, \u001b[39mself\u001b[39m)\n\u001b[1;32m--> 291\u001b[0m     connection\u001b[39m.\u001b[39;49mconnect_to_java_server()\n\u001b[0;32m    292\u001b[0m     \u001b[39mself\u001b[39m\u001b[39m.\u001b[39mset_thread_connection(connection)\n\u001b[0;32m    293\u001b[0m     \u001b[39mreturn\u001b[39;00m connection\n",
      "File \u001b[1;32m~\\AppData\\Local\\Packages\\PythonSoftwareFoundation.Python.3.11_qbz5n2kfra8p0\\LocalCache\\local-packages\\Python311\\site-packages\\py4j\\clientserver.py:438\u001b[0m, in \u001b[0;36mClientServerConnection.connect_to_java_server\u001b[1;34m(self)\u001b[0m\n\u001b[0;32m    435\u001b[0m \u001b[39mif\u001b[39;00m \u001b[39mself\u001b[39m\u001b[39m.\u001b[39mssl_context:\n\u001b[0;32m    436\u001b[0m     \u001b[39mself\u001b[39m\u001b[39m.\u001b[39msocket \u001b[39m=\u001b[39m \u001b[39mself\u001b[39m\u001b[39m.\u001b[39mssl_context\u001b[39m.\u001b[39mwrap_socket(\n\u001b[0;32m    437\u001b[0m         \u001b[39mself\u001b[39m\u001b[39m.\u001b[39msocket, server_hostname\u001b[39m=\u001b[39m\u001b[39mself\u001b[39m\u001b[39m.\u001b[39mjava_address)\n\u001b[1;32m--> 438\u001b[0m \u001b[39mself\u001b[39m\u001b[39m.\u001b[39msocket\u001b[39m.\u001b[39mconnect((\u001b[39mself\u001b[39m\u001b[39m.\u001b[39mjava_address, \u001b[39mself\u001b[39m\u001b[39m.\u001b[39mjava_port))\n\u001b[0;32m    439\u001b[0m \u001b[39mself\u001b[39m\u001b[39m.\u001b[39mstream \u001b[39m=\u001b[39m \u001b[39mself\u001b[39m\u001b[39m.\u001b[39msocket\u001b[39m.\u001b[39mmakefile(\u001b[39m\"\u001b[39m\u001b[39mrb\u001b[39m\u001b[39m\"\u001b[39m)\n\u001b[0;32m    440\u001b[0m \u001b[39mself\u001b[39m\u001b[39m.\u001b[39mis_connected \u001b[39m=\u001b[39m \u001b[39mTrue\u001b[39;00m\n",
      "\u001b[1;31mConnectionRefusedError\u001b[0m: [WinError 10061] No connection could be made because the target machine actively refused it"
     ]
    }
   ],
   "source": [
    "##### MODEL TRAINING #####\n",
    "\n",
    "assembler_fb = VectorAssembler(inputCols=feature_cols_fb, outputCol=\"features\")\n",
    "\n",
    "gbt_fb = GBTRegressor(featuresCol=\"features\", labelCol=\"sales\", maxBins=33)\n",
    "\n",
    "pipeline_fb = Pipeline(stages= indexers_fb + encoders_fb + [assembler_fb, gbt_fb])\n",
    "\n",
    "# Hyperparameter Tuning\n",
    "paramGrid_fb = (ParamGridBuilder()\n",
    "             .addGrid(gbt_fb.maxDepth, [4, 6])\n",
    "             .addGrid(gbt_fb.maxIter, [50, 100])\n",
    "             .addGrid(gbt_fb.stepSize, [0.1, 0.01])\n",
    "             .build())\n",
    "\n",
    "evaluator_fb = RegressionEvaluator(labelCol=\"sales\", predictionCol=\"prediction\", metricName=\"mae\")\n",
    "\n",
    "crossval_fb = CrossValidator(estimator=pipeline_fb,\n",
    "                          estimatorParamMaps=paramGrid_fb,\n",
    "                          evaluator=evaluator_fb,\n",
    "                          numFolds=2)\n",
    "\n",
    "train_data_fb, test_data_fb = transformed_df_fb.randomSplit([0.8, 0.2], seed=12)\n",
    "cvModel_fb = crossval_fb.fit(train_data_fb)"
   ]
  },
  {
   "cell_type": "markdown",
   "metadata": {
    "id": "I9y3A2VN5MZr"
   },
   "source": [
    "## Evaluation"
   ]
  },
  {
   "cell_type": "markdown",
   "metadata": {
    "id": "tiD2R0gW5P1b"
   },
   "source": [
    "### Overall evaluation"
   ]
  },
  {
   "cell_type": "code",
   "execution_count": null,
   "metadata": {
    "colab": {
     "base_uri": "https://localhost:8080/"
    },
    "id": "UlYC9hxk5L67",
    "outputId": "977b167e-5a92-4e7c-e914-d468557a49f0"
   },
   "outputs": [],
   "source": [
    "# overall evaluation\n",
    "evaluation_fb_df = cvModel_fb.transform(test_data_fb)\n",
    "clipped_evaluation_fb_df = evaluation_fb_df.withColumn(\"clipped_predictions\", when(col(\"prediction\") < 0, 0).otherwise(col(\"prediction\")))\n",
    "\n",
    "mae_fb = evaluator_fb.evaluate(clipped_evaluation_fb_df)\n",
    "\n",
    "\n",
    "best_model_fb = cvModel_fb.bestModel\n",
    "\n",
    "# initial_types_fb = buildInitialTypesSimple(test_data_fb.drop(\"sales\"))\n",
    "# onnx_model_fb = convert_sparkml(best_model_fb, 'Pyspark model without time lags', initial_types_fb, spark_session = spark)\n",
    "\n",
    "print(\"Mean Absolute Error (MAE):\", mae_fb)"
   ]
  },
  {
   "cell_type": "code",
   "execution_count": null,
   "metadata": {
    "colab": {
     "base_uri": "https://localhost:8080/"
    },
    "id": "J7ac8vuEjZjc",
    "outputId": "0ee4158a-2c27-4d36-a295-3f6a7f559086"
   },
   "outputs": [],
   "source": [
    "# Show the true sales values compared to the predicted ones\n",
    "clipped_evaluation_fb_df.select(\"sales\", \"clipped_predictions\").show()"
   ]
  },
  {
   "cell_type": "markdown",
   "metadata": {
    "id": "LG3tl8ObjZjc"
   },
   "source": [
    "### Product family wise evaluation"
   ]
  },
  {
   "cell_type": "code",
   "execution_count": null,
   "metadata": {
    "id": "GAJjUtKe8mK-"
   },
   "outputs": [],
   "source": [
    "filtered_evaluation_fb_df = clipped_evaluation_fb_df.select(\"family\", \"sales\", \"clipped_predictions\")\n",
    "evaluator = RegressionEvaluator(labelCol=\"sales\", predictionCol=\"clipped_predictions\", metricName=\"mae\")\n",
    "unique_family_values = filtered_evaluation_fb_df.select(\"family\").distinct().rdd.flatMap(lambda x: x).collect()\n",
    "\n",
    "data = []\n",
    "for value in unique_family_values:\n",
    "  df_fb = filtered_evaluation_fb_df.filter(filtered_evaluation_fb_df['family'] == value)\n",
    "  mae_fb = evaluator.evaluate(df_fb)\n",
    "  mean_fb = df_fb.select(mean(\"sales\")).collect()[0][0]\n",
    "  row = Row(family=value, mean=mean_fb, mean_absolute_error=mae_fb)\n",
    "  data.append(row)\n",
    "\n",
    "family_evaluation_fb_df = spark.createDataFrame(data)"
   ]
  },
  {
   "cell_type": "code",
   "execution_count": null,
   "metadata": {
    "colab": {
     "base_uri": "https://localhost:8080/"
    },
    "id": "Ghgw2zy_FPy3",
    "outputId": "8a1f4d74-6ebf-44c9-e6e9-bb32ce447636"
   },
   "outputs": [],
   "source": [
    "family_evaluation_fb_df.show()"
   ]
  },
  {
   "cell_type": "markdown",
   "metadata": {
    "id": "yAR7KybXjZjd"
   },
   "source": [
    "# Feature based prediction with Time lags (tl)"
   ]
  },
  {
   "cell_type": "markdown",
   "metadata": {
    "id": "BS2V5KaJWvw3"
   },
   "source": [
    "## Preprocessing"
   ]
  },
  {
   "cell_type": "code",
   "execution_count": null,
   "metadata": {},
   "outputs": [],
   "source": [
    "tl_df = merged_df # creating plain df for time-lagged data frame\n",
    "\n",
    "window_spec = Window.partitionBy(\"family\").orderBy(\"date\")\n",
    "\n",
    "# adding lags \n",
    "tl_df = tl_df.withColumn(\"lag_1\", F.lag(\"sales\", 1).over(window_spec))\n",
    "tl_df = tl_df.withColumn(\"lag_2\", F.lag(\"sales\", 2).over(window_spec))\n",
    "tl_df = tl_df.withColumn(\"lag_3\", F.lag(\"sales\", 3).over(window_spec))"
   ]
  },
  {
   "cell_type": "code",
   "execution_count": null,
   "metadata": {},
   "outputs": [],
   "source": [
    "specific_date = \"2013-01-04\" # The Time lag dataframe should start from the \"2013-01-04\" because else there is no lag data for the first row\n",
    "specific_date = spark.createDataFrame([(specific_date,)], [\"specific_date\"]).withColumn(\"specific_date\", col(\"specific_date\").cast(DateType()))\n",
    "tl_df_filtered = tl_df.filter(col(\"date\") >= specific_date.select(\"specific_date\").collect()[0][0])"
   ]
  },
  {
   "cell_type": "markdown",
   "metadata": {
    "id": "5GpTYtT4W0Qf"
   },
   "source": [
    "## Data transformation/encoding"
   ]
  },
  {
   "cell_type": "code",
   "execution_count": null,
   "metadata": {
    "colab": {
     "base_uri": "https://localhost:8080/"
    },
    "id": "vtV4qfH0WyIf",
    "outputId": "3cd48a94-c98c-4cac-c805-397940634c44"
   },
   "outputs": [],
   "source": [
    "# Data transformation/encoding\n",
    "\n",
    "transformed_df_tl = tl_df_filtered\n",
    "\n",
    "transformed_df_tl = transformed_df_tl.withColumnRenamed(\"day_of_week\", \"day_of_week_index\")\n",
    "transformed_df_tl = transformed_df_tl.withColumnRenamed(\"month\", \"month_index\")\n",
    "\n",
    "str_cat_cols_tl = [\"type\", \"family\"]\n",
    "cat_cols_tl = [\"day_of_week\", \"month\", \"type\", \"family\"]\n",
    "\n",
    "indexers_tl = [StringIndexer(inputCol=col, outputCol=col+\"_index\") for col in str_cat_cols_tl]\n",
    "encoders_tl = [OneHotEncoder(inputCol=col + \"_index\", outputCol=col + \"_encoded\") for col in cat_cols_tl]\n",
    "\n",
    "for encoder in encoders_tl:\n",
    "    encoder.setHandleInvalid(\"keep\")\n",
    "    encoder.setDropLast(True)"
   ]
  },
  {
   "cell_type": "markdown",
   "metadata": {
    "id": "dwMVNNTBXG1w"
   },
   "source": [
    "## Model training"
   ]
  },
  {
   "cell_type": "code",
   "execution_count": null,
   "metadata": {},
   "outputs": [],
   "source": [
    "##### MODEL TRAINING #####\n",
    "\n",
    "feature_cols_tl = [\"day_of_week_encoded\", \"month_encoded\", \"type_encoded\", \"family_encoded\", \"transactions\", \"dcoilwtico\", \"onpromotion\", \"lag_1\", \"lag_2\", \"lag_3\"]\n",
    "\n",
    "assembler_tl = VectorAssembler(inputCols=feature_cols_tl, outputCol=\"features\")\n",
    "\n",
    "gbt_tl = GBTRegressor(featuresCol=\"features\", labelCol=\"sales\", maxBins=33)\n",
    "\n",
    "pipeline_tl = Pipeline(stages= indexers_tl + encoders_tl + [assembler_tl, gbt_tl])\n",
    "\n",
    "paramGrid_tl = (ParamGridBuilder()\n",
    "             .addGrid(gbt_tl.maxDepth, [4, 6])\n",
    "             .addGrid(gbt_tl.maxIter, [50, 100])\n",
    "             .addGrid(gbt_tl.stepSize, [0.1, 0.01])\n",
    "             .build())\n",
    "\n",
    "evaluator_tl = RegressionEvaluator(labelCol=\"sales\", predictionCol=\"prediction\", metricName=\"mae\")\n",
    "\n",
    "crossval_tl = CrossValidator(estimator=pipeline_tl,\n",
    "                          estimatorParamMaps=paramGrid_tl,\n",
    "                          evaluator=evaluator_tl,\n",
    "                          numFolds=2)\n",
    "\n",
    "train_data_tl, test_data_tl = transformed_df_tl.randomSplit([0.8, 0.2], seed=12)\n",
    "cvModel_tl = crossval_tl.fit(train_data_tl)\n"
   ]
  },
  {
   "cell_type": "markdown",
   "metadata": {
    "id": "71KROdBtXNfm"
   },
   "source": [
    "## Evaluation"
   ]
  },
  {
   "cell_type": "markdown",
   "metadata": {
    "id": "7DXdivWnXS5v"
   },
   "source": [
    "### Overall evaluation"
   ]
  },
  {
   "cell_type": "code",
   "execution_count": null,
   "metadata": {
    "colab": {
     "base_uri": "https://localhost:8080/"
    },
    "id": "AVqKeGn7XU5v",
    "outputId": "5d81a14d-f6e8-487b-e005-edc3da0b0e09"
   },
   "outputs": [],
   "source": [
    "evaluation_tl_df = cvModel_tl.transform(test_data_tl)\n",
    "clipped_evaluation_tl_df = evaluation_tl_df.withColumn(\"clipped_predictions\", when(col(\"prediction\") < 0, 0).otherwise(col(\"prediction\")))\n",
    "\n",
    "mae_tl = evaluator_tl.evaluate(evaluation_tl_df)\n",
    "\n",
    "best_model_tl = cvModel_tl.bestModel\n",
    "\n",
    "initial_types_tl = buildInitialTypesSimple(test_data_tl.drop(\"sales\", 'date'))\n",
    "onnx_model_tl = convert_sparkml(best_model_tl, 'Pyspark model with time lags', initial_types_tl, spark_session = spark)\n",
    "\n",
    "print(\"Mean Absolute Error (MAE):\", mae_tl)"
   ]
  },
  {
   "cell_type": "code",
   "execution_count": null,
   "metadata": {
    "colab": {
     "base_uri": "https://localhost:8080/"
    },
    "id": "5G0PziAbXYnw",
    "outputId": "1978cfb4-aaa3-4b5a-88ae-ed133d85577d"
   },
   "outputs": [],
   "source": [
    "# Show the true sales values compared to the predicted ones\n",
    "clipped_evaluation_tl_df.select(\"sales\", \"clipped_predictions\").show()"
   ]
  },
  {
   "cell_type": "markdown",
   "metadata": {
    "id": "5qx1YhD-XcpA"
   },
   "source": [
    "### Product family wise evaluation"
   ]
  },
  {
   "cell_type": "code",
   "execution_count": null,
   "metadata": {
    "id": "8Y79yIoXXgZm"
   },
   "outputs": [],
   "source": [
    "filtered_evaluation_tl_df = clipped_evaluation_tl_df.select(\"family\", \"sales\", \"clipped_predictions\")\n",
    "evaluator = RegressionEvaluator(labelCol=\"sales\", predictionCol=\"clipped_predictions\", metricName=\"mae\")\n",
    "unique_family_values = filtered_evaluation_tl_df.select(\"family\").distinct().rdd.flatMap(lambda x: x).collect()\n",
    "\n",
    "data = []\n",
    "for value in unique_family_values:\n",
    "  df_tl = filtered_evaluation_tl_df.filter(filtered_evaluation_tl_df['family'] == value)\n",
    "  mae_tl = evaluator.evaluate(df_tl)\n",
    "  mean_tl = df_tl.select(mean(\"sales\")).collect()[0][0]\n",
    "  row = Row(family=value, mean=mean_tl, mean_absolute_error=mae_tl)\n",
    "  data.append(row)\n",
    "\n",
    "family_evaluation_tl_df = spark.createDataFrame(data)"
   ]
  },
  {
   "cell_type": "code",
   "execution_count": null,
   "metadata": {
    "colab": {
     "base_uri": "https://localhost:8080/"
    },
    "id": "jRUikUc7Xkge",
    "outputId": "87331eaf-7164-400e-946f-f9819628f822"
   },
   "outputs": [],
   "source": [
    "family_evaluation_fb_df.show()"
   ]
  }
 ],
 "metadata": {
  "colab": {
   "provenance": []
  },
  "kernelspec": {
   "display_name": "Python 3 (ipykernel)",
   "language": "python",
   "name": "python3"
  },
  "language_info": {
   "codemirror_mode": {
    "name": "ipython",
    "version": 3
   },
   "file_extension": ".py",
   "mimetype": "text/x-python",
   "name": "python",
   "nbconvert_exporter": "python",
   "pygments_lexer": "ipython3",
   "version": "3.11.6"
  }
 },
 "nbformat": 4,
 "nbformat_minor": 1
}
