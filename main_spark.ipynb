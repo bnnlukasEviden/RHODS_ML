{
  "cells": [
    {
      "cell_type": "markdown",
      "metadata": {
        "id": "8dXdiP3wjZjD"
      },
      "source": [
        "# Imports"
      ]
    },
    {
      "cell_type": "code",
      "execution_count": 2,
      "metadata": {
        "id": "rxxKcQi3jZjE"
      },
      "outputs": [],
      "source": [
        "import pyspark\n",
        "from pyspark.sql import SparkSession\n",
        "from pyspark.ml.feature import VectorAssembler\n",
        "import pyspark.sql.functions as F\n",
        "from pyspark.sql.functions import sum, when, avg, max, col, dayofweek, count, month, lit, mean\n",
        "from pyspark.sql.window import Window\n",
        "from pyspark.ml.feature import StringIndexer, OneHotEncoder, Imputer\n",
        "from pyspark.ml import Pipeline\n",
        "from pyspark.ml.regression import GBTRegressor\n",
        "from pyspark.ml.feature import VectorAssembler\n",
        "from pyspark.ml.evaluation import RegressionEvaluator\n",
        "from pyspark.ml.tuning import ParamGridBuilder, CrossValidator\n",
        "from pyspark.ml.regression import RandomForestRegressor\n",
        "from pyspark.sql.functions import expr\n",
        "from pyspark.sql import Row\n",
        "from pyspark.sql.types import DateType\n",
        "\n",
        "from onnxmltools import convert_sparkml\n",
        "from onnxmltools.convert.sparkml.utils import buildInitialTypesSimple"
      ]
    },
    {
      "cell_type": "code",
      "execution_count": 3,
      "metadata": {
        "id": "zZK781OCjZjF"
      },
      "outputs": [],
      "source": [
        "import warnings\n",
        "\n",
        "warnings.filterwarnings(\"ignore\", category=FutureWarning)"
      ]
    },
    {
      "cell_type": "code",
      "execution_count": 4,
      "metadata": {
        "id": "STK-tQCrjZjF"
      },
      "outputs": [],
      "source": [
        "spark = SparkSession.builder.appName('RHODS').getOrCreate()"
      ]
    },
    {
      "cell_type": "code",
      "execution_count": 5,
      "metadata": {
        "id": "3jM4p9ZkjZjF"
      },
      "outputs": [],
      "source": [
        "spark.catalog.clearCache()\n",
        "spark.conf.set(\"spark.sql.autoBroadcastJoinThreshold\", 1024 * 1024 * 1024)"
      ]
    },
    {
      "cell_type": "markdown",
      "metadata": {
        "id": "eIZlgoT_jZjG"
      },
      "source": [
        "# Data extraction"
      ]
    },
    {
      "cell_type": "code",
      "execution_count": 6,
      "metadata": {
        "id": "pkgSAi_HjZjG"
      },
      "outputs": [],
      "source": [
        "main_df = spark.read.csv('train.csv', header = True, inferSchema = True)\n",
        "oil_df = spark.read.csv('oil.csv', header = True, inferSchema = True)\n",
        "holidays_df = spark.read.csv('holidays_events.csv', header = True, inferSchema = True)\n",
        "transactions_df = spark.read.csv('transactions.csv', header = True, inferSchema = True)"
      ]
    },
    {
      "cell_type": "markdown",
      "metadata": {
        "id": "X0ImIAC7jZjG"
      },
      "source": [
        "# Feature Engineering"
      ]
    },
    {
      "cell_type": "code",
      "execution_count": 7,
      "metadata": {
        "colab": {
          "base_uri": "https://localhost:8080/"
        },
        "id": "zEzaxAu9jZjG",
        "outputId": "7c6b0f7e-12be-4a32-ad7d-fa1fda93e1da"
      },
      "outputs": [
        {
          "output_type": "stream",
          "name": "stdout",
          "text": [
            "+---+----------+---------+-------------------+-----+-----------+\n",
            "| id|      date|store_nbr|             family|sales|onpromotion|\n",
            "+---+----------+---------+-------------------+-----+-----------+\n",
            "|  0|2013-01-01|        1|         AUTOMOTIVE|  0.0|          0|\n",
            "|  1|2013-01-01|        1|          BABY CARE|  0.0|          0|\n",
            "|  2|2013-01-01|        1|             BEAUTY|  0.0|          0|\n",
            "|  3|2013-01-01|        1|          BEVERAGES|  0.0|          0|\n",
            "|  4|2013-01-01|        1|              BOOKS|  0.0|          0|\n",
            "|  5|2013-01-01|        1|       BREAD/BAKERY|  0.0|          0|\n",
            "|  6|2013-01-01|        1|        CELEBRATION|  0.0|          0|\n",
            "|  7|2013-01-01|        1|           CLEANING|  0.0|          0|\n",
            "|  8|2013-01-01|        1|              DAIRY|  0.0|          0|\n",
            "|  9|2013-01-01|        1|               DELI|  0.0|          0|\n",
            "| 10|2013-01-01|        1|               EGGS|  0.0|          0|\n",
            "| 11|2013-01-01|        1|       FROZEN FOODS|  0.0|          0|\n",
            "| 12|2013-01-01|        1|          GROCERY I|  0.0|          0|\n",
            "| 13|2013-01-01|        1|         GROCERY II|  0.0|          0|\n",
            "| 14|2013-01-01|        1|           HARDWARE|  0.0|          0|\n",
            "| 15|2013-01-01|        1| HOME AND KITCHEN I|  0.0|          0|\n",
            "| 16|2013-01-01|        1|HOME AND KITCHEN II|  0.0|          0|\n",
            "| 17|2013-01-01|        1|    HOME APPLIANCES|  0.0|          0|\n",
            "| 18|2013-01-01|        1|          HOME CARE|  0.0|          0|\n",
            "| 19|2013-01-01|        1|         LADIESWEAR|  0.0|          0|\n",
            "+---+----------+---------+-------------------+-----+-----------+\n",
            "only showing top 20 rows\n",
            "\n"
          ]
        }
      ],
      "source": [
        "main_df.show()"
      ]
    },
    {
      "cell_type": "markdown",
      "metadata": {
        "id": "OAF89StljZjG"
      },
      "source": [
        "## Train_df Aggregation, Date transformation"
      ]
    },
    {
      "cell_type": "code",
      "execution_count": 8,
      "metadata": {
        "colab": {
          "base_uri": "https://localhost:8080/"
        },
        "id": "TUH4N_s8jZjG",
        "outputId": "43391737-d601-43ab-cf66-764973a54ae8"
      },
      "outputs": [
        {
          "output_type": "stream",
          "name": "stdout",
          "text": [
            "+----------+-------------------+---------+-----------+-----------+-----+\n",
            "|date      |family             |sales    |onpromotion|day_of_week|month|\n",
            "+----------+-------------------+---------+-----------+-----------+-----+\n",
            "|2013-01-01|AUTOMOTIVE         |0.0      |0          |3          |1    |\n",
            "|2013-01-01|BABY CARE          |0.0      |0          |3          |1    |\n",
            "|2013-01-01|BEAUTY             |2.0      |0          |3          |1    |\n",
            "|2013-01-01|BEVERAGES          |810.0    |0          |3          |1    |\n",
            "|2013-01-01|BOOKS              |0.0      |0          |3          |1    |\n",
            "|2013-01-01|BREAD/BAKERY       |180.589  |0          |3          |1    |\n",
            "|2013-01-01|CELEBRATION        |0.0      |0          |3          |1    |\n",
            "|2013-01-01|CLEANING           |186.0    |0          |3          |1    |\n",
            "|2013-01-01|DAIRY              |143.0    |0          |3          |1    |\n",
            "|2013-01-01|DELI               |71.09    |0          |3          |1    |\n",
            "|2013-01-01|EGGS               |46.0     |0          |3          |1    |\n",
            "|2013-01-01|FROZEN FOODS       |29.654999|0          |3          |1    |\n",
            "|2013-01-01|GROCERY I          |700.0    |0          |3          |1    |\n",
            "|2013-01-01|GROCERY II         |15.0     |0          |3          |1    |\n",
            "|2013-01-01|HARDWARE           |0.0      |0          |3          |1    |\n",
            "|2013-01-01|HOME AND KITCHEN I |0.0      |0          |3          |1    |\n",
            "|2013-01-01|HOME AND KITCHEN II|0.0      |0          |3          |1    |\n",
            "|2013-01-01|HOME APPLIANCES    |0.0      |0          |3          |1    |\n",
            "|2013-01-01|HOME CARE          |0.0      |0          |3          |1    |\n",
            "|2013-01-01|LADIESWEAR         |0.0      |0          |3          |1    |\n",
            "+----------+-------------------+---------+-----------+-----------+-----+\n",
            "only showing top 20 rows\n",
            "\n"
          ]
        }
      ],
      "source": [
        "# Aggregation of the main_df to get the sales volumes aggregatet over all stores for each product family and date\n",
        "agg_df = main_df.groupBy('date', 'family').agg(sum('sales').alias(\"sales\"), sum('onpromotion').alias(\"onpromotion\"))\n",
        "\n",
        "# Adding of features related to the day of the week and the month of each record based on the date\n",
        "agg_df = agg_df.withColumn('day_of_week', dayofweek(agg_df.date)).withColumn('month', month(agg_df.date))\n",
        "agg_df.sort(col(\"date\"), col(\"family\")).show(truncate = False)"
      ]
    },
    {
      "cell_type": "markdown",
      "metadata": {
        "id": "5bBXqlZ9iz8z"
      },
      "source": [
        "# Visuals"
      ]
    },
    {
      "cell_type": "code",
      "execution_count": 9,
      "metadata": {
        "id": "uJjGv-h8iz8z"
      },
      "outputs": [],
      "source": [
        "# converting pyspark Df to pandas\n",
        "agg_df_pandas = agg_df.toPandas()"
      ]
    },
    {
      "cell_type": "code",
      "execution_count": 10,
      "metadata": {
        "id": "2dtVehAGiz8z"
      },
      "outputs": [],
      "source": [
        "# function for plotting\n",
        "\n",
        "def plotting_1(df, grouper, target, plot_title):\n",
        "       import pandas as pd\n",
        "       import matplotlib.pyplot as plt\n",
        "       grouper_target = pd.DataFrame(df.groupby(grouper)[target].mean()).reset_index()\n",
        "       # plotting the head and tail from the data frame including mean prices of car manufacturers\n",
        "       df_plt = pd.concat([grouper_target.sort_values(target, ascending=False).head(), grouper_target.sort_values(target, ascending=False).tail()])\n",
        "\n",
        "       fig = plt.figure(figsize=(15, 8))\n",
        "       ax = fig.add_axes([0,0,1,1])\n",
        "       langs = df_plt[grouper]\n",
        "       plot_obj = df_plt[target]\n",
        "       ax.bar(langs,plot_obj, width = 0.9)\n",
        "       ax.set(xlabel=grouper,\n",
        "              ylabel=('average {}'.format(target)))\n",
        "       ax.set_title(plot_title, fontsize=20)\n",
        "       plt.show()"
      ]
    },
    {
      "cell_type": "code",
      "execution_count": 11,
      "metadata": {
        "colab": {
          "base_uri": "https://localhost:8080/",
          "height": 734
        },
        "id": "Dd3dLwlmiz80",
        "outputId": "fa815716-f2dc-48ea-9e22-3f027e18181a"
      },
      "outputs": [
        {
          "output_type": "display_data",
          "data": {
            "text/plain": [
              "<Figure size 1500x800 with 1 Axes>"
            ],
            "image/png": "[encoded data removed]"
          },
          "metadata": {}
        }
      ],
      "source": [
        "plotting_1(df = agg_df_pandas,\n",
        "           grouper = \"family\",\n",
        "           target = \"sales\",\n",
        "           plot_title='average (aggregated) daily sales per product family')"
      ]
    },
    {
      "cell_type": "markdown",
      "metadata": {
        "id": "WAmAeTufjZjG"
      },
      "source": [
        "## Oil_df Merge\n",
        "In this section the agg_df and the oil_df are getting merged to use the oil price in the ML-Part of the project"
      ]
    },
    {
      "cell_type": "markdown",
      "metadata": {
        "id": "2PTK1v3HjD5l"
      },
      "source": [
        "### Preprocessing"
      ]
    },
    {
      "cell_type": "code",
      "execution_count": 12,
      "metadata": {
        "colab": {
          "base_uri": "https://localhost:8080/"
        },
        "id": "v26AmAKkhjeR",
        "outputId": "8c503dd3-16db-4a62-ac14-d5a01e27558e"
      },
      "outputs": [
        {
          "output_type": "stream",
          "name": "stdout",
          "text": [
            "Procentual number of NaN-Values: 30.93824228028503%\n"
          ]
        }
      ],
      "source": [
        "# Aggregating the oil_df and the agg_df\n",
        "agg_oil_merge_df = agg_df.join(oil_df, on='date', how='left') # left join agg_df and oil_df\n",
        "agg_oil_merge_df = agg_oil_merge_df.dropDuplicates(['date']) # reduce df to one row per date\n",
        "\n",
        "# Calculate the percentage of NaN values in the 'dcoilwtico' column\n",
        "percentage_nan = (agg_oil_merge_df.filter(col(\"dcoilwtico\").isNull()).count() / agg_oil_merge_df.count()) * 100\n",
        "print(f'Procentual number of NaN-Values: {percentage_nan}%')"
      ]
    },
    {
      "cell_type": "markdown",
      "metadata": {
        "id": "pgpR_JXKl3bX"
      },
      "source": [
        "Because of the high number of NaN-Values regarding the oilprice-value we decided to do a oilprice forecast"
      ]
    },
    {
      "cell_type": "code",
      "execution_count": 13,
      "metadata": {
        "colab": {
          "base_uri": "https://localhost:8080/",
          "height": 466
        },
        "id": "z-aI-cstiz81",
        "outputId": "a8d35b5b-4fa5-4f27-cede-6b7150723d91"
      },
      "outputs": [
        {
          "output_type": "execute_result",
          "data": {
            "text/plain": [
              "<Axes: xlabel='month', ylabel='dcoilwtico'>"
            ]
          },
          "metadata": {},
          "execution_count": 13
        },
        {
          "output_type": "display_data",
          "data": {
            "text/plain": [
              "<Figure size 640x480 with 1 Axes>"
            ],
            "image/png": "[encoded data removed]"
          },
          "metadata": {}
        }
      ],
      "source": [
        "# plotting boxplots month against oil price\n",
        "import seaborn as sns\n",
        "import pandas as pd\n",
        "\n",
        "sns.boxplot(x = \"month\", y = \"dcoilwtico\", data = agg_oil_merge_df.toPandas())"
      ]
    },
    {
      "cell_type": "markdown",
      "metadata": {
        "id": "C4Nw4OtxmIin"
      },
      "source": [
        "### Oilprice forecast"
      ]
    },
    {
      "cell_type": "code",
      "execution_count": 14,
      "metadata": {
        "id": "bnmaajceh1Mh"
      },
      "outputs": [],
      "source": [
        "# Create a subset of agg_oil_merge_df to forecast the oil prices\n",
        "oil_forecast_df = agg_oil_merge_df.select('date', 'dcoilwtico', 'day_of_week', 'month')"
      ]
    },
    {
      "cell_type": "code",
      "execution_count": 15,
      "metadata": {
        "colab": {
          "base_uri": "https://localhost:8080/"
        },
        "id": "1hNbSyIZiFY7",
        "outputId": "7d0c0888-6fc7-49c6-db86-1ee7463d43a8"
      },
      "outputs": [
        {
          "output_type": "stream",
          "name": "stdout",
          "text": [
            "+----------+----------+-----------+-----+-----+-----+-----+-----+-----+\n",
            "|      date|dcoilwtico|day_of_week|month|lag_1|lag_2|lag_3|lag_4|lag_5|\n",
            "+----------+----------+-----------+-----+-----+-----+-----+-----+-----+\n",
            "|2013-01-01|      NULL|          3|    1| NULL| NULL| NULL| NULL| NULL|\n",
            "|2013-01-02|     93.14|          4|    1| NULL| NULL| NULL| NULL| NULL|\n",
            "|2013-01-03|     92.97|          5|    1|93.14| NULL| NULL| NULL| NULL|\n",
            "|2013-01-04|     93.12|          6|    1|92.97|93.14| NULL| NULL| NULL|\n",
            "|2013-01-05|      NULL|          7|    1|93.12|92.97|93.14| NULL| NULL|\n",
            "|2013-01-06|      NULL|          1|    1| NULL|93.12|92.97|93.14| NULL|\n",
            "|2013-01-07|      93.2|          2|    1| NULL| NULL|93.12|92.97|93.14|\n",
            "|2013-01-08|     93.21|          3|    1| 93.2| NULL| NULL|93.12|92.97|\n",
            "|2013-01-09|     93.08|          4|    1|93.21| 93.2| NULL| NULL|93.12|\n",
            "|2013-01-10|     93.81|          5|    1|93.08|93.21| 93.2| NULL| NULL|\n",
            "|2013-01-11|      93.6|          6|    1|93.81|93.08|93.21| 93.2| NULL|\n",
            "|2013-01-12|      NULL|          7|    1| 93.6|93.81|93.08|93.21| 93.2|\n",
            "|2013-01-13|      NULL|          1|    1| NULL| 93.6|93.81|93.08|93.21|\n",
            "|2013-01-14|     94.27|          2|    1| NULL| NULL| 93.6|93.81|93.08|\n",
            "|2013-01-15|     93.26|          3|    1|94.27| NULL| NULL| 93.6|93.81|\n",
            "|2013-01-16|     94.28|          4|    1|93.26|94.27| NULL| NULL| 93.6|\n",
            "|2013-01-17|     95.49|          5|    1|94.28|93.26|94.27| NULL| NULL|\n",
            "|2013-01-18|     95.61|          6|    1|95.49|94.28|93.26|94.27| NULL|\n",
            "|2013-01-19|      NULL|          7|    1|95.61|95.49|94.28|93.26|94.27|\n",
            "|2013-01-20|      NULL|          1|    1| NULL|95.61|95.49|94.28|93.26|\n",
            "+----------+----------+-----------+-----+-----+-----+-----+-----+-----+\n",
            "only showing top 20 rows\n",
            "\n"
          ]
        }
      ],
      "source": [
        "n_lags = 5\n",
        "window_spec = Window.orderBy('date')\n",
        "for i in range(1, n_lags+1):\n",
        "  oil_forecast_df = oil_forecast_df.withColumn(\"lag_{}\".format(i), F.lag(\"dcoilwtico\", offset = i).over(window_spec).cast('float'))\n",
        "\n",
        "oil_forecast_df = oil_forecast_df.withColumn(\"dcoilwtico\", oil_forecast_df[\"dcoilwtico\"].cast('float'))\n",
        "oil_forecast_df.show()"
      ]
    },
    {
      "cell_type": "markdown",
      "metadata": {
        "id": "fWWLlJYejG-E"
      },
      "source": [
        "#### Data transformation/encoding/split, Pipeline creation"
      ]
    },
    {
      "cell_type": "code",
      "execution_count": 16,
      "metadata": {
        "id": "anZXDMBbjKF7"
      },
      "outputs": [],
      "source": [
        "numerical_cols_oil = ['lag_1', 'lag_2', 'lag_3', 'lag_4', 'lag_5']\n",
        "categorical_cols_oil = ['day_of_week', 'month']\n",
        "\n",
        "# Defining the encoder for encoding the categorical values\n",
        "encoder_oil = OneHotEncoder(inputCols=categorical_cols_oil,\n",
        "                        outputCols=[f\"{col}_encoded\" for col in categorical_cols_oil])\n",
        "\n",
        "oil_forecast_encoded_df = encoder_oil.fit(oil_forecast_df).transform(oil_forecast_df)"
      ]
    },
    {
      "cell_type": "code",
      "execution_count": 17,
      "metadata": {
        "id": "PqBnZW0XjizT"
      },
      "outputs": [],
      "source": [
        "# Create the train set of data with oil prices\n",
        "oil_fc_train = oil_forecast_encoded_df.filter(oil_forecast_encoded_df['dcoilwtico'].isNotNull())\n",
        "# Create the prediction set of data without oil prices\n",
        "oil_fc_pred = oil_forecast_encoded_df.filter(oil_forecast_encoded_df['dcoilwtico'].isNull())"
      ]
    },
    {
      "cell_type": "code",
      "execution_count": 18,
      "metadata": {
        "id": "LtrUts9wkJcC"
      },
      "outputs": [],
      "source": [
        "# Set the imputer\n",
        "numerical_imputer_oil = Imputer(strategy=\"median\", inputCols=numerical_cols_oil, outputCols=[f\"{col}_imputed\" for col in numerical_cols_oil])\n",
        "\n",
        "# Assemble features into a single vector\n",
        "feature_cols_oil = [f\"{col}_imputed\" for col in numerical_cols_oil] + [f\"{col}_encoded\" for col in categorical_cols_oil]\n",
        "assembler_oil = VectorAssembler(inputCols=feature_cols_oil, outputCol=\"features\")\n",
        "\n",
        "# Initialise the oilprice prediction model\n",
        "rfr_oil = RandomForestRegressor(featuresCol='features', labelCol='dcoilwtico')\n",
        "\n",
        "# Create the data preprocessing pipeline\n",
        "pipeline_oil = Pipeline(stages=[numerical_imputer_oil, assembler_oil, rfr_oil]) # pipeline for cross validation"
      ]
    },
    {
      "cell_type": "markdown",
      "metadata": {
        "id": "AeFhqhSJlHvu"
      },
      "source": [
        "#### Model training"
      ]
    },
    {
      "cell_type": "code",
      "execution_count": 19,
      "metadata": {
        "id": "i71OPi1AlJ3d"
      },
      "outputs": [],
      "source": [
        "paramGrid_oil = ParamGridBuilder() \\\n",
        "    .addGrid(rfr_oil.maxDepth, [5,7]) \\\n",
        "    .build()\n",
        "\n",
        "evaluator = RegressionEvaluator(labelCol=\"dcoilwtico\", predictionCol=\"prediction\", metricName=\"mae\")\n",
        "\n",
        "crossval = CrossValidator(estimator=pipeline_oil,\n",
        "                          estimatorParamMaps=paramGrid_oil,\n",
        "                          evaluator=evaluator,\n",
        "                          numFolds=5)\n",
        "\n",
        "cv_model_oil = crossval.fit(oil_fc_train)\n",
        "\n",
        "best_model_oil = cv_model_oil.bestModel # Model with the best parameters\n",
        "\n",
        "oil_predictions = best_model_oil.transform(oil_fc_pred)"
      ]
    },
    {
      "cell_type": "markdown",
      "metadata": {
        "id": "wTu7DpZKlpat"
      },
      "source": [
        "#### Oil price dataframe creation"
      ]
    },
    {
      "cell_type": "code",
      "execution_count": 20,
      "metadata": {
        "colab": {
          "base_uri": "https://localhost:8080/"
        },
        "id": "s6u7kCW5lnVm",
        "outputId": "d5f620a2-84fc-468d-a1d0-bad7228d0baf"
      },
      "outputs": [
        {
          "output_type": "stream",
          "name": "stdout",
          "text": [
            "+----------+-----------------+\n",
            "|date      |dcoilwtico       |\n",
            "+----------+-----------------+\n",
            "|2013-01-01|49.88657937088299|\n",
            "|2013-01-02|93.13999938964844|\n",
            "|2013-01-03|92.97000122070312|\n",
            "|2013-01-04|93.12000274658203|\n",
            "|2013-01-05|93.29106861075465|\n",
            "|2013-01-06|93.85164612654664|\n",
            "|2013-01-07|93.19999694824219|\n",
            "|2013-01-08|93.20999908447266|\n",
            "|2013-01-09|93.08000183105469|\n",
            "|2013-01-10|93.80999755859375|\n",
            "|2013-01-11|93.5999984741211 |\n",
            "|2013-01-12|94.0343853018218 |\n",
            "|2013-01-13|93.93904512558765|\n",
            "|2013-01-14|94.2699966430664 |\n",
            "|2013-01-15|93.26000213623047|\n",
            "|2013-01-16|94.27999877929688|\n",
            "|2013-01-17|95.48999786376953|\n",
            "|2013-01-18|95.61000061035156|\n",
            "|2013-01-19|95.2193133838714 |\n",
            "|2013-01-20|95.44052435221953|\n",
            "+----------+-----------------+\n",
            "only showing top 20 rows\n",
            "\n"
          ]
        }
      ],
      "source": [
        "oil_new_df = oil_fc_train.select('date', 'dcoilwtico').union(oil_predictions.select('date', 'prediction').withColumnRenamed(\"prediction\",'dcoilwtico'))\n",
        "oil_new_df.sort(col(\"date\")).show(truncate = False)"
      ]
    },
    {
      "cell_type": "code",
      "execution_count": 21,
      "metadata": {
        "colab": {
          "base_uri": "https://localhost:8080/"
        },
        "id": "pwrT3XLLrm_X",
        "outputId": "41a6eb31-5d79-41c8-aead-a2d5843be1c6"
      },
      "outputs": [
        {
          "output_type": "stream",
          "name": "stdout",
          "text": [
            "Procentual number of NaN-Values: 0.0%\n"
          ]
        }
      ],
      "source": [
        "# Now the new_oil_df gets merged with the agg_df to do further preprocessing\n",
        "agg_oilprice_merged_df = agg_df.join(oil_new_df, on='date', how='left')\n",
        "\n",
        "# There are no NaN-Values left in the Column \"dcoilwtico\"\n",
        "percentage_nan = (agg_oilprice_merged_df.filter(col(\"dcoilwtico\").isNull()).count() / agg_oilprice_merged_df.count()) * 100\n",
        "print(f'Procentual number of NaN-Values: {percentage_nan}%')"
      ]
    },
    {
      "cell_type": "markdown",
      "metadata": {
        "id": "o6IV71ilmi7e"
      },
      "source": [
        "## Transactions_df Merge\n",
        "In this section we merge the aggregations_df with the agg_df to use the number of transaction per day for furter predictions"
      ]
    },
    {
      "cell_type": "code",
      "execution_count": 22,
      "metadata": {
        "colab": {
          "base_uri": "https://localhost:8080/"
        },
        "id": "OKraYTyUjZjI",
        "outputId": "9ad9919f-65b1-415b-e434-dd722bfbd7b8"
      },
      "outputs": [
        {
          "output_type": "stream",
          "name": "stdout",
          "text": [
            "+----------+------------+\n",
            "|date      |transactions|\n",
            "+----------+------------+\n",
            "|2013-01-01|770         |\n",
            "|2013-01-02|93215       |\n",
            "|2013-01-03|78504       |\n",
            "|2013-01-04|78494       |\n",
            "|2013-01-05|93573       |\n",
            "|2013-01-06|90464       |\n",
            "|2013-01-07|75597       |\n",
            "|2013-01-08|72325       |\n",
            "|2013-01-09|71971       |\n",
            "|2013-01-10|66383       |\n",
            "|2013-01-11|70338       |\n",
            "|2013-01-12|85511       |\n",
            "|2013-01-13|86306       |\n",
            "|2013-01-14|70078       |\n",
            "|2013-01-15|71134       |\n",
            "|2013-01-16|72471       |\n",
            "|2013-01-17|68873       |\n",
            "|2013-01-18|71371       |\n",
            "|2013-01-19|88558       |\n",
            "|2013-01-20|85281       |\n",
            "+----------+------------+\n",
            "only showing top 20 rows\n",
            "\n"
          ]
        }
      ],
      "source": [
        "agg_transactions_df = transactions_df.groupBy(\"date\").agg(sum(\"transactions\").alias(\"transactions\"))\n",
        "agg_transactions_df.sort(col(\"date\")).show(truncate = False)"
      ]
    },
    {
      "cell_type": "code",
      "execution_count": 23,
      "metadata": {
        "colab": {
          "base_uri": "https://localhost:8080/"
        },
        "id": "p3axBehCjZjI",
        "outputId": "b4d9cad5-4761-4754-bd63-822d527d56d1"
      },
      "outputs": [
        {
          "output_type": "stream",
          "name": "stdout",
          "text": [
            "+----------+-------------------+---------+-----------+-----------+-----+-----------------+------------+\n",
            "|date      |family             |sales    |onpromotion|day_of_week|month|dcoilwtico       |transactions|\n",
            "+----------+-------------------+---------+-----------+-----------+-----+-----------------+------------+\n",
            "|2013-01-01|AUTOMOTIVE         |0.0      |0          |3          |1    |49.88657937088299|770         |\n",
            "|2013-01-01|BABY CARE          |0.0      |0          |3          |1    |49.88657937088299|770         |\n",
            "|2013-01-01|BEAUTY             |2.0      |0          |3          |1    |49.88657937088299|770         |\n",
            "|2013-01-01|BEVERAGES          |810.0    |0          |3          |1    |49.88657937088299|770         |\n",
            "|2013-01-01|BOOKS              |0.0      |0          |3          |1    |49.88657937088299|770         |\n",
            "|2013-01-01|BREAD/BAKERY       |180.589  |0          |3          |1    |49.88657937088299|770         |\n",
            "|2013-01-01|CELEBRATION        |0.0      |0          |3          |1    |49.88657937088299|770         |\n",
            "|2013-01-01|CLEANING           |186.0    |0          |3          |1    |49.88657937088299|770         |\n",
            "|2013-01-01|DAIRY              |143.0    |0          |3          |1    |49.88657937088299|770         |\n",
            "|2013-01-01|DELI               |71.09    |0          |3          |1    |49.88657937088299|770         |\n",
            "|2013-01-01|EGGS               |46.0     |0          |3          |1    |49.88657937088299|770         |\n",
            "|2013-01-01|FROZEN FOODS       |29.654999|0          |3          |1    |49.88657937088299|770         |\n",
            "|2013-01-01|GROCERY I          |700.0    |0          |3          |1    |49.88657937088299|770         |\n",
            "|2013-01-01|GROCERY II         |15.0     |0          |3          |1    |49.88657937088299|770         |\n",
            "|2013-01-01|HARDWARE           |0.0      |0          |3          |1    |49.88657937088299|770         |\n",
            "|2013-01-01|HOME AND KITCHEN I |0.0      |0          |3          |1    |49.88657937088299|770         |\n",
            "|2013-01-01|HOME AND KITCHEN II|0.0      |0          |3          |1    |49.88657937088299|770         |\n",
            "|2013-01-01|HOME APPLIANCES    |0.0      |0          |3          |1    |49.88657937088299|770         |\n",
            "|2013-01-01|HOME CARE          |0.0      |0          |3          |1    |49.88657937088299|770         |\n",
            "|2013-01-01|LADIESWEAR         |0.0      |0          |3          |1    |49.88657937088299|770         |\n",
            "+----------+-------------------+---------+-----------+-----------+-----+-----------------+------------+\n",
            "only showing top 20 rows\n",
            "\n"
          ]
        }
      ],
      "source": [
        "merged_df = agg_oilprice_merged_df.join(agg_transactions_df, on='date', how='left')\n",
        "merged_df = merged_df.na.drop()\n",
        "merged_df.sort(col(\"date\"), col(\"family\")).show(truncate = False)"
      ]
    },
    {
      "cell_type": "markdown",
      "metadata": {
        "id": "xzAIoTwgjZjI"
      },
      "source": [
        "### Holidays_df Merge\n",
        "In this section the holidays_df gets merged to use the transaction data for the upcoming model prediction"
      ]
    },
    {
      "cell_type": "code",
      "execution_count": 24,
      "metadata": {
        "colab": {
          "base_uri": "https://localhost:8080/"
        },
        "id": "4G2VEZrjjZjI",
        "outputId": "72594708-05fa-458b-e9cb-bfa625693b9c"
      },
      "outputs": [
        {
          "output_type": "stream",
          "name": "stdout",
          "text": [
            "+----------+----------+\n",
            "|date      |type      |\n",
            "+----------+----------+\n",
            "|2012-08-10|Holiday   |\n",
            "|2012-10-12|Holiday   |\n",
            "|2012-11-02|Holiday   |\n",
            "|2012-11-03|Holiday   |\n",
            "|2012-12-21|Additional|\n",
            "|2012-12-22|Additional|\n",
            "|2012-12-23|Additional|\n",
            "|2012-12-24|Bridge    |\n",
            "|2012-12-24|Additional|\n",
            "|2012-12-25|Holiday   |\n",
            "|2012-12-26|Additional|\n",
            "|2012-12-31|Bridge    |\n",
            "|2012-12-31|Additional|\n",
            "|2013-01-01|Holiday   |\n",
            "|2013-01-05|Work Day  |\n",
            "|2013-01-12|Work Day  |\n",
            "|2013-02-11|Holiday   |\n",
            "|2013-02-12|Holiday   |\n",
            "|2013-04-29|Holiday   |\n",
            "|2013-05-01|Holiday   |\n",
            "+----------+----------+\n",
            "only showing top 20 rows\n",
            "\n"
          ]
        }
      ],
      "source": [
        "# We only want to use the Holiday/Additional,etc. data which counts for the whole country Ecuador\n",
        "modified_holidays_df = holidays_df.filter((col(\"transferred\") == False) & (col(\"locale\") == \"National\"))\n",
        "modified_holidays_df = modified_holidays_df.withColumn(\"type\", when(col(\"type\") == \"Transfer\", \"Holiday\").otherwise(col(\"type\")))\n",
        "\n",
        "modified_holidays_df = modified_holidays_df.select(\"date\", \"type\")\n",
        "modified_holidays_df.sort(col(\"date\")).show(truncate = False)"
      ]
    },
    {
      "cell_type": "code",
      "execution_count": 25,
      "metadata": {
        "id": "bv0_Yan0jZjI"
      },
      "outputs": [],
      "source": [
        "# Doing the merge of modified_holidays_df and merged_df\n",
        "merged_df = merged_df.join(modified_holidays_df, on=\"date\", how=\"left\")\n",
        "# The dates on which no holiday or something else encounted in the holiday_df takes place we insert \"Normal\" as a value\n",
        "merged_df = merged_df.withColumn(\"type\", when(merged_df[\"type\"].isNull(), \"Normal\").otherwise(merged_df[\"type\"]))"
      ]
    },
    {
      "cell_type": "markdown",
      "metadata": {
        "id": "9kafBXltjZjI"
      },
      "source": [
        "# Feature based prediction (fb)\n",
        "In the first trained model for predicting the sales volumes we use a normal feature based prediction without taking into account previous values."
      ]
    },
    {
      "cell_type": "markdown",
      "metadata": {
        "id": "R2JpI4uaXACO"
      },
      "source": [
        "## Data transformation/encoding"
      ]
    },
    {
      "cell_type": "code",
      "execution_count": 35,
      "metadata": {
        "id": "RKgkix21iz87"
      },
      "outputs": [],
      "source": [
        "# ## Data transformation/encoding\n",
        "transformed_df_fb = merged_df\n",
        "\n",
        "transformed_df_fb = transformed_df_fb.drop(\"date\")\n",
        "\n",
        "transformed_df_fb = transformed_df_fb.withColumnRenamed(\"day_of_week\", \"day_of_week_index\")\n",
        "transformed_df_fb = transformed_df_fb.withColumnRenamed(\"month\", \"month_index\")\n",
        "\n",
        "str_cat_cols_fb = [\"type\", \"family\"]\n",
        "cat_cols_fb = [\"day_of_week\", \"month\", \"type\", \"family\"]\n",
        "\n",
        "indexers_fb = [StringIndexer(inputCol=col, outputCol=col+\"_index\") for col in str_cat_cols_fb]\n",
        "encoders_fb = [OneHotEncoder(inputCol=col + \"_index\", outputCol=col + \"_encoded\") for col in cat_cols_fb]\n",
        "\n",
        "for encoder in encoders_fb:\n",
        "    encoder.setHandleInvalid(\"keep\")\n",
        "    encoder.setDropLast(True)\n",
        "\n",
        "feature_cols_fb = [\"day_of_week_encoded\", \"month_encoded\", \"type_encoded\", \"family_encoded\", \"transactions\", \"dcoilwtico\", \"onpromotion\"]\n"
      ]
    },
    {
      "cell_type": "markdown",
      "metadata": {
        "id": "ePBuO71rXBUQ"
      },
      "source": [
        "## Model training"
      ]
    },
    {
      "cell_type": "code",
      "execution_count": 36,
      "metadata": {
        "id": "umHFiPI1iz87"
      },
      "outputs": [],
      "source": [
        "##### MODEL TRAINING #####\n",
        "\n",
        "assembler_fb = VectorAssembler(inputCols=feature_cols_fb, outputCol=\"features\")\n",
        "\n",
        "gbt_fb = GBTRegressor(featuresCol=\"features\", labelCol=\"sales\", maxBins=33)\n",
        "\n",
        "pipeline_fb = Pipeline(stages= indexers_fb + encoders_fb + [assembler_fb, gbt_fb])\n",
        "\n",
        "# Hyperparameter Tuning\n",
        "paramGrid_fb = (ParamGridBuilder()\n",
        "             .addGrid(gbt_fb.maxDepth, [4, 6])\n",
        "             .addGrid(gbt_fb.maxIter, [50, 100])\n",
        "             .addGrid(gbt_fb.stepSize, [0.1, 0.01])\n",
        "             .build())\n",
        "\n",
        "evaluator_fb = RegressionEvaluator(labelCol=\"sales\", predictionCol=\"prediction\", metricName=\"mae\")\n",
        "\n",
        "crossval_fb = CrossValidator(estimator=pipeline_fb,\n",
        "                          estimatorParamMaps=paramGrid_fb,\n",
        "                          evaluator=evaluator_fb,\n",
        "                          numFolds=2)\n",
        "\n",
        "train_data_fb, test_data_fb = transformed_df_fb.randomSplit([0.8, 0.2], seed=12)\n",
        "cvModel_fb = crossval_fb.fit(train_data_fb)"
      ]
    },
    {
      "cell_type": "markdown",
      "metadata": {
        "id": "I9y3A2VN5MZr"
      },
      "source": [
        "## Evaluation"
      ]
    },
    {
      "cell_type": "markdown",
      "metadata": {
        "id": "tiD2R0gW5P1b"
      },
      "source": [
        "### Overall evaluation"
      ]
    },
    {
      "cell_type": "code",
      "execution_count": 37,
      "metadata": {
        "colab": {
          "base_uri": "https://localhost:8080/"
        },
        "id": "UlYC9hxk5L67",
        "outputId": "12823671-31f9-4dfe-9b38-238540efa22e"
      },
      "outputs": [
        {
          "output_type": "stream",
          "name": "stdout",
          "text": [
            "Mean Absolute Error (MAE): 1905.967244925685\n"
          ]
        }
      ],
      "source": [
        "# overall evaluation\n",
        "evaluation_fb_df = cvModel_fb.transform(test_data_fb)\n",
        "clipped_evaluation_fb_df = evaluation_fb_df.withColumn(\"clipped_predictions\", when(col(\"prediction\") < 0, 0).otherwise(col(\"prediction\")))\n",
        "evaluator_clipped_fb = RegressionEvaluator(labelCol=\"sales\", predictionCol=\"clipped_predictions\", metricName=\"mae\")\n",
        "mae_fb = evaluator_clipped_fb.evaluate(clipped_evaluation_fb_df)\n",
        "\n",
        "\n",
        "best_model_fb = cvModel_fb.bestModel\n",
        "\n",
        "print(\"Mean Absolute Error (MAE):\", mae_fb)"
      ]
    },
    {
      "cell_type": "code",
      "execution_count": 38,
      "metadata": {
        "colab": {
          "base_uri": "https://localhost:8080/"
        },
        "id": "J7ac8vuEjZjc",
        "outputId": "deb4ff80-887d-4839-8791-8ba3eb010805"
      },
      "outputs": [
        {
          "output_type": "stream",
          "name": "stdout",
          "text": [
            "+-----+-------------------+\n",
            "|sales|clipped_predictions|\n",
            "+-----+-------------------+\n",
            "|  1.0|                0.0|\n",
            "|148.0| 110.85402593289578|\n",
            "|163.0|                0.0|\n",
            "|165.0| 226.79417004182292|\n",
            "|165.0| 117.55854411733117|\n",
            "|166.0|                0.0|\n",
            "|168.0|                0.0|\n",
            "|171.0| 409.91934695378075|\n",
            "|172.0|                0.0|\n",
            "|174.0|  134.2926624541059|\n",
            "|175.0| 119.43791365653325|\n",
            "|177.0|                0.0|\n",
            "|178.0| 153.56906099353196|\n",
            "|181.0|                0.0|\n",
            "|182.0| 117.55854411733117|\n",
            "|185.0| 163.27193507129928|\n",
            "|187.0|   475.306948904008|\n",
            "|188.0| 122.04051128654345|\n",
            "|188.0|                0.0|\n",
            "|188.0|  98.35155642975084|\n",
            "+-----+-------------------+\n",
            "only showing top 20 rows\n",
            "\n"
          ]
        }
      ],
      "source": [
        "# Show the true sales values compared to the predicted ones\n",
        "clipped_evaluation_fb_df.select(\"sales\", \"clipped_predictions\").show()"
      ]
    },
    {
      "cell_type": "markdown",
      "metadata": {
        "id": "LG3tl8ObjZjc"
      },
      "source": [
        "### Product family wise evaluation"
      ]
    },
    {
      "cell_type": "code",
      "execution_count": 39,
      "metadata": {
        "id": "GAJjUtKe8mK-"
      },
      "outputs": [],
      "source": [
        "filtered_evaluation_fb_df = clipped_evaluation_fb_df.select(\"family\", \"sales\", \"clipped_predictions\")\n",
        "evaluator = RegressionEvaluator(labelCol=\"sales\", predictionCol=\"clipped_predictions\", metricName=\"mae\")\n",
        "unique_family_values = filtered_evaluation_fb_df.select(\"family\").distinct().rdd.flatMap(lambda x: x).collect()\n",
        "\n",
        "data = []\n",
        "for value in unique_family_values:\n",
        "  df_fb = filtered_evaluation_fb_df.filter(filtered_evaluation_fb_df['family'] == value)\n",
        "  mae_fb = evaluator.evaluate(df_fb)\n",
        "  mean_fb = df_fb.select(mean(\"sales\")).collect()[0][0]\n",
        "  row = Row(family=value, mean=mean_fb, mean_absolute_error=mae_fb)\n",
        "  data.append(row)\n",
        "\n",
        "family_evaluation_fb_df = spark.createDataFrame(data)"
      ]
    },
    {
      "cell_type": "code",
      "execution_count": 40,
      "metadata": {
        "colab": {
          "base_uri": "https://localhost:8080/"
        },
        "id": "Ghgw2zy_FPy3",
        "outputId": "187e6012-2d35-4894-91c1-09e04a86ab92"
      },
      "outputs": [
        {
          "output_type": "stream",
          "name": "stdout",
          "text": [
            "+-------------------+------------------+-------------------+\n",
            "|             family|              mean|mean_absolute_error|\n",
            "+-------------------+------------------+-------------------+\n",
            "|     PREPARED FOODS| 5141.945080599449| 411.48320453679656|\n",
            "|HOME AND KITCHEN II| 907.3264781491002| 452.37598695363795|\n",
            "|         LADIESWEAR| 390.2105263157895|  380.0063487115882|\n",
            "|    LAWN AND GARDEN| 322.6179401993355|  417.8014441169754|\n",
            "|          GROCERY I|205089.84175548586|  14239.59937873291|\n",
            "|          BABY CARE| 5.037037037037037|  165.9689595251374|\n",
            "|            PRODUCE| 73809.25362013609|  8759.565584057795|\n",
            "|         AUTOMOTIVE| 334.4111111111111|  351.4278632613651|\n",
            "|          BEVERAGES|132781.89349112427| 13031.310033687327|\n",
            "|          HOME CARE|  9948.34670487106|  1455.879540194073|\n",
            "|       BREAD/BAKERY|25217.575615404974| 1301.0665893728833|\n",
            "|              BOOKS|3.6402439024390243| 243.00860134513252|\n",
            "|           LINGERIE| 393.8510638297872| 418.87795278515284|\n",
            "|        CELEBRATION| 432.9970238095238| 472.06283739836016|\n",
            "|         GROCERY II|1188.2831325301204|  520.9505328707725|\n",
            "|              DAIRY| 38027.99724517906|   4104.28892919173|\n",
            "|          MAGAZINES|141.60224089635855|  263.0274528750365|\n",
            "|            SEAFOOD| 1229.687746745834|  583.5997261849172|\n",
            "|   LIQUOR,WINE,BEER| 4703.485013623978| 1281.6444215374358|\n",
            "| HOME AND KITCHEN I|1083.6739130434783|  608.7491785143548|\n",
            "+-------------------+------------------+-------------------+\n",
            "only showing top 20 rows\n",
            "\n"
          ]
        }
      ],
      "source": [
        "family_evaluation_fb_df.show()"
      ]
    },
    {
      "cell_type": "markdown",
      "metadata": {
        "id": "yAR7KybXjZjd"
      },
      "source": [
        "# Feature based prediction with Time lags (tl)"
      ]
    },
    {
      "cell_type": "markdown",
      "metadata": {
        "id": "BS2V5KaJWvw3"
      },
      "source": [
        "## Preprocessing"
      ]
    },
    {
      "cell_type": "code",
      "execution_count": 41,
      "metadata": {
        "id": "DhfzTvwuiz8-"
      },
      "outputs": [],
      "source": [
        "tl_df = merged_df # creating plain df for time-lagged data frame\n",
        "\n",
        "window_spec = Window.partitionBy(\"family\").orderBy(\"date\")\n",
        "\n",
        "# adding lags\n",
        "tl_df = tl_df.withColumn(\"lag_1\", F.lag(\"sales\", 1).over(window_spec))\n",
        "tl_df = tl_df.withColumn(\"lag_2\", F.lag(\"sales\", 2).over(window_spec))\n",
        "tl_df = tl_df.withColumn(\"lag_3\", F.lag(\"sales\", 3).over(window_spec))"
      ]
    },
    {
      "cell_type": "code",
      "execution_count": 42,
      "metadata": {
        "id": "zOunaI_oiz8-"
      },
      "outputs": [],
      "source": [
        "specific_date = \"2013-01-04\" # The Time lag dataframe should start from the \"2013-01-04\" because else there is no lag data for the first row\n",
        "specific_date = spark.createDataFrame([(specific_date,)], [\"specific_date\"]).withColumn(\"specific_date\", col(\"specific_date\").cast(DateType()))\n",
        "tl_df_filtered = tl_df.filter(col(\"date\") >= specific_date.select(\"specific_date\").collect()[0][0])"
      ]
    },
    {
      "cell_type": "markdown",
      "metadata": {
        "id": "5GpTYtT4W0Qf"
      },
      "source": [
        "## Data transformation/encoding"
      ]
    },
    {
      "cell_type": "code",
      "execution_count": 43,
      "metadata": {
        "id": "vtV4qfH0WyIf"
      },
      "outputs": [],
      "source": [
        "# Data transformation/encoding\n",
        "\n",
        "transformed_df_tl = tl_df_filtered\n",
        "\n",
        "transformed_df_tl = transformed_df_tl.withColumnRenamed(\"day_of_week\", \"day_of_week_index\")\n",
        "transformed_df_tl = transformed_df_tl.withColumnRenamed(\"month\", \"month_index\")\n",
        "\n",
        "str_cat_cols_tl = [\"type\", \"family\"]\n",
        "cat_cols_tl = [\"day_of_week\", \"month\", \"type\", \"family\"]\n",
        "\n",
        "indexers_tl = [StringIndexer(inputCol=col, outputCol=col+\"_index\") for col in str_cat_cols_tl]\n",
        "encoders_tl = [OneHotEncoder(inputCol=col + \"_index\", outputCol=col + \"_encoded\") for col in cat_cols_tl]\n",
        "\n",
        "for encoder in encoders_tl:\n",
        "    encoder.setHandleInvalid(\"keep\")\n",
        "    encoder.setDropLast(True)"
      ]
    },
    {
      "cell_type": "markdown",
      "metadata": {
        "id": "dwMVNNTBXG1w"
      },
      "source": [
        "## Model training"
      ]
    },
    {
      "cell_type": "code",
      "execution_count": 44,
      "metadata": {
        "id": "sIuodn1Wiz8_"
      },
      "outputs": [],
      "source": [
        "##### MODEL TRAINING #####\n",
        "\n",
        "feature_cols_tl = [\"day_of_week_encoded\", \"month_encoded\", \"type_encoded\", \"family_encoded\", \"transactions\", \"dcoilwtico\", \"onpromotion\", \"lag_1\", \"lag_2\", \"lag_3\"]\n",
        "\n",
        "assembler_tl = VectorAssembler(inputCols=feature_cols_tl, outputCol=\"features\")\n",
        "\n",
        "gbt_tl = GBTRegressor(featuresCol=\"features\", labelCol=\"sales\", maxBins=33)\n",
        "\n",
        "pipeline_tl = Pipeline(stages= indexers_tl + encoders_tl + [assembler_tl, gbt_tl])\n",
        "\n",
        "paramGrid_tl = (ParamGridBuilder()\n",
        "             .addGrid(gbt_tl.maxDepth, [4, 6])\n",
        "             .addGrid(gbt_tl.maxIter, [50, 100])\n",
        "             .addGrid(gbt_tl.stepSize, [0.1, 0.01])\n",
        "             .build())\n",
        "\n",
        "evaluator_tl = RegressionEvaluator(labelCol=\"sales\", predictionCol=\"prediction\", metricName=\"mae\")\n",
        "\n",
        "crossval_tl = CrossValidator(estimator=pipeline_tl,\n",
        "                          estimatorParamMaps=paramGrid_tl,\n",
        "                          evaluator=evaluator_tl,\n",
        "                          numFolds=2)\n",
        "\n",
        "train_data_tl, test_data_tl = transformed_df_tl.randomSplit([0.8, 0.2], seed=12)\n",
        "cvModel_tl = crossval_tl.fit(train_data_tl)\n"
      ]
    },
    {
      "cell_type": "markdown",
      "metadata": {
        "id": "71KROdBtXNfm"
      },
      "source": [
        "## Evaluation"
      ]
    },
    {
      "cell_type": "markdown",
      "metadata": {
        "id": "7DXdivWnXS5v"
      },
      "source": [
        "### Overall evaluation"
      ]
    },
    {
      "cell_type": "code",
      "execution_count": 45,
      "metadata": {
        "colab": {
          "base_uri": "https://localhost:8080/"
        },
        "id": "AVqKeGn7XU5v",
        "outputId": "a80cdc85-9a3d-48fd-dff8-acb823b0f7e2"
      },
      "outputs": [
        {
          "output_type": "stream",
          "name": "stderr",
          "text": [
            "WARNING:onnxmltools:The maximum opset needed by this model is only 13.\n",
            "WARNING:onnxmltools:The maximum opset needed by this model is only 12.\n"
          ]
        },
        {
          "output_type": "stream",
          "name": "stdout",
          "text": [
            "Mean Absolute Error (MAE): 1411.1886802332522\n"
          ]
        }
      ],
      "source": [
        "evaluation_tl_df = cvModel_tl.transform(test_data_tl)\n",
        "clipped_evaluation_tl_df = evaluation_tl_df.withColumn(\"clipped_predictions\", when(col(\"prediction\") < 0, 0).otherwise(col(\"prediction\")))\n",
        "\n",
        "evaluator_clipped_tl = RegressionEvaluator(labelCol=\"sales\", predictionCol=\"clipped_predictions\", metricName=\"mae\")\n",
        "mae_tl = evaluator_clipped_tl.evaluate(clipped_evaluation_tl_df)\n",
        "\n",
        "best_model_tl = cvModel_tl.bestModel\n",
        "\n",
        "initial_types_tl = buildInitialTypesSimple(test_data_tl.drop(\"sales\", 'date'))\n",
        "onnx_model_tl = convert_sparkml(best_model_tl, 'Pyspark model with time lags', initial_types_tl, spark_session = spark)\n",
        "\n",
        "print(\"Mean Absolute Error (MAE):\", mae_tl)"
      ]
    },
    {
      "cell_type": "code",
      "execution_count": 46,
      "metadata": {
        "colab": {
          "base_uri": "https://localhost:8080/"
        },
        "id": "5G0PziAbXYnw",
        "outputId": "a405a65b-612e-4684-997c-3ebde5abdb22"
      },
      "outputs": [
        {
          "output_type": "stream",
          "name": "stdout",
          "text": [
            "+------------------+-------------------+\n",
            "|             sales|clipped_predictions|\n",
            "+------------------+-------------------+\n",
            "|               0.0|   87.5578797723012|\n",
            "|           52064.0| 49276.798329687925|\n",
            "|               0.0|   87.5578797723012|\n",
            "|21625.963055000004|  18912.18481655763|\n",
            "|               0.0|   87.5578797723012|\n",
            "|               0.0|   87.5578797723012|\n",
            "|             342.0| 289.10657042633966|\n",
            "|               0.0|  153.8093433157469|\n",
            "|       13734.94501| 14619.432470161877|\n",
            "|            1273.0| 1267.7214890206214|\n",
            "|               0.0|  153.8093433157469|\n",
            "|           16819.0| 17789.576924622295|\n",
            "| 5830.073020000001|  7005.789679641159|\n",
            "|1245.6370040000002| 1267.7214890206214|\n",
            "|         26861.665| 29530.201870226552|\n",
            "|        6114.88201|  5654.389061647311|\n",
            "|              87.0|   155.945151926973|\n",
            "|               0.0| 117.53381548979003|\n",
            "|              17.0| 117.53381548979003|\n",
            "|               0.0| 117.53381548979003|\n",
            "+------------------+-------------------+\n",
            "only showing top 20 rows\n",
            "\n"
          ]
        }
      ],
      "source": [
        "# Show the true sales values compared to the predicted ones\n",
        "clipped_evaluation_tl_df.select(\"sales\", \"clipped_predictions\").show()"
      ]
    },
    {
      "cell_type": "markdown",
      "metadata": {
        "id": "5qx1YhD-XcpA"
      },
      "source": [
        "### Product family wise evaluation"
      ]
    },
    {
      "cell_type": "code",
      "execution_count": 47,
      "metadata": {
        "id": "8Y79yIoXXgZm"
      },
      "outputs": [],
      "source": [
        "filtered_evaluation_tl_df = clipped_evaluation_tl_df.select(\"family\", \"sales\", \"clipped_predictions\")\n",
        "evaluator = RegressionEvaluator(labelCol=\"sales\", predictionCol=\"clipped_predictions\", metricName=\"mae\")\n",
        "unique_family_values = filtered_evaluation_tl_df.select(\"family\").distinct().rdd.flatMap(lambda x: x).collect()\n",
        "\n",
        "data = []\n",
        "for value in unique_family_values:\n",
        "  df_tl = filtered_evaluation_tl_df.filter(filtered_evaluation_tl_df['family'] == value)\n",
        "  mae_tl = evaluator.evaluate(df_tl)\n",
        "  mean_tl = df_tl.select(mean(\"sales\")).collect()[0][0]\n",
        "  row = Row(family=value, mean=mean_tl, mean_absolute_error=mae_tl)\n",
        "  data.append(row)\n",
        "\n",
        "family_evaluation_tl_df = spark.createDataFrame(data)"
      ]
    },
    {
      "cell_type": "code",
      "execution_count": 48,
      "metadata": {
        "colab": {
          "base_uri": "https://localhost:8080/"
        },
        "id": "jRUikUc7Xkge",
        "outputId": "f36e5657-43bf-4599-d825-d8da7bbb29cf"
      },
      "outputs": [
        {
          "output_type": "stream",
          "name": "stdout",
          "text": [
            "+-------------------+------------------+-------------------+\n",
            "|             family|              mean|mean_absolute_error|\n",
            "+-------------------+------------------+-------------------+\n",
            "|     PREPARED FOODS| 5141.945080599449| 411.48320453679656|\n",
            "|HOME AND KITCHEN II| 907.3264781491002| 452.37598695363795|\n",
            "|         LADIESWEAR| 390.2105263157895|  380.0063487115882|\n",
            "|    LAWN AND GARDEN| 322.6179401993355|  417.8014441169754|\n",
            "|          GROCERY I|205089.84175548586|  14239.59937873291|\n",
            "|          BABY CARE| 5.037037037037037|  165.9689595251374|\n",
            "|            PRODUCE| 73809.25362013609|  8759.565584057795|\n",
            "|         AUTOMOTIVE| 334.4111111111111|  351.4278632613651|\n",
            "|          BEVERAGES|132781.89349112427| 13031.310033687327|\n",
            "|          HOME CARE|  9948.34670487106|  1455.879540194073|\n",
            "|       BREAD/BAKERY|25217.575615404974| 1301.0665893728833|\n",
            "|              BOOKS|3.6402439024390243| 243.00860134513252|\n",
            "|           LINGERIE| 393.8510638297872| 418.87795278515284|\n",
            "|        CELEBRATION| 432.9970238095238| 472.06283739836016|\n",
            "|         GROCERY II|1188.2831325301204|  520.9505328707725|\n",
            "|              DAIRY| 38027.99724517906|   4104.28892919173|\n",
            "|          MAGAZINES|141.60224089635855|  263.0274528750365|\n",
            "|            SEAFOOD| 1229.687746745834|  583.5997261849172|\n",
            "|   LIQUOR,WINE,BEER| 4703.485013623978| 1281.6444215374358|\n",
            "| HOME AND KITCHEN I|1083.6739130434783|  608.7491785143548|\n",
            "+-------------------+------------------+-------------------+\n",
            "only showing top 20 rows\n",
            "\n"
          ]
        }
      ],
      "source": [
        "family_evaluation_fb_df.show()"
      ]
    }
  ],
  "metadata": {
    "colab": {
      "provenance": []
    },
    "kernelspec": {
      "display_name": "Python 3 (ipykernel)",
      "language": "python",
      "name": "python3"
    },
    "language_info": {
      "codemirror_mode": {
        "name": "ipython",
        "version": 3
      },
      "file_extension": ".py",
      "mimetype": "text/x-python",
      "name": "python",
      "nbconvert_exporter": "python",
      "pygments_lexer": "ipython3",
      "version": "3.11.6"
    }
  },
  "nbformat": 4,
  "nbformat_minor": 0
}